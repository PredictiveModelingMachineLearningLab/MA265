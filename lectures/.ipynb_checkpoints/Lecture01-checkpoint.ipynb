{
 "cells": [
  {
   "cell_type": "markdown",
   "metadata": {},
   "source": [
    "# Section 1.1  Systems of Linear Equations\n",
    "## Definitions\n",
    "- The equation\n",
    "$$a_1 x_1 + a_2 x_2 + \\cdots + a_n x_n = b \\qquad\\qquad (1)$$\n",
    "is called a $$\\underline{\\hspace{1.5in}}$$.\n",
    "- A sequence of numbers $s_1$, $s_2$, $\\cdots$, $s_n$ such that (1) is satisfied when $x_1=s_1$, $x_2=s_2$, $\\cdots$, $x_n=s_n$ is called $\\underline{\\hspace{1.5in}}$.\n",
    " - More generally, the following system of equations\n",
    " \\begin{eqnarray*}\n",
    "  a_{11}x_1 + a_{12}x_2 + \\cdots + a_{1n}x_n&=& b_1 \\nonumber\\\\\n",
    "  a_{21}x_1 + a_{22}x_2 + \\cdots + a_{2n}x_n&=& b_2 \\qquad\\qquad (2)\\\\\n",
    "  \\vdots\\qquad\\qquad\\vdots\\qquad\\qquad &=& \\vdots\\nonumber \\\\\n",
    "  a_{m1}x_1 + a_{m2}x_2 + \\cdots + a_{mn}x_n&=& b_m \\nonumber\n",
    " \\end{eqnarray*}\n",
    " \n",
    " is called a $$\\underline{\\hspace{3.5in}}$$.\n",
    "\n",
    "    A $$\\underline{\\hspace{1.5in}}$$ to the linear system (2) is a sequence of $$n$$ numbers $$s_1$$, $$s_2$$, $$\\cdots$$, $$s_n$$ which satisfies each equation in (2) when $x_1=s_1$, $x_2=s_2$, $\\cdots$, $x_n=s_n$.\n",
    "\n",
    " - If the linear system (2) has no solution, it is said to be $\\underline{\\hspace{1.5in}}$.\n",
    "\n",
    "    If the linear system (2) has  a solution, it is called $\\underline{\\hspace{1.5in}}$.\n",
    "\n",
    " - If $b_1 = b_2 = \\cdots = b_m = 0$, then (2) is called a $\\underline{\\hspace{2in}}$; otherwise it is called a $\\underline{\\hspace{2in}}$.\n",
    "\n",
    " - Note that $x_1 = x_2 = \\cdots = x_n = 0$ is always a solution to a homogeneous system, and it is called the $\\underline{\\hspace{1.5in}}$.\n",
    "\n",
    "    A nonzero solution to a homogeneous system is called a $\\underline{\\hspace{1.5in}}$.\n",
    "\n",
    " - If there is another system of $r$ linear equations in $n$ unknowns:\n",
    "\\begin{eqnarray}\n",
    "  c_{11}x_1 + c_{12}x_2 + \\cdots + c_{1n}x_n&=& d_1 \\\\\n",
    "  c_{21}x_1 + c_{22}x_2 + \\cdots + c_{2n}x_n&=& d_2 \\qquad\\qquad (3)\\\\\n",
    "  \\vdots\\qquad\\qquad\\vdots\\qquad\\qquad &=& \\vdots\\\\\n",
    "  c_{r1}x_1 + c_{r2}x_2 + \\cdots + c_{rn}x_n&=& d_r\n",
    "\\end{eqnarray}\n",
    "has exactly the same solution to (2), then we say they are $\\underline{\\hspace{1.5in}}$.\n",
    "\n",
    "## Method of Elimination\n",
    "$\\underline{\\text{idea}}$: eliminating some variables by adding a multiple of one equation to another to make an equivalent system which is simpler to solve.\n",
    "\n",
    "### Example 1\n",
    "Solve the linear system\n",
    "\\begin{eqnarray*}\n",
    "  x-3y &=& -7 \\\\\n",
    "  2x-6y &=& 7\n",
    "\\end{eqnarray*}\n",
    "\n"
   ]
  },
  {
   "cell_type": "code",
   "execution_count": null,
   "metadata": {
    "collapsed": true
   },
   "outputs": [],
   "source": [
    "import numpy as np \n",
    "import matplotlib"
   ]
  },
  {
   "cell_type": "markdown",
   "metadata": {},
   "source": [
    "### Example 2\n",
    "Solve the linear system\n",
    "\\begin{eqnarray*}\n",
    "  x+2y+3z &=& 6 \\\\\n",
    "  2x-3y+2z &=& 14 \\\\\n",
    "  3x+y-z &=& -2\n",
    "\\end{eqnarray*}"
   ]
  },
  {
   "cell_type": "code",
   "execution_count": null,
   "metadata": {
    "collapsed": true
   },
   "outputs": [],
   "source": []
  },
  {
   "cell_type": "markdown",
   "metadata": {},
   "source": [
    "### Example 3\n",
    "Solve the linear system\n",
    "\\begin{eqnarray*}\n",
    "% \\nonumber to remove numbering (before each equation)\n",
    "  x+2y-3z &=& -4 \\\\\n",
    "  2x+y-3z &=& 4\n",
    "\\end{eqnarray*}"
   ]
  },
  {
   "cell_type": "code",
   "execution_count": null,
   "metadata": {
    "collapsed": true
   },
   "outputs": [],
   "source": []
  },
  {
   "cell_type": "markdown",
   "metadata": {},
   "source": [
    "**Remark:** a linear system may have\n",
    "\\begin{equation*}\n",
    "  \\hspace{-1in}\\bullet\\hspace{2in}\\bullet\\hspace{2in}\\bullet\\hspace{1in}\n",
    "\\end{equation*}\n",
    "\n",
    "## A geometrical explanation\n",
    "Consider a linear system of two equations in two unknowns $x$ and $y$:\n",
    "\\begin{eqnarray*}\n",
    "  a_1x + b_1y &=& c_1 \\\\\n",
    "  a_2x + b_2y &=& c_2\n",
    "\\end{eqnarray*}"
   ]
  },
  {
   "cell_type": "code",
   "execution_count": null,
   "metadata": {
    "collapsed": true
   },
   "outputs": [],
   "source": []
  }
 ],
 "metadata": {
  "kernelspec": {
   "display_name": "Python 2",
   "language": "python",
   "name": "python2"
  },
  "language_info": {
   "codemirror_mode": {
    "name": "ipython",
    "version": 2
   },
   "file_extension": ".py",
   "mimetype": "text/x-python",
   "name": "python",
   "nbconvert_exporter": "python",
   "pygments_lexer": "ipython2",
   "version": "2.7.11"
  },
  "latex_envs": {
   "bibliofile": "biblio.bib",
   "cite_by": "number",
   "current_citInitial": 1,
   "eqLabelWithNumbers": true,
   "eqNumInitial": 0
  }
 },
 "nbformat": 4,
 "nbformat_minor": 0
}
