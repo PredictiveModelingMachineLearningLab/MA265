{
 "cells": [
  {
   "cell_type": "markdown",
   "metadata": {},
   "source": [
    "# Section 1.1 $\\quad$ Systems of Linear Equations"
   ]
  },
  {
   "cell_type": "markdown",
   "metadata": {},
   "source": [
    "## Definitions"
   ]
  },
  {
   "cell_type": "markdown",
   "metadata": {},
   "source": [
    "- The equation\n",
    "$$a_1x_1 + a_2x_2 + \\cdots + a_nx_n = b \\qquad\\qquad (1)$$\n",
    "is called a $\\underline{\\hspace{1.5in}}$."
   ]
  },
  {
   "cell_type": "markdown",
   "metadata": {},
   "source": [
    "- A sequence of numbers $s_1$, $s_2$, $\\cdots$, $s_n$ such that (1) is satisfied when $x_1=s_1$, $x_2=s_2$, $\\cdots$, $x_n=s_n$ is called $\\underline{\\hspace{1.5in}}$."
   ]
  },
  {
   "cell_type": "markdown",
   "metadata": {},
   "source": [
    "- More generally, the following system of equations\n",
    " \\begin{eqnarray*}\n",
    "  a_{11}x_1 + a_{12}x_2 + \\cdots + a_{1n}x_n&=& b_1 \\\\\n",
    "  a_{21}x_1 + a_{22}x_2 + \\cdots + a_{2n}x_n&=& b_2 \\qquad\\qquad (2)\\\\\n",
    "  \\vdots\\qquad\\qquad\\vdots\\qquad\\qquad &=& \\vdots \\\\\n",
    "  a_{m1}x_1 + a_{m2}x_2 + \\cdots + a_{mn}x_n&=& b_m \n",
    " \\end{eqnarray*}\n",
    " is called a $\\underline{\\hspace{3.5in}}$.\n",
    " \n",
    "    A $\\underline{\\hspace{1.5in}}$ to the linear system (2) is a sequence of $n$ numbers $s_1$, $s_2$, $\\cdots$, $s_n$ which satisfies each equation in (2) when $x_1=s_1$, $x_2=s_2$, $\\cdots$, $x_n=s_n$."
   ]
  },
  {
   "cell_type": "markdown",
   "metadata": {},
   "source": [
    "- If the linear system (2) has no solution, it is said to be $\\underline{\\hspace{1.5in}}$.\n",
    "\n",
    "    If the linear system (2) has  a solution, it is called $\\underline{\\hspace{1.5in}}$."
   ]
  },
  {
   "cell_type": "markdown",
   "metadata": {},
   "source": [
    "- If $b_1 = b_2 = \\cdots = b_m = 0$, then (2) is called a $\\underline{\\hspace{2in}}$; otherwise it is called a $\\underline{\\hspace{2in}}$."
   ]
  },
  {
   "cell_type": "markdown",
   "metadata": {},
   "source": [
    "- Note that $x_1 = x_2 = \\cdots = x_n = 0$ is always a solution to a homogeneous system, and it is called the $\\underline{\\hspace{1.5in}}$. \n",
    "\n",
    "    A nonzero solution to a homogeneous system is called a $\\underline{\\hspace{1.5in}}$."
   ]
  },
  {
   "cell_type": "markdown",
   "metadata": {},
   "source": [
    "- If there is another system of $r$ linear equations in $n$ unknowns:\n",
    "\\begin{eqnarray}\n",
    "  c_{11}x_1 + c_{12}x_2 + \\cdots + c_{1n}x_n&=& d_1 \\\\\n",
    "  c_{21}x_1 + c_{22}x_2 + \\cdots + c_{2n}x_n&=& d_2 \\qquad\\qquad (3)\\\\\n",
    "  \\vdots\\qquad\\qquad\\vdots\\qquad\\qquad &=& \\vdots\\\\\n",
    "  c_{r1}x_1 + c_{r2}x_2 + \\cdots + c_{rn}x_n&=& d_r \n",
    "\\end{eqnarray}\n",
    "has exactly the same solution to (2), then we say they are $\\underline{\\hspace{1.5in}}$."
   ]
  },
  {
   "cell_type": "markdown",
   "metadata": {
    "collapsed": true
   },
   "source": [
    "## Method of Elimination\n",
    "$\\underline{\\text{idea}}$: eliminating some variables by adding a multiple of one equation to another to make an equivalent system which is simpler to solve."
   ]
  },
  {
   "cell_type": "markdown",
   "metadata": {},
   "source": [
    "### Example 1\n",
    "Solve the linear system\n",
    "\\begin{eqnarray*}\n",
    "  x-3y &=& -7 \\\\\n",
    "  2x-6y &=& 7\n",
    "\\end{eqnarray*}"
   ]
  },
  {
   "cell_type": "code",
   "execution_count": 6,
   "metadata": {
    "collapsed": false
   },
   "outputs": [
    {
     "data": {
      "text/plain": [
       "[]"
      ]
     },
     "execution_count": 6,
     "metadata": {},
     "output_type": "execute_result"
    }
   ],
   "source": [
    "from sympy import *\n",
    "\n",
    "x, y = symbols('x y');\n",
    "\n",
    "eq1 = x - 3*y + 7;\n",
    "eq2 = 2*x - 6*y - 7;\n",
    "\n",
    "solve([eq1, eq2], (x, y))"
   ]
  },
  {
   "cell_type": "markdown",
   "metadata": {},
   "source": [
    "### Example 2 \n",
    "Solve the linear system\n",
    "\\begin{eqnarray*}\n",
    "  x+2y+3z &=& 6 \\\\\n",
    "  2x-3y+2z &=& 14 \\\\\n",
    "  3x+y-z &=& -2\n",
    "\\end{eqnarray*}"
   ]
  },
  {
   "cell_type": "code",
   "execution_count": 3,
   "metadata": {
    "collapsed": false
   },
   "outputs": [
    {
     "data": {
      "text/plain": [
       "{x: 1, z: 3, y: -2}"
      ]
     },
     "execution_count": 3,
     "metadata": {},
     "output_type": "execute_result"
    }
   ],
   "source": [
    "from sympy import *\n",
    "\n",
    "x, y, z = symbols('x y z');\n",
    "\n",
    "eq1 = x + 2*y + 3*z - 6;\n",
    "eq2 = 2*x - 3*y + 2*z - 14;\n",
    "eq3 = 3*x + y - z + 2;\n",
    "\n",
    "solve([eq1, eq2, eq3], (x, y, z))"
   ]
  },
  {
   "cell_type": "markdown",
   "metadata": {},
   "source": [
    "### Example 3\n",
    "Solve the linear system\n",
    "\\begin{eqnarray*}\n",
    "% \\nonumber to remove numbering (before each equation)\n",
    "  x+2y-3z &=& -4 \\\\\n",
    "  2x+y-3z &=& 4\n",
    "\\end{eqnarray*}"
   ]
  },
  {
   "cell_type": "code",
   "execution_count": 4,
   "metadata": {
    "collapsed": false
   },
   "outputs": [
    {
     "data": {
      "text/plain": [
       "{x: z + 4, y: z - 4}"
      ]
     },
     "execution_count": 4,
     "metadata": {},
     "output_type": "execute_result"
    }
   ],
   "source": [
    "from sympy import *\n",
    "\n",
    "x, y, z = symbols('x y z');\n",
    "\n",
    "eq1 = x + 2*y - 3*z + 4;\n",
    "eq2 = 2*x + y - 3*z - 4;\n",
    "\n",
    "solve([eq1, eq2], (x, y, z))"
   ]
  },
  {
   "cell_type": "markdown",
   "metadata": {},
   "source": [
    "**Remark:** a linear system may have\n",
    "\\begin{equation*}\n",
    "  \\hspace{-1in}\\bullet\\hspace{2in}\\bullet\\hspace{2in}\\bullet\\hspace{1in}\n",
    "\\end{equation*}"
   ]
  },
  {
   "cell_type": "markdown",
   "metadata": {},
   "source": [
    "## A geometrical explanation\n",
    "Consider a linear system of two equations in two unknowns $x$ and $y$:\n",
    "\\begin{eqnarray*}\n",
    "  a_1x + b_1y &=& c_1 \\\\\n",
    "  a_2x + b_2y &=& c_2\n",
    "\\end{eqnarray*}"
   ]
  },
  {
   "cell_type": "code",
   "execution_count": 5,
   "metadata": {
    "collapsed": false
   },
   "outputs": [
    {
     "data": {
      "text/plain": [
       "{x: (-b1*c2 + b2*c1)/(a1*b2 - a2*b1), y: (a1*c2 - a2*c1)/(a1*b2 - a2*b1)}"
      ]
     },
     "execution_count": 5,
     "metadata": {},
     "output_type": "execute_result"
    }
   ],
   "source": [
    "from sympy import *\n",
    "\n",
    "x, y, a1, b1, a2, b2, c1, c2 = symbols('x y a1 b1 a2 b2 c1 c2');\n",
    "\n",
    "eq1 = a1*x + b1*y - c1;\n",
    "eq2 = a2*x + b2*y - c2;\n",
    "\n",
    "solve([eq1, eq2], (x, y))"
   ]
  },
  {
   "cell_type": "code",
   "execution_count": null,
   "metadata": {
    "collapsed": true
   },
   "outputs": [],
   "source": []
  }
 ],
 "metadata": {
  "kernelspec": {
   "display_name": "Python 2",
   "language": "python",
   "name": "python2"
  },
  "language_info": {
   "codemirror_mode": {
    "name": "ipython",
    "version": 2
   },
   "file_extension": ".py",
   "mimetype": "text/x-python",
   "name": "python",
   "nbconvert_exporter": "python",
   "pygments_lexer": "ipython2",
   "version": "2.7.11"
  }
 },
 "nbformat": 4,
 "nbformat_minor": 0
}
