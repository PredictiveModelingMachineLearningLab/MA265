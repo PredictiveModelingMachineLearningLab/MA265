{
 "cells": [
  {
   "cell_type": "markdown",
   "metadata": {},
   "source": [
    "# Section 1.2 $\\quad$ Matrices"
   ]
  },
  {
   "cell_type": "markdown",
   "metadata": {},
   "source": [
    "## Definitions"
   ]
  },
  {
   "cell_type": "markdown",
   "metadata": {},
   "source": [
    "- A rectangular array of $m\\times n$ real or complex numbers arranged in $m$ horizontal **rows** and $n$ vertical **columns**:\n",
    "$$\n",
    "    A =\n",
    "    \\left[\n",
    "      \\begin{array}{cccc}\n",
    "          a_{11} & a_{12} & \\cdots & a_{1n} \\\\\n",
    "          a_{21} & a_{22} & \\cdots & a_{2n} \\\\\n",
    "          \\vdots & \\vdots & \\ddots & \\vdots \\\\\n",
    "          a_{m1} & a_{m2} & \\cdots & a_{mn} \\\\\n",
    "      \\end{array}\n",
    "    \\right]\\qquad\\qquad (1)\n",
    "$$\n",
    "    is called an $\\underline{\\hspace{1.5in}}$. We say that the matrix $A$ is $\\underline{\\hspace{1in}}$."
   ]
  },
  {
   "cell_type": "markdown",
   "metadata": {},
   "source": [
    "- The $i$**th row** and the $j$**th column** of $A$ are <br /><br /><br /><br /><br /><br /><br />"
   ]
  },
  {
   "cell_type": "markdown",
   "metadata": {},
   "source": [
    "- If $m=n$, we say that $A$ is a $\\underline{\\hspace{2in}}$, and that the numbers $a_{11}$, $a_{22}$, $\\cdots$, $a_{nn}$ form the $\\underline{\\hspace{1in}}$ of $A$."
   ]
  },
  {
   "cell_type": "markdown",
   "metadata": {},
   "source": [
    "- The number $a_{ij}$ is called the $\\underline{\\hspace{1.5in}}$ of $A$, or the $\\underline{\\hspace{1.5in}}$ of $A$. We can write the matrix $A$ as <br /><br /><br /><br />"
   ]
  },
  {
   "cell_type": "markdown",
   "metadata": {},
   "source": [
    "- An $n\\times 1$ matrix is called an $\\underline{\\hspace{1.5in}}$ or a $\\underline{\\hspace{1.5in}}$ when $n$ is understood."
   ]
  },
  {
   "cell_type": "markdown",
   "metadata": {},
   "source": [
    "- Two $m\\times n$ matrices $A = [a_{ij}]$ and $B = [b_{ij}]$ are **equal** if <br /><br /><br /><br /><br /><br /><br />"
   ]
  },
  {
   "cell_type": "markdown",
   "metadata": {},
   "source": [
    "### Example 1"
   ]
  },
  {
   "cell_type": "markdown",
   "metadata": {},
   "source": [
    "Examples of matrices\n",
    "$$\n",
    "  A = \\left[\n",
    "     \\begin{array}{ccc}\n",
    "       1 & 2 & 3 \\\\\n",
    "     -1 & 0 & 1 \\\\\n",
    "     \\end{array}\n",
    "   \\right],\\quad\n",
    "  B = \\left[\n",
    "     \\begin{array}{cc}\n",
    "       1+i & 4i \\\\\n",
    "       2-3i & -3 \\\\\n",
    "     \\end{array}\n",
    "   \\right],\\quad\n",
    "  C = \\left[\n",
    "     \\begin{array}{c}\n",
    "       1\\\\\n",
    "       -1\\\\\n",
    "       2 \\\\\n",
    "     \\end{array}\n",
    "   \\right].\n",
    "$$"
   ]
  },
  {
   "cell_type": "markdown",
   "metadata": {},
   "source": [
    "### Example 2"
   ]
  },
  {
   "cell_type": "markdown",
   "metadata": {},
   "source": [
    "If\n",
    "$$\n",
    "  \\left[\n",
    "    \\begin{array}{cc}\n",
    "      a+2b & 2a-b \\\\\n",
    "      2c+d & c-2d \\\\\n",
    "    \\end{array}\n",
    "  \\right] =\n",
    "  \\left[\n",
    "    \\begin{array}{cc}\n",
    "      4 & -2 \\\\\n",
    "      4 & -3 \\\\\n",
    "    \\end{array}\n",
    "  \\right]\n",
    "$$\n",
    "find $a,b,c$, and $d$."
   ]
  },
  {
   "cell_type": "code",
   "execution_count": 1,
   "metadata": {
    "collapsed": false
   },
   "outputs": [
    {
     "data": {
      "text/plain": [
       "{c: 1, b: 2, a: 0, d: 2}"
      ]
     },
     "execution_count": 1,
     "metadata": {},
     "output_type": "execute_result"
    }
   ],
   "source": [
    "from sympy import *\n",
    "\n",
    "a, b, c, d = symbols('a b c d');\n",
    "\n",
    "eq1 = a + 2*b - 4;\n",
    "eq2 = 2*a - b + 2;\n",
    "eq3 = 2*c + d - 4;\n",
    "eq4 = c - 2*d + 3;\n",
    "\n",
    "solve([eq1, eq2, eq3, eq4], (a, b, c, d))"
   ]
  },
  {
   "cell_type": "markdown",
   "metadata": {},
   "source": [
    "## Matrix Operations"
   ]
  },
  {
   "cell_type": "markdown",
   "metadata": {},
   "source": [
    "**Addition**: If $A = [a_{ij}]$ and $B = [b_{ij}]$ are both $m\\times n$ matrices, then the \\textbf{sum} $A+B$ is an $m\\times n$ matrix $C = [c_{ij}]$ defined by <br /><br /><br /><br />"
   ]
  },
  {
   "cell_type": "markdown",
   "metadata": {},
   "source": [
    "### Example 3"
   ]
  },
  {
   "cell_type": "markdown",
   "metadata": {},
   "source": [
    "Let\n",
    "$$\n",
    "  A =\n",
    "  \\left[\n",
    "    \\begin{array}{ccc}\n",
    "      1 & -2 & 3 \\\\\n",
    "      2 & -1 & 4 \\\\\n",
    "    \\end{array}\n",
    "  \\right], ~~~~\n",
    "  B =\n",
    "  \\left[\n",
    "    \\begin{array}{ccc}\n",
    "      0 & 2 & 1 \\\\\n",
    "      1 & 3 & -4 \\\\\n",
    "    \\end{array}\n",
    "  \\right].\n",
    "$$\n",
    "Then\n",
    "$$\n",
    "  A + B = \\hspace{4in}\n",
    "$$\n",
    "<br /><br /><br /><br />"
   ]
  },
  {
   "cell_type": "code",
   "execution_count": 2,
   "metadata": {
    "collapsed": false
   },
   "outputs": [
    {
     "data": {
      "text/plain": [
       "Matrix([\n",
       "[1, 0, 4],\n",
       "[3, 2, 0]])"
      ]
     },
     "execution_count": 2,
     "metadata": {},
     "output_type": "execute_result"
    }
   ],
   "source": [
    "from sympy import *\n",
    "\n",
    "A = Matrix([[1, -2, 3], [2, -1, 4]]);\n",
    "B = Matrix([[0, 2, 1], [1, 3, -4]]);\n",
    "\n",
    "A + B"
   ]
  },
  {
   "cell_type": "markdown",
   "metadata": {},
   "source": [
    "**Remark:** the sum of $A$ and $B$ is defined only when $\\underline{\\hspace{3in}}$."
   ]
  },
  {
   "cell_type": "markdown",
   "metadata": {},
   "source": [
    "## Scalar Multiplication"
   ]
  },
  {
   "cell_type": "markdown",
   "metadata": {},
   "source": [
    "If $A = [a_{ij}]$ is an $m\\times n$ matrix and $r$ is a real number, then the \\textbf{scalar multiple} of $A$ by $r$ is an $m\\times n$ matrix $C = [c_{ij}]$ where <br /><br /><br /><br />"
   ]
  },
  {
   "cell_type": "markdown",
   "metadata": {},
   "source": [
    "### Example 4"
   ]
  },
  {
   "cell_type": "markdown",
   "metadata": {},
   "source": [
    "Let\n",
    "$$\n",
    "  A =\n",
    "  \\left[\n",
    "    \\begin{array}{ccc}\n",
    "      1 & -2 & 3 \\\\\n",
    "      2 & -1 & 4 \\\\\n",
    "    \\end{array}\n",
    "  \\right], ~~~~\n",
    "  B =\n",
    "  \\left[\n",
    "    \\begin{array}{ccc}\n",
    "      0 & 2 & 1 \\\\\n",
    "      1 & 3 & -4 \\\\\n",
    "    \\end{array}\n",
    "  \\right].\n",
    "$$\n",
    "Then\n",
    "$$\n",
    "  5A = \\hspace{4in}\n",
    "$$\n",
    "<br /><br /><br /><br />\n",
    "$$\n",
    "  A-B = \\hspace{4in}                 \n",
    "$$\n",
    "<br /><br /><br /><br />"
   ]
  },
  {
   "cell_type": "code",
   "execution_count": 3,
   "metadata": {
    "collapsed": false
   },
   "outputs": [
    {
     "data": {
      "text/plain": [
       "Matrix([\n",
       "[ 5, -10, 15],\n",
       "[10,  -5, 20]])"
      ]
     },
     "execution_count": 3,
     "metadata": {},
     "output_type": "execute_result"
    }
   ],
   "source": [
    "from sympy import *\n",
    "\n",
    "A = Matrix([[1, -2, 3], [2, -1, 4]]);\n",
    "B = Matrix([[0, 2, 1], [1, 3, -4]]);\n",
    "\n",
    "5*A"
   ]
  },
  {
   "cell_type": "code",
   "execution_count": 4,
   "metadata": {
    "collapsed": false
   },
   "outputs": [
    {
     "data": {
      "text/plain": [
       "Matrix([\n",
       "[1, -4, 2],\n",
       "[1, -4, 8]])"
      ]
     },
     "execution_count": 4,
     "metadata": {},
     "output_type": "execute_result"
    }
   ],
   "source": [
    "from sympy import *\n",
    "\n",
    "A = Matrix([[1, -2, 3], [2, -1, 4]]);\n",
    "B = Matrix([[0, 2, 1], [1, 3, -4]]);\n",
    "\n",
    "A - B"
   ]
  },
  {
   "cell_type": "markdown",
   "metadata": {},
   "source": [
    "## More Definitions"
   ]
  },
  {
   "cell_type": "markdown",
   "metadata": {
    "collapsed": true
   },
   "source": [
    "- If $A_1,A_2,\\cdots,A_k$ are matrices of the same dimension, and $c_1,c_2,\\cdots,c_k$ are real numbers, then\n",
    "$$\n",
    "  c_1A_1 + c_2A_2 + \\cdots + c_kA_k \\qquad\\qquad (2)\n",
    "$$\n",
    "    is called a $\\underline{\\hspace{2.5in}}$ of $A_1,A_2,\\cdots,A_k$. <br />\n",
    "\n",
    "    The numbers $c_1,c_2,\\cdots,c_k$ are called $\\underline{\\hspace{1.5in}}$."
   ]
  },
  {
   "cell_type": "markdown",
   "metadata": {},
   "source": [
    "- The linear combination (2) can be expressed using summation notation: <br /><br /><br /><br />"
   ]
  },
  {
   "cell_type": "markdown",
   "metadata": {},
   "source": [
    "- If $A = [a_{ij}]$ is an $m\\times n$ matrix, then the $\\underline{\\hspace{1.5in}}$ of $A$ is an $n\\times m$ matrix $A^T = [a_{ij}^T]$ defined by\n",
    "$$\n",
    "        a_{ij}^T = \\qquad\\qquad\\qquad\\qquad\n",
    "$$"
   ]
  },
  {
   "cell_type": "markdown",
   "metadata": {},
   "source": [
    "### Example 5"
   ]
  },
  {
   "cell_type": "markdown",
   "metadata": {},
   "source": [
    "Let\n",
    "$$\n",
    "  A =\n",
    "  \\left[\n",
    "    \\begin{array}{ccc}\n",
    "      1 & -2 & 3 \\\\\n",
    "      2 & -1 & 4 \\\\\n",
    "    \\end{array}\n",
    "  \\right]\n",
    "$$\n",
    "Then\n",
    "$$\n",
    "  A^T = \\hspace{4in}\n",
    "$$  \n",
    "<br /><br /><br /><br />"
   ]
  },
  {
   "cell_type": "code",
   "execution_count": 5,
   "metadata": {
    "collapsed": false
   },
   "outputs": [
    {
     "data": {
      "text/plain": [
       "Matrix([\n",
       "[ 1,  2],\n",
       "[-2, -1],\n",
       "[ 3,  4]])"
      ]
     },
     "execution_count": 5,
     "metadata": {},
     "output_type": "execute_result"
    }
   ],
   "source": [
    "from sympy import *\n",
    "\n",
    "A = Matrix([[1, -2, 3], [2, -1, 4]]);\n",
    "\n",
    "A.T"
   ]
  },
  {
   "cell_type": "markdown",
   "metadata": {},
   "source": [
    "### Example 6"
   ]
  },
  {
   "cell_type": "markdown",
   "metadata": {},
   "source": [
    "Suppose $A$ and $B$ are both $m\\times n$ matrices. Then\n",
    "$$\n",
    "  (2A + 3B)^T = \\hspace{4in}\n",
    "$$\n",
    "<br /><br /><br /><br />\n",
    "$$\n",
    "  (A^T)^T = \\hspace{4in}\n",
    "$$\n",
    "<br /><br /><br /><br />\n",
    "$$\n",
    "  (A - 2B^T)^T = \\hspace{4in}\n",
    "$$\n",
    "<br /><br /><br /><br />"
   ]
  }
 ],
 "metadata": {
  "kernelspec": {
   "display_name": "Python 2",
   "language": "python",
   "name": "python2"
  },
  "language_info": {
   "codemirror_mode": {
    "name": "ipython",
    "version": 2
   },
   "file_extension": ".py",
   "mimetype": "text/x-python",
   "name": "python",
   "nbconvert_exporter": "python",
   "pygments_lexer": "ipython2",
   "version": "2.7.11"
  }
 },
 "nbformat": 4,
 "nbformat_minor": 0
}
