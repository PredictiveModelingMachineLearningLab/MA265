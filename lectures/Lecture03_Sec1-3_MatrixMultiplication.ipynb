{
 "cells": [
  {
   "cell_type": "markdown",
   "metadata": {
    "collapsed": true
   },
   "source": [
    "# Section 1.3 $\\quad$ Matrix Multiplication"
   ]
  },
  {
   "cell_type": "markdown",
   "metadata": {},
   "source": [
    "## Definitions"
   ]
  },
  {
   "cell_type": "markdown",
   "metadata": {},
   "source": [
    "- The **dot product** or **inner product**, of the $n$-vectors in $\\mathbb{R}^n$\n",
    "$$\n",
    "    \\mathbf{a} =\n",
    "    \\left[\n",
    "      \\begin{array}{c}\n",
    "        a_1 \\\\\n",
    "        a_2 \\\\\n",
    "        \\vdots \\\\\n",
    "        a_n \\\\\n",
    "      \\end{array}\n",
    "    \\right] ~~~~~\\text{and}~~~~~\n",
    "    \\mathbf{b} =\n",
    "    \\left[\n",
    "      \\begin{array}{c}\n",
    "        b_1 \\\\\n",
    "        b_2 \\\\\n",
    "        \\vdots \\\\\n",
    "        b_n \\\\\n",
    "      \\end{array}\n",
    "    \\right]\n",
    "$$\n",
    "    is defined as <br /><br /><br /><br />"
   ]
  },
  {
   "cell_type": "markdown",
   "metadata": {},
   "source": [
    "### Example 1"
   ]
  },
  {
   "cell_type": "markdown",
   "metadata": {},
   "source": [
    "$$\n",
    "    \\mathbf{a} =\n",
    "    \\left[\n",
    "      \\begin{array}{c}\n",
    "        -3 \\\\\n",
    "        2 \\\\\n",
    "        3 \\\\\n",
    "      \\end{array}\n",
    "    \\right],~~\n",
    "    \\mathbf{b} =\n",
    "    \\left[\n",
    "      \\begin{array}{c}\n",
    "        4 \\\\\n",
    "        1 \\\\\n",
    "        2 \\\\\n",
    "      \\end{array}\n",
    "    \\right],~~~~\n",
    "    \\mathbf{a}\\cdot\\mathbf{b} = \\qquad\\qquad\\qquad\\qquad\\qquad\n",
    "$$"
   ]
  },
  {
   "cell_type": "code",
   "execution_count": 1,
   "metadata": {
    "collapsed": false
   },
   "outputs": [
    {
     "data": {
      "text/plain": [
       "-4"
      ]
     },
     "execution_count": 1,
     "metadata": {},
     "output_type": "execute_result"
    }
   ],
   "source": [
    "from numpy import *\n",
    "\n",
    "a = array([-3, 2, 3]);\n",
    "b = array([4, 1, 2]);\n",
    "\n",
    "dot(a, b)"
   ]
  },
  {
   "cell_type": "markdown",
   "metadata": {},
   "source": [
    "## Matrix Multiplication"
   ]
  },
  {
   "cell_type": "markdown",
   "metadata": {},
   "source": [
    "If $A = [a_{ij}]$ is an $\\underline{\\hspace{1in}}$ matrix and $B = [b_{ij}]$ is a $\\underline{\\hspace{1in}}$ matrix, then the product of $A$ and $B$, is the $\\underline{\\hspace{1in}}$ matrix $C = [c_{ij}]$, defined by\n",
    "$$\n",
    "        c_{ij} = \\hspace{4in}\n",
    "$$\n",
    "<br /><br /><br /><br />"
   ]
  },
  {
   "cell_type": "markdown",
   "metadata": {},
   "source": [
    "**Remark:** The product of $A$ and $B$ is defined only when"
   ]
  },
  {
   "cell_type": "markdown",
   "metadata": {},
   "source": [
    "### Example 2"
   ]
  },
  {
   "cell_type": "markdown",
   "metadata": {},
   "source": [
    "Compute the product matrix $AB$, where\n",
    "$$\n",
    "  A = \\left[\n",
    "        \\begin{array}{ccc}\n",
    "          1 & 2 & -1 \\\\\n",
    "          3 & 1 & 4 \\\\\n",
    "        \\end{array}\n",
    "      \\right]~~~~\\text{and}~~~~\n",
    "  B = \\left[\n",
    "        \\begin{array}{cc}\n",
    "          -2 & 5 \\\\\n",
    "          4 & -3 \\\\\n",
    "          2 & 1\n",
    "        \\end{array}\n",
    "      \\right]\n",
    "$$"
   ]
  },
  {
   "cell_type": "code",
   "execution_count": 2,
   "metadata": {
    "collapsed": false
   },
   "outputs": [
    {
     "data": {
      "text/plain": [
       "array([[ 4, -2],\n",
       "       [ 6, 16]])"
      ]
     },
     "execution_count": 2,
     "metadata": {},
     "output_type": "execute_result"
    }
   ],
   "source": [
    "from numpy import *\n",
    "\n",
    "A = array([[1, 2, -1], [3, 1, 4]]);\n",
    "B = array([[-2, 5], [4, -3], [2, 1]]);\n",
    "\n",
    "dot(A, B)"
   ]
  },
  {
   "cell_type": "markdown",
   "metadata": {},
   "source": [
    "**Question:** Let $A = [a_{ij}]$ be an $m\\times p$ matrix, and $B = [b_{ij}]$ be a $p\\times n$ matrix. Is the statement $AB = BA$ true?"
   ]
  },
  {
   "cell_type": "markdown",
   "metadata": {},
   "source": [
    "$\\bullet$<br /><br /><br /><br />$\\bullet$<br /><br /><br /><br />$\\bullet$<br /><br /><br /><br />"
   ]
  },
  {
   "cell_type": "markdown",
   "metadata": {},
   "source": [
    "## Matrix-Vector Product Written in Terms of Columns"
   ]
  },
  {
   "cell_type": "markdown",
   "metadata": {},
   "source": [
    "Let $A = [a_{ij}]$ be an $m\\times n$ matrix and $\\mathbf{c}$ be an $n$-vector\n",
    "$$\n",
    "  \\mathbf{c} =\n",
    "    \\left[\n",
    "      \\begin{array}{c}\n",
    "        c_1 \\\\\n",
    "        c_2 \\\\\n",
    "        \\vdots \\\\\n",
    "        c_n \\\\\n",
    "      \\end{array}\n",
    "    \\right]\n",
    "$$\n",
    "Then\n",
    "$$\n",
    "  A\\mathbf{c} =\n",
    "  \\left[\n",
    "    \\begin{array}{cccc}\n",
    "      a_{11} & a_{12} & \\cdots & a_{1n} \\\\\n",
    "      a_{21} & a_{22} & \\cdots & a_{2n} \\\\\n",
    "      \\vdots & \\vdots & \\ddots & \\vdots \\\\\n",
    "      a_{m1} & a_{m2} & \\cdots & a_{mn} \\\\\n",
    "    \\end{array}\n",
    "  \\right]\n",
    "  \\left[\n",
    "      \\begin{array}{c}\n",
    "        c_1 \\\\\n",
    "        c_2 \\\\\n",
    "        \\vdots \\\\\n",
    "        c_n \\\\\n",
    "      \\end{array}\n",
    "    \\right]\n",
    "$$\n",
    "<br /><br /><br /><br />\n",
    "$$\n",
    "=\\hspace{2.1in}\n",
    "$$\n",
    "<br /><br /><br /><br />"
   ]
  },
  {
   "cell_type": "markdown",
   "metadata": {},
   "source": [
    "### Example 3"
   ]
  },
  {
   "cell_type": "markdown",
   "metadata": {},
   "source": [
    "Let\n",
    "$$\n",
    "  A = \\left[\n",
    "        \\begin{array}{ccc}\n",
    "          2 & -1 & -3 \\\\\n",
    "          4 & 2 & -2 \\\\\n",
    "        \\end{array}\n",
    "      \\right]~~~~\\text{and}~~~~\n",
    "  \\mathbf{c} = \\left[\n",
    "        \\begin{array}{c}\n",
    "          2 \\\\\n",
    "          -3 \\\\\n",
    "          4\n",
    "        \\end{array}\n",
    "      \\right].\n",
    "$$\n",
    "Then\n",
    "$$\n",
    "  A\\mathbf{c} = \\hspace{4in}\n",
    "$$"
   ]
  },
  {
   "cell_type": "code",
   "execution_count": 3,
   "metadata": {
    "collapsed": false
   },
   "outputs": [
    {
     "data": {
      "text/plain": [
       "array([-5, -6])"
      ]
     },
     "execution_count": 3,
     "metadata": {},
     "output_type": "execute_result"
    }
   ],
   "source": [
    "from numpy import *\n",
    "\n",
    "A = array([[2, -1, -3], [4, 2, -2]]);\n",
    "c = array([2, -3, 4])\n",
    "\n",
    "dot(A, c)"
   ]
  },
  {
   "cell_type": "markdown",
   "metadata": {},
   "source": [
    "## Linear Systems"
   ]
  },
  {
   "cell_type": "markdown",
   "metadata": {},
   "source": [
    "Consider the linear system of $m$ equations in $n$ unknowns:\n",
    "\\begin{eqnarray}\n",
    "% \\nonumber to remove numbering (before each equation)\n",
    "  a_{11}x_1 + a_{12}x_2 + \\cdots + a_{1n}x_n &=& b_1 \\\\\n",
    "  a_{21}x_1 + a_{22}x_2 + \\cdots + a_{2n}x_n &=& b_2 \\qquad \\qquad (1)\\\\\n",
    "  \\vdots\\hspace{1in} && \\vdots \\nonumber \\\\\n",
    "  a_{m1}x_1 + a_{m2}x_2 + \\cdots + a_{mn}x_n &=& b_m\n",
    "\\end{eqnarray}\n",
    "It can be written in matrix form $A\\mathbf{x} = \\mathbf{b}$, where <br /><br /><br /><br /><br /><br /><br />"
   ]
  },
  {
   "cell_type": "markdown",
   "metadata": {},
   "source": [
    "The matrix $A$ is called $\\underline{\\hspace{1.5in}}$ of the linear system (1)."
   ]
  },
  {
   "cell_type": "markdown",
   "metadata": {},
   "source": [
    "The matrix $[A\\mid\\mathbf{b}]$ is called the $\\underline{\\hspace{1.5in}}$ of the linear system (1) and has the form\n",
    "<br /><br /><br /><br /><br /><br /><br />"
   ]
  },
  {
   "cell_type": "markdown",
   "metadata": {},
   "source": [
    "If $b_1 = b_2 = \\cdots = b_m = 0$ in (1), the linear system is called a $\\underline{\\hspace{2in}}$."
   ]
  },
  {
   "cell_type": "markdown",
   "metadata": {},
   "source": [
    "Note that the matrix-vector product $A\\mathbf{x}$ can be expressed as\n",
    "$$\n",
    "  A\\mathbf{x} = x_1\\mathbf{a}_1 + x_1\\mathbf{a}_2 + \\cdots + x_n\\mathbf{a}_n\n",
    "$$\n",
    "so that the linear system (1) can be written as <br /><br /><br /><br />"
   ]
  },
  {
   "cell_type": "markdown",
   "metadata": {},
   "source": [
    "Therefore, $A\\mathbf{x} = \\mathbf{b}$ is **consistent** if and only if <br /><br /><br /><br />"
   ]
  }
 ],
 "metadata": {
  "kernelspec": {
   "display_name": "Python 3",
   "language": "python",
   "name": "python3"
  },
  "language_info": {
   "codemirror_mode": {
    "name": "ipython",
    "version": 3
   },
   "file_extension": ".py",
   "mimetype": "text/x-python",
   "name": "python",
   "nbconvert_exporter": "python",
   "pygments_lexer": "ipython3",
   "version": "3.4.4"
  }
 },
 "nbformat": 4,
 "nbformat_minor": 0
}
