{
 "cells": [
  {
   "cell_type": "markdown",
   "metadata": {},
   "source": [
    "# Section 1.4 $\\quad$ Algebraic Properties of Matrix Operations"
   ]
  },
  {
   "cell_type": "markdown",
   "metadata": {},
   "source": [
    "## 1. Properties of Matrix Addition"
   ]
  },
  {
   "cell_type": "markdown",
   "metadata": {},
   "source": [
    "Let $A$, $B$, and $C$ be $m\\times n$ matrices <br />\n",
    "- $A+B = $\n",
    "- $A+(B+C)=$\n",
    "- There is a unique $m\\times n$ **zero matrix**, denoted by $O$, such that\n",
    "<br /><br /><br /><br />\n",
    "- For each $m\\times n$  matrix $A$, there is a unique $m\\times n$ matrix $D$ such that\n",
    "<br /><br /><br /><br />"
   ]
  },
  {
   "cell_type": "markdown",
   "metadata": {},
   "source": [
    "## 2. Properties of Matrix Multiplication"
   ]
  },
  {
   "cell_type": "markdown",
   "metadata": {},
   "source": [
    "Let $A$, $B$, and $C$ be matrices of appropriate sizes.\n",
    "- $A(BC) = $\n",
    "- $(A+B)C = $\n",
    "- $C(A+B) = $\n",
    "<br /><br />\n",
    "**Remark:** <br /><br /><br /><br />"
   ]
  },
  {
   "cell_type": "markdown",
   "metadata": {},
   "source": [
    "### Example 1"
   ]
  },
  {
   "cell_type": "markdown",
   "metadata": {},
   "source": [
    "Let\n",
    "$$\n",
    "  A = \\left[\n",
    "        \\begin{array}{ccc}\n",
    "          2 & 2 & 3 \\\\\n",
    "          3 & -1 & 2 \\\\\n",
    "        \\end{array}\n",
    "      \\right],~~~~\n",
    "  B = \\left[\n",
    "        \\begin{array}{ccc}\n",
    "          0 & 0 & 1\\\\\n",
    "          2 & 3 & -1\\\\\n",
    "        \\end{array}\n",
    "      \\right],~~~\\text{and}~~~\n",
    "  C = \\left[\n",
    "        \\begin{array}{cc}\n",
    "          1 & 0 \\\\\n",
    "          2 & 2 \\\\\n",
    "          3 &-1 \\\\\n",
    "        \\end{array}\n",
    "      \\right]\n",
    "$$\n",
    "Compute $(A+B)C$ and $AC+BC$."
   ]
  },
  {
   "cell_type": "code",
   "execution_count": 1,
   "metadata": {
    "collapsed": false
   },
   "outputs": [
    {
     "data": {
      "text/plain": [
       "array([[18,  0],\n",
       "       [12,  3]])"
      ]
     },
     "execution_count": 1,
     "metadata": {},
     "output_type": "execute_result"
    }
   ],
   "source": [
    "from numpy import *\n",
    "\n",
    "A = array([[2, 2, 3], [3, -1, 2]]);\n",
    "B = array([[0, 0, 1], [2, 3, -1]]);\n",
    "C = array([[1, 0], [2, 2], [3, -1]]);\n",
    "\n",
    "dot(A + B, C)"
   ]
  },
  {
   "cell_type": "code",
   "execution_count": 2,
   "metadata": {
    "collapsed": false
   },
   "outputs": [
    {
     "data": {
      "text/plain": [
       "array([[18,  0],\n",
       "       [12,  3]])"
      ]
     },
     "execution_count": 2,
     "metadata": {},
     "output_type": "execute_result"
    }
   ],
   "source": [
    "from numpy import *\n",
    "\n",
    "A = array([[2, 2, 3], [3, -1, 2]]);\n",
    "B = array([[0, 0, 1], [2, 3, -1]]);\n",
    "C = array([[1, 0], [2, 2], [3, -1]]);\n",
    "\n",
    "dot(A, C) + dot(B, C)"
   ]
  },
  {
   "cell_type": "markdown",
   "metadata": {},
   "source": [
    "## 3. Properties of Scalar Multiplication"
   ]
  },
  {
   "cell_type": "markdown",
   "metadata": {},
   "source": [
    "Let $r$ and $s$ be real numbers. Let $A$ and $B$ be matrices of appropriate sizes.\n",
    "- $r(sA) =$\n",
    "- $(r+s)A = $\n",
    "- $r(A+B) = $\n",
    "- $A(rB) = $"
   ]
  },
  {
   "cell_type": "markdown",
   "metadata": {},
   "source": [
    "## 4. Properties of Transpose"
   ]
  },
  {
   "cell_type": "markdown",
   "metadata": {},
   "source": [
    "Let $r$ and $s$ be real numbers. Let $A$ and $B$ be matrices of appropriate sizes.\n",
    "- $(A^T)^T =$\n",
    "- $(A+B)^T = $\n",
    "- $(AB)^T = $\n",
    "- $(rA)^T = $"
   ]
  },
  {
   "cell_type": "markdown",
   "metadata": {},
   "source": [
    "**Questions** <br />\n",
    "- Does $A^2 = O $ imply $A = O$?\n",
    "  <br /><br /><br /><br />\n",
    "- Does $AB = AC$ imply $B = C$?\n",
    "  <br /><br /><br /><br />"
   ]
  },
  {
   "cell_type": "markdown",
   "metadata": {},
   "source": [
    "# Section 1.5 $\\quad$ Special Types of Matrices"
   ]
  },
  {
   "cell_type": "markdown",
   "metadata": {},
   "source": [
    "## Diagonal Matrices"
   ]
  },
  {
   "cell_type": "markdown",
   "metadata": {},
   "source": [
    "- An $n\\times n$ matrix $A = [a_{ij}]$ is called a $\\underline{\\hspace{1.5in}}$ if\n",
    "<br /><br /><br /><br />\n",
    "    **Question:** Is the zero matrix $O$ a diagonal matrix?\n",
    "<br /><br /><br /><br />\n",
    "- If the diagonal elements of a diagonal matrix are equal, we call it a $\\underline{\\hspace{1.5in}}$.\n",
    "- If the diagonal elements of a diagonal matrix and are equal to $1$, we call it a\n",
    "    $\\underline{\\hspace{1.5in}}$ and write it as $\\underline{\\hspace{1in}}$.\n",
    "<br /><br />\n",
    "    **Property:** $A I_n = $ $\\hspace{1.5in}$ $I_m A = $\n",
    "<br /><br /><br /><br /><br /><br /><br />"
   ]
  },
  {
   "cell_type": "markdown",
   "metadata": {},
   "source": [
    "## Symmetric Matrices"
   ]
  },
  {
   "cell_type": "markdown",
   "metadata": {},
   "source": [
    "- An $n\\times n$ matrix $A = [a_{ij}]$ is called $\\underline{\\hspace{1.5in}}$ if\n",
    "<br /><br /><br /><br />\n",
    "    It is called $\\underline{\\hspace{2in}}$ if\n",
    "<br /><br /><br /><br />\n",
    "- matrix $A$ with real entries is called $\\underline{\\hspace{1.5in}}$ if $\\underline{\\hspace{1.5in}}$.\n",
    "- A matrix $A$ with real entries is called $\\underline{\\hspace{2in}}$ if $\\underline{\\hspace{1.5in}}$.\n",
    "<br />\n",
    "    **Property:** Every square matrix can be decomposed as the sum of a symmetric matrix and a skew symmetric matrix.\n",
    "<br /><br />\n",
    "    **Proof:**\n",
    "<br /><br /><br /><br /><br /><br /><br />"
   ]
  },
  {
   "cell_type": "markdown",
   "metadata": {},
   "source": [
    "## Nonsingular Matrices"
   ]
  },
  {
   "cell_type": "markdown",
   "metadata": {},
   "source": [
    "An $n\\times n$ matrix $A$ is called $\\underline{\\hspace{1.5in}}$ or $\\underline{\\hspace{1.5in}}$ if\n",
    "<br /><br /><br /><br />\n",
    "\n",
    "Such a matrix $B$ is called an $\\underline{\\hspace{1.5in}}$ of $A$ and denoted by $\\underline{\\hspace{1in}}$.\n",
    "<br /><br /><br /><br />\n",
    "\n",
    "If $A$ is not invertible, we call it $\\underline{\\hspace{1.5in}}$ or $\\underline{\\hspace{1.5in}}$.\n",
    "<br /><br /><br /><br />"
   ]
  },
  {
   "cell_type": "markdown",
   "metadata": {},
   "source": [
    ">**Theorem** The inverse of a matrix, if"
   ]
  },
  {
   "cell_type": "markdown",
   "metadata": {},
   "source": [
    "**Proof:**\n",
    "<br /><br /><br /><br /><br /><br /><br />"
   ]
  },
  {
   "cell_type": "markdown",
   "metadata": {},
   "source": [
    "### Example 2"
   ]
  },
  {
   "cell_type": "markdown",
   "metadata": {},
   "source": [
    "Let\n",
    "$$\n",
    "  A = \\left[\n",
    "        \\begin{array}{cc}\n",
    "          1 & 2  \\\\\n",
    "          3 & 4 \\\\\n",
    "        \\end{array}\n",
    "      \\right],~~~~~~~\n",
    "  B = \\left[\n",
    "        \\begin{array}{cc}\n",
    "          1 & 2  \\\\\n",
    "          2 & 4 \\\\\n",
    "        \\end{array}\n",
    "      \\right]\n",
    "$$\n",
    "Find the inverse $A^{-1}$ and $B^{-1}$, if they exist."
   ]
  },
  {
   "cell_type": "code",
   "execution_count": 3,
   "metadata": {
    "collapsed": false
   },
   "outputs": [
    {
     "data": {
      "text/plain": [
       "array([[-2. ,  1. ],\n",
       "       [ 1.5, -0.5]])"
      ]
     },
     "execution_count": 3,
     "metadata": {},
     "output_type": "execute_result"
    }
   ],
   "source": [
    "from numpy import *\n",
    "\n",
    "A = array([[1, 2], [3, 4]]);\n",
    "\n",
    "linalg.inv(A)"
   ]
  },
  {
   "cell_type": "code",
   "execution_count": 4,
   "metadata": {
    "collapsed": false
   },
   "outputs": [
    {
     "ename": "LinAlgError",
     "evalue": "Singular matrix",
     "output_type": "error",
     "traceback": [
      "\u001b[1;31m---------------------------------------------------------------------------\u001b[0m",
      "\u001b[1;31mLinAlgError\u001b[0m                               Traceback (most recent call last)",
      "\u001b[1;32m<ipython-input-4-f79a588a4c66>\u001b[0m in \u001b[0;36m<module>\u001b[1;34m()\u001b[0m\n\u001b[0;32m      3\u001b[0m \u001b[0mB\u001b[0m \u001b[1;33m=\u001b[0m \u001b[0marray\u001b[0m\u001b[1;33m(\u001b[0m\u001b[1;33m[\u001b[0m\u001b[1;33m[\u001b[0m\u001b[1;36m1\u001b[0m\u001b[1;33m,\u001b[0m \u001b[1;36m2\u001b[0m\u001b[1;33m]\u001b[0m\u001b[1;33m,\u001b[0m \u001b[1;33m[\u001b[0m\u001b[1;36m2\u001b[0m\u001b[1;33m,\u001b[0m \u001b[1;36m4\u001b[0m\u001b[1;33m]\u001b[0m\u001b[1;33m]\u001b[0m\u001b[1;33m)\u001b[0m\u001b[1;33m;\u001b[0m\u001b[1;33m\u001b[0m\u001b[0m\n\u001b[0;32m      4\u001b[0m \u001b[1;33m\u001b[0m\u001b[0m\n\u001b[1;32m----> 5\u001b[1;33m \u001b[0mlinalg\u001b[0m\u001b[1;33m.\u001b[0m\u001b[0minv\u001b[0m\u001b[1;33m(\u001b[0m\u001b[0mB\u001b[0m\u001b[1;33m)\u001b[0m\u001b[1;33m\u001b[0m\u001b[0m\n\u001b[0m",
      "\u001b[1;32mD:\\Program Files\\WinPython-64bit-3.4.4.1\\python-3.4.4.amd64\\lib\\site-packages\\numpy\\linalg\\linalg.py\u001b[0m in \u001b[0;36minv\u001b[1;34m(a)\u001b[0m\n\u001b[0;32m    524\u001b[0m     \u001b[0msignature\u001b[0m \u001b[1;33m=\u001b[0m \u001b[1;34m'D->D'\u001b[0m \u001b[1;32mif\u001b[0m \u001b[0misComplexType\u001b[0m\u001b[1;33m(\u001b[0m\u001b[0mt\u001b[0m\u001b[1;33m)\u001b[0m \u001b[1;32melse\u001b[0m \u001b[1;34m'd->d'\u001b[0m\u001b[1;33m\u001b[0m\u001b[0m\n\u001b[0;32m    525\u001b[0m     \u001b[0mextobj\u001b[0m \u001b[1;33m=\u001b[0m \u001b[0mget_linalg_error_extobj\u001b[0m\u001b[1;33m(\u001b[0m\u001b[0m_raise_linalgerror_singular\u001b[0m\u001b[1;33m)\u001b[0m\u001b[1;33m\u001b[0m\u001b[0m\n\u001b[1;32m--> 526\u001b[1;33m     \u001b[0mainv\u001b[0m \u001b[1;33m=\u001b[0m \u001b[0m_umath_linalg\u001b[0m\u001b[1;33m.\u001b[0m\u001b[0minv\u001b[0m\u001b[1;33m(\u001b[0m\u001b[0ma\u001b[0m\u001b[1;33m,\u001b[0m \u001b[0msignature\u001b[0m\u001b[1;33m=\u001b[0m\u001b[0msignature\u001b[0m\u001b[1;33m,\u001b[0m \u001b[0mextobj\u001b[0m\u001b[1;33m=\u001b[0m\u001b[0mextobj\u001b[0m\u001b[1;33m)\u001b[0m\u001b[1;33m\u001b[0m\u001b[0m\n\u001b[0m\u001b[0;32m    527\u001b[0m     \u001b[1;32mreturn\u001b[0m \u001b[0mwrap\u001b[0m\u001b[1;33m(\u001b[0m\u001b[0mainv\u001b[0m\u001b[1;33m.\u001b[0m\u001b[0mastype\u001b[0m\u001b[1;33m(\u001b[0m\u001b[0mresult_t\u001b[0m\u001b[1;33m,\u001b[0m \u001b[0mcopy\u001b[0m\u001b[1;33m=\u001b[0m\u001b[1;32mFalse\u001b[0m\u001b[1;33m)\u001b[0m\u001b[1;33m)\u001b[0m\u001b[1;33m\u001b[0m\u001b[0m\n\u001b[0;32m    528\u001b[0m \u001b[1;33m\u001b[0m\u001b[0m\n",
      "\u001b[1;32mD:\\Program Files\\WinPython-64bit-3.4.4.1\\python-3.4.4.amd64\\lib\\site-packages\\numpy\\linalg\\linalg.py\u001b[0m in \u001b[0;36m_raise_linalgerror_singular\u001b[1;34m(err, flag)\u001b[0m\n\u001b[0;32m     88\u001b[0m \u001b[1;33m\u001b[0m\u001b[0m\n\u001b[0;32m     89\u001b[0m \u001b[1;32mdef\u001b[0m \u001b[0m_raise_linalgerror_singular\u001b[0m\u001b[1;33m(\u001b[0m\u001b[0merr\u001b[0m\u001b[1;33m,\u001b[0m \u001b[0mflag\u001b[0m\u001b[1;33m)\u001b[0m\u001b[1;33m:\u001b[0m\u001b[1;33m\u001b[0m\u001b[0m\n\u001b[1;32m---> 90\u001b[1;33m     \u001b[1;32mraise\u001b[0m \u001b[0mLinAlgError\u001b[0m\u001b[1;33m(\u001b[0m\u001b[1;34m\"Singular matrix\"\u001b[0m\u001b[1;33m)\u001b[0m\u001b[1;33m\u001b[0m\u001b[0m\n\u001b[0m\u001b[0;32m     91\u001b[0m \u001b[1;33m\u001b[0m\u001b[0m\n\u001b[0;32m     92\u001b[0m \u001b[1;32mdef\u001b[0m \u001b[0m_raise_linalgerror_nonposdef\u001b[0m\u001b[1;33m(\u001b[0m\u001b[0merr\u001b[0m\u001b[1;33m,\u001b[0m \u001b[0mflag\u001b[0m\u001b[1;33m)\u001b[0m\u001b[1;33m:\u001b[0m\u001b[1;33m\u001b[0m\u001b[0m\n",
      "\u001b[1;31mLinAlgError\u001b[0m: Singular matrix"
     ]
    }
   ],
   "source": [
    "from numpy import *\n",
    "\n",
    "B = array([[1, 2], [2, 4]]);\n",
    "\n",
    "linalg.inv(B)"
   ]
  },
  {
   "cell_type": "markdown",
   "metadata": {},
   "source": [
    "## Properties of Inverse"
   ]
  },
  {
   "cell_type": "markdown",
   "metadata": {},
   "source": [
    "- $(A^{-1})^{-1} = $\n",
    "- $(AB)^{-1} = $\n",
    "- $(A^T)^{-1} = $"
   ]
  },
  {
   "cell_type": "markdown",
   "metadata": {},
   "source": [
    "## Application to Linear System"
   ]
  },
  {
   "cell_type": "markdown",
   "metadata": {},
   "source": [
    "If $A$ is an $n\\times n$ matrix, then the linear system $A\\mathbf{x} = \\mathbf{b}$ is a system of $n$ equation in $n$ unknowns."
   ]
  }
 ],
 "metadata": {
  "kernelspec": {
   "display_name": "Python 3",
   "language": "python",
   "name": "python3"
  },
  "language_info": {
   "codemirror_mode": {
    "name": "ipython",
    "version": 3
   },
   "file_extension": ".py",
   "mimetype": "text/x-python",
   "name": "python",
   "nbconvert_exporter": "python",
   "pygments_lexer": "ipython3",
   "version": "3.4.4"
  }
 },
 "nbformat": 4,
 "nbformat_minor": 0
}
