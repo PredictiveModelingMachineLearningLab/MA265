{
 "cells": [
  {
   "cell_type": "markdown",
   "metadata": {},
   "source": [
    "# Section 2.1 $\\quad$ Echelon Form of a Matrix"
   ]
  },
  {
   "cell_type": "markdown",
   "metadata": {},
   "source": [
    "## Definitions"
   ]
  },
  {
   "cell_type": "markdown",
   "metadata": {},
   "source": [
    "An $m\\times n$ matrix $A$ is said to be in $\\underline{\\hspace{3in}}$ if <br />\n",
    "(a) <br /><br /><br /><br />\n",
    "(b) <br /><br /><br /><br /> \n",
    "(c) <br /><br /><br /><br />\n",
    "(d) <br /><br /><br /><br />"
   ]
  },
  {
   "cell_type": "markdown",
   "metadata": {},
   "source": [
    "An $m\\times n$ matrix satisfying properties **a**, **b**, **c** is said to be in $\\underline{\\hspace{2in}}$."
   ]
  },
  {
   "cell_type": "markdown",
   "metadata": {},
   "source": [
    "We can define $\\underline{\\hspace{2in}}$ and $\\underline{\\hspace{2.5in}}$ in a similar manner."
   ]
  },
  {
   "cell_type": "markdown",
   "metadata": {},
   "source": [
    "### Example 1"
   ]
  },
  {
   "cell_type": "markdown",
   "metadata": {},
   "source": [
    "Determine whether the following matrices are in (reduced) row echelon form\n",
    "$$\n",
    "  A =\n",
    "  \\left[\n",
    "    \\begin{array}{cccc}\n",
    "      1 & 2 & 0 & 4 \\\\\n",
    "      0 & 0 & 0 & 0 \\\\\n",
    "      0 & 0 & 1 & -3 \\\\\n",
    "    \\end{array}\n",
    "  \\right],~~~\n",
    "  B =\n",
    "  \\left[\n",
    "    \\begin{array}{cccc}\n",
    "      1 & 0 & 0 & 0 \\\\\n",
    "      0 & 1 & 1 & 0 \\\\\n",
    "      0 & 0 & 0 & 1 \\\\\n",
    "    \\end{array}\n",
    "  \\right],~~~\n",
    "  C =\n",
    "  \\left[\n",
    "    \\begin{array}{cccc}\n",
    "      1 & 0 & 3 & 4 \\\\\n",
    "      0 & 2 & -2 & 5 \\\\\n",
    "      0 & 0 & 1 & 2 \\\\\n",
    "    \\end{array}\n",
    "  \\right],~~~\n",
    "  D =\n",
    "  \\left[\n",
    "    \\begin{array}{ccccc}\n",
    "      1 & 2 & 0 & 0 & 1\\\\\n",
    "      0 & 0 & 1 & 2 & 3\\\\\n",
    "      0 & 0 & 0 & 1 & 0 \\\\\n",
    "    \\end{array}\n",
    "  \\right].~~~\n",
    "$$\n",
    "<br /><br /><br /><br /><br /><br /><br />"
   ]
  },
  {
   "cell_type": "markdown",
   "metadata": {},
   "source": [
    "An **elementary row operation** on a matrix $A$ is any one of the following operations: <br />\n",
    "(a) <br /><br /><br /> $\\qquad$ **notation:** <br />\n",
    "(b) <br /><br /><br /> $\\qquad$ **notation:** <br />\n",
    "(c) <br /><br /><br /> $\\qquad$ **notation:** <br />"
   ]
  },
  {
   "cell_type": "markdown",
   "metadata": {},
   "source": [
    "### Example 2"
   ]
  },
  {
   "cell_type": "markdown",
   "metadata": {},
   "source": [
    "Let\n",
    "\\begin{equation*}\n",
    "  A = \\left[\n",
    "        \\begin{array}{cccc}\n",
    "          0 & 0 & 1 & 2 \\\\\n",
    "          2 & 3 & 0 & -2 \\\\\n",
    "          3 & 3 & 6 & -9 \\\\\n",
    "        \\end{array}\n",
    "      \\right],~~~\n",
    "\\end{equation*}\n",
    "Then\n",
    "<br /><br /><br />\n",
    "$$B = A_{r_1\\leftrightarrow r_3} = \\hspace{3in}$$\n",
    "<br /><br /><br />\n",
    "$$C = A_{\\frac{1}{3}r_3\\rightarrow r_3} = \\hspace{3in}$$\n",
    "<br /><br /><br />\n",
    "$$D = A_{-2r_2+r_3\\rightarrow r_3} = \\hspace{3in}$$\n",
    "<br /><br /><br />\n",
    "An $m\\times n$ matrix $B$ is said to be $\\underline{\\hspace{2in}}$ to an $m\\times n$ matrix A if\n",
    "<br /><br /><br /><br />"
   ]
  },
  {
   "cell_type": "code",
   "execution_count": 1,
   "metadata": {
    "collapsed": false
   },
   "outputs": [
    {
     "data": {
      "text/plain": [
       "Matrix([\n",
       "[3, 3, 6, -9],\n",
       "[2, 3, 0, -2],\n",
       "[0, 0, 1,  2]])"
      ]
     },
     "execution_count": 1,
     "metadata": {},
     "output_type": "execute_result"
    }
   ],
   "source": [
    "from sympy import *\n",
    "\n",
    "A = Matrix([[0, 0, 1, 2], [2, 3, 0 ,-2], [3, 3, 6, -9]]);\n",
    "\n",
    "A.row_swap(0, 2);\n",
    "\n",
    "A"
   ]
  },
  {
   "cell_type": "code",
   "execution_count": 2,
   "metadata": {
    "collapsed": false
   },
   "outputs": [
    {
     "data": {
      "text/plain": [
       "Matrix([\n",
       "[0, 0, 1,  2],\n",
       "[2, 3, 0, -2],\n",
       "[1, 1, 2, -3]])"
      ]
     },
     "execution_count": 2,
     "metadata": {},
     "output_type": "execute_result"
    }
   ],
   "source": [
    "from sympy import *\n",
    "\n",
    "A = Matrix([[0, 0, 1, 2], [2, 3, 0 ,-2], [3, 3, 6, -9]]);\n",
    "\n",
    "A[2, :] = A[2, :]/3;\n",
    "\n",
    "A"
   ]
  },
  {
   "cell_type": "code",
   "execution_count": 3,
   "metadata": {
    "collapsed": false
   },
   "outputs": [
    {
     "data": {
      "text/plain": [
       "Matrix([\n",
       "[ 0,  0, 1,  2],\n",
       "[ 2,  3, 0, -2],\n",
       "[-1, -3, 6, -5]])"
      ]
     },
     "execution_count": 3,
     "metadata": {},
     "output_type": "execute_result"
    }
   ],
   "source": [
    "from sympy import *\n",
    "\n",
    "A = Matrix([[0, 0, 1, 2], [2, 3, 0 ,-2], [3, 3, 6, -9]]);\n",
    "\n",
    "A[2, :] = A[2, :] - 2 * A[1, :];\n",
    "\n",
    "A"
   ]
  },
  {
   "cell_type": "markdown",
   "metadata": {},
   "source": [
    ">**Theorem** Every nonzero $m\\times n$ matrix $A = [a_{ij}]$\n",
    "<br /><br /><br /><br />"
   ]
  },
  {
   "cell_type": "markdown",
   "metadata": {},
   "source": [
    "### Example 3"
   ]
  },
  {
   "cell_type": "markdown",
   "metadata": {},
   "source": [
    "Find a matrix in row echelon form that is row equivalent to the matrix\n",
    "$$\n",
    "  A = \\left[\n",
    "        \\begin{array}{ccccc}\n",
    "          0 & 2 & 3 & -4 & 1 \\\\\n",
    "          0 & 0 & 2 & 3 & 4 \\\\\n",
    "          2 & 2 & -5 & 2 & 4 \\\\\n",
    "          2 & 0 & -6 & 9 & 7 \\\\\n",
    "        \\end{array}\n",
    "      \\right]\n",
    "$$"
   ]
  },
  {
   "cell_type": "code",
   "execution_count": 4,
   "metadata": {
    "collapsed": false
   },
   "outputs": [
    {
     "data": {
      "text/plain": [
       "(Matrix([\n",
       " [1, 0, 0,     9, 19/2],\n",
       " [0, 1, 0, -17/4, -5/2],\n",
       " [0, 0, 1,   3/2,    2],\n",
       " [0, 0, 0,     0,    0]]), [0, 1, 2])"
      ]
     },
     "execution_count": 4,
     "metadata": {},
     "output_type": "execute_result"
    }
   ],
   "source": [
    "from sympy import *\n",
    "\n",
    "A = Matrix([[0, 2, 3, -4, 1], [0, 0, 2, 3, 4], [2, 2, -5, 2, 4], [2, 0, -6, 9, 7]]);\n",
    "\n",
    "A.rref()"
   ]
  },
  {
   "cell_type": "markdown",
   "metadata": {},
   "source": [
    ">**Theorem** Every nonzero $m\\times n$ matrix $A=[a_{ij}]$\n",
    "<br /><br /><br /><br />"
   ]
  },
  {
   "cell_type": "markdown",
   "metadata": {},
   "source": [
    "**Remark:**\n",
    "<br /><br /><br /><br />"
   ]
  },
  {
   "cell_type": "markdown",
   "metadata": {},
   "source": [
    "### Example 4"
   ]
  },
  {
   "cell_type": "markdown",
   "metadata": {},
   "source": [
    "Find the reduced row echelon form of the matrix\n",
    "$$\n",
    "  A = \\left[\n",
    "        \\begin{array}{ccc}\n",
    "          1 & 0 & -2 \\\\\n",
    "          -2 & 1 & 9 \\\\\n",
    "          3 & 2 & -4 \\\\\n",
    "        \\end{array}\n",
    "      \\right]\n",
    "$$"
   ]
  },
  {
   "cell_type": "code",
   "execution_count": 5,
   "metadata": {
    "collapsed": false
   },
   "outputs": [
    {
     "data": {
      "text/plain": [
       "(Matrix([\n",
       " [1, 0, 0],\n",
       " [0, 1, 0],\n",
       " [0, 0, 1]]), [0, 1, 2])"
      ]
     },
     "execution_count": 5,
     "metadata": {},
     "output_type": "execute_result"
    }
   ],
   "source": [
    "from sympy import *\n",
    "\n",
    "A = Matrix([[1, 0, -2], [-2, 1, 9], [3, 2, -4]]);\n",
    "\n",
    "A.rref()"
   ]
  }
 ],
 "metadata": {
  "kernelspec": {
   "display_name": "Python 3",
   "language": "python",
   "name": "python3"
  },
  "language_info": {
   "codemirror_mode": {
    "name": "ipython",
    "version": 3
   },
   "file_extension": ".py",
   "mimetype": "text/x-python",
   "name": "python",
   "nbconvert_exporter": "python",
   "pygments_lexer": "ipython3",
   "version": "3.4.4"
  }
 },
 "nbformat": 4,
 "nbformat_minor": 0
}
