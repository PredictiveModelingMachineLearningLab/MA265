{
 "cells": [
  {
   "cell_type": "markdown",
   "metadata": {
    "collapsed": true
   },
   "source": [
    "# Section 2.2 $\\qquad$ Solving Linear Systems"
   ]
  },
  {
   "cell_type": "markdown",
   "metadata": {},
   "source": [
    "### Example 1"
   ]
  },
  {
   "cell_type": "markdown",
   "metadata": {},
   "source": [
    "Solve the linear system whose augmented matrix has the echelon form:\n",
    "$$\n",
    "  \\left[\n",
    "     \\begin{array}{ccc|c}\n",
    "       1 & 2 & 0 & 3 \\\\\n",
    "       0 & 1 & 1 & 2 \\\\\n",
    "       0 & 0 & 1 & -1 \\\\\n",
    "     \\end{array}\n",
    "   \\right]\n",
    "$$"
   ]
  },
  {
   "cell_type": "code",
   "execution_count": 1,
   "metadata": {
    "collapsed": false
   },
   "outputs": [
    {
     "data": {
      "text/plain": [
       "array([-3.,  3., -1.])"
      ]
     },
     "execution_count": 1,
     "metadata": {},
     "output_type": "execute_result"
    }
   ],
   "source": [
    "from numpy import *\n",
    "from numpy.linalg import solve\n",
    "\n",
    "A = array([[1, 2, 0], [0, 1, 1], [0, 0, 1]]);\n",
    "b = array([3, 2, -1]);\n",
    "\n",
    "solve(A, b)"
   ]
  },
  {
   "cell_type": "markdown",
   "metadata": {},
   "source": [
    "To solve a linear system $A\\mathbf{x}=\\mathbf{b}$,\n",
    "- form the augmented matrix\n",
    "<br /><br />\n",
    "- transform to a matrix $[C~|~\\mathbf{d}]$ in\n",
    "<br /><br />\n",
    "- find solution of the linear system w.r.t. $[C~|~\\mathbf{d}]$ using\n",
    "<br /><br />\n",
    "**Remark:**\n",
    "<br /><br /><br /><br />"
   ]
  },
  {
   "cell_type": "markdown",
   "metadata": {},
   "source": [
    "If $A$ is $n\\times n$, and the linear system $A\\mathbf{x}=\\mathbf{b}$ has a unique solution, then\n",
    "<br /><br /><br /><br />"
   ]
  },
  {
   "cell_type": "markdown",
   "metadata": {},
   "source": [
    "### Example 2"
   ]
  },
  {
   "cell_type": "markdown",
   "metadata": {},
   "source": [
    "Solve the linear system\n",
    "\\begin{eqnarray*}\n",
    "  x+2y+3z &=& 9 \\\\\n",
    "  2x-y+z &=& 8 \\\\\n",
    "  3x-z &=& 3\n",
    "\\end{eqnarray*}"
   ]
  },
  {
   "cell_type": "code",
   "execution_count": 2,
   "metadata": {
    "collapsed": false
   },
   "outputs": [
    {
     "data": {
      "text/plain": [
       "array([ 2., -1.,  3.])"
      ]
     },
     "execution_count": 2,
     "metadata": {},
     "output_type": "execute_result"
    }
   ],
   "source": [
    "from numpy import *\n",
    "from numpy.linalg import solve\n",
    "\n",
    "A = array([[1, 2, 3], [2, -1, 1], [3, 0, -1]]);\n",
    "b = array([9, 8, 3]);\n",
    "\n",
    "solve(A,b)"
   ]
  },
  {
   "cell_type": "markdown",
   "metadata": {},
   "source": [
    "In general, $A$ is $m\\times n$ and the augmented matrix $[C~|~\\mathbf{d}]$ might have the following form\n",
    "\\begin{equation*}\n",
    "  \\left[\n",
    "    \\begin{array}{ccccc|c}\n",
    "      1 & c_{12} & \\cdots &  & c_{1n} &  d_1 \\\\\n",
    "      0 & 1 & c_{23} & \\cdots &   c_{2n} & d_2 \\\\\n",
    "      \\vdots & \\vdots & \\ddots & \\ddots &  &  \\\\\n",
    "      0 & 0  &  & 1 & c_{k-1,n} & d_{k-1} \\\\\n",
    "      0 & 0 & \\cdots & 0 &  c_{k,n}& d_k \\\\\n",
    "      0 & 0 & \\cdots &  &  0& d_{k+1} \\\\\n",
    "      \\vdots & \\vdots &  &  &\\vdots  &  \\\\\n",
    "      0 & 0 & \\cdots &  &  0& d_{m} \\\\\n",
    "    \\end{array}\n",
    "  \\right]\n",
    "\\end{equation*}\n",
    "- If $d_{k+1} = 1$,\n",
    "<br /><br />\n",
    "- If $d_{k+1} = 0$, $c_{k,n} = 1$\n",
    "<br /><br />\n",
    "- If $c_{k,n} = 0$\n",
    "<br /><br />"
   ]
  },
  {
   "cell_type": "markdown",
   "metadata": {},
   "source": [
    "### Example 3"
   ]
  },
  {
   "cell_type": "markdown",
   "metadata": {},
   "source": [
    "Let\n",
    "\\begin{equation*}\n",
    "  [C~|~\\mathbf{d}] = \\left[\n",
    "        \\begin{array}{ccccc|c}\n",
    "          1 & 2 & 3 & 4 & 5 & 6 \\\\\n",
    "          0 & 1 & 2 & 3 & -1 & 7 \\\\\n",
    "          0 & 0 & 1 & 2 & 3 & 7 \\\\\n",
    "          0 & 0 & 0 & 1 & 2 & 9 \\\\\n",
    "        \\end{array}\n",
    "      \\right].\n",
    "\\end{equation*}\n",
    "<br /><br /><br /><br /><br /><br /><br />"
   ]
  },
  {
   "cell_type": "markdown",
   "metadata": {},
   "source": [
    "### Example 4"
   ]
  },
  {
   "cell_type": "markdown",
   "metadata": {},
   "source": [
    "Let\n",
    "\\begin{equation*}\n",
    "  [C~|~\\mathbf{d}] = \\left[\n",
    "        \\begin{array}{cccc|c}\n",
    "          1 & 2 & 3 & 4 & 5 \\\\\n",
    "          0 & 1 & 2 & 3 & 6 \\\\\n",
    "          0 & 0 & 0 & 0 & 1 \\\\\n",
    "        \\end{array}\n",
    "      \\right].\n",
    "\\end{equation*}\n",
    "<br /><br /><br /><br /><br /><br /><br />"
   ]
  },
  {
   "cell_type": "markdown",
   "metadata": {},
   "source": [
    "### Example 5"
   ]
  },
  {
   "cell_type": "markdown",
   "metadata": {},
   "source": [
    "Solve the linear system\n",
    "\\begin{eqnarray*}\n",
    "% \\nonumber to remove numbering (before each equation)\n",
    "  x+2y+3z &=& 6 \\\\\n",
    "  2x-3y+2z &=& 14 \\\\\n",
    "  3x+y-z &=& -2\n",
    "\\end{eqnarray*}"
   ]
  },
  {
   "cell_type": "code",
   "execution_count": 3,
   "metadata": {
    "collapsed": false
   },
   "outputs": [
    {
     "data": {
      "text/plain": [
       "array([ 1., -2.,  3.])"
      ]
     },
     "execution_count": 3,
     "metadata": {},
     "output_type": "execute_result"
    }
   ],
   "source": [
    "from numpy import *\n",
    "from numpy.linalg import solve\n",
    "\n",
    "A = array([[1, 2, 3], [2, -3, 2], [3, 1, -1]]);\n",
    "b = array([6, 14, -2]);\n",
    "\n",
    "solve(A,b)"
   ]
  },
  {
   "cell_type": "markdown",
   "metadata": {},
   "source": [
    "## Homogeneous System"
   ]
  },
  {
   "cell_type": "markdown",
   "metadata": {},
   "source": [
    "### Example 6"
   ]
  },
  {
   "cell_type": "markdown",
   "metadata": {},
   "source": [
    "Solve the linear system\n",
    "\\begin{eqnarray*}\n",
    "% \\nonumber to remove numbering (before each equation)\n",
    "  x+y+z+w &=& 0 \\\\\n",
    "  x+w &=& 0 \\\\\n",
    "  x+2y+z &=& 0\n",
    "\\end{eqnarray*}"
   ]
  },
  {
   "cell_type": "code",
   "execution_count": 4,
   "metadata": {
    "collapsed": false
   },
   "outputs": [
    {
     "data": {
      "text/plain": [
       "{x: -w, y: w, z: -w}"
      ]
     },
     "execution_count": 4,
     "metadata": {},
     "output_type": "execute_result"
    }
   ],
   "source": [
    "from sympy import *\n",
    "\n",
    "x, y, z, w = symbols('x y z w');\n",
    "\n",
    "eq1 = x + y + z + w;\n",
    "eq2 = x + w;\n",
    "eq3 = x + 2*y + z;\n",
    "\n",
    "solve([eq1, eq2, eq3], (x, y, z, w))"
   ]
  },
  {
   "cell_type": "markdown",
   "metadata": {},
   "source": [
    "**Remark:**\n",
    "<br /><br /><br /><br />"
   ]
  },
  {
   "cell_type": "markdown",
   "metadata": {},
   "source": [
    "## Relationship between nonhomogeneous and homogeneous systems"
   ]
  },
  {
   "cell_type": "markdown",
   "metadata": {},
   "source": [
    "Let $A\\mathbf{x}=\\mathbf{b}$, $\\mathbf{b}\\neq\\mathbf{0}$ be a consistent system. The associated homogeneous system is\n",
    "<br /><br /><br /><br />\n",
    "- \n",
    "<br /><br /><br /><br />\n",
    "- \n",
    "<br /><br /><br /><br />"
   ]
  }
 ],
 "metadata": {
  "kernelspec": {
   "display_name": "Python 3",
   "language": "python",
   "name": "python3"
  },
  "language_info": {
   "codemirror_mode": {
    "name": "ipython",
    "version": 3
   },
   "file_extension": ".py",
   "mimetype": "text/x-python",
   "name": "python",
   "nbconvert_exporter": "python",
   "pygments_lexer": "ipython3",
   "version": "3.4.4"
  }
 },
 "nbformat": 4,
 "nbformat_minor": 0
}
