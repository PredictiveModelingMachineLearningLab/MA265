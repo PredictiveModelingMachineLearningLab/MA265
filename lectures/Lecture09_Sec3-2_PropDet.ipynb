{
 "cells": [
  {
   "cell_type": "markdown",
   "metadata": {},
   "source": [
    "# Section 3.2 $\\quad$ Properties of Determinants"
   ]
  },
  {
   "cell_type": "markdown",
   "metadata": {},
   "source": [
    "## Properties of determinants"
   ]
  },
  {
   "cell_type": "markdown",
   "metadata": {},
   "source": [
    "Let $A$ and $B$ be $n\\times n$ matrices. Their determinants have following properties"
   ]
  },
  {
   "cell_type": "markdown",
   "metadata": {},
   "source": [
    "1. $\\det(A^T) = $ <br /><br /><br /><br />\n",
    "- If $B = A_{r_i\\leftrightarrow r_j}$ or $B = A_{c_i\\leftrightarrow c_j}$ then <br /><br /><br /><br />\n",
    "- If two rows (columns) of $A$ are equal, then <br /><br /><br /><br />\n",
    "- If a row (column) of $A$ consists entirely of zeros, then <br /><br /><br /><br />\n",
    "- If $B = A_{kr_i \\to r_i}$ or $B = A_{kc_i\\to c_i}$, then <br /><br /><br /><br />\n",
    "- If $B = A_{kr_i+r_j \\to r_j}$ or $B = A_{kc_i+c_j \\to c_j}$, then <br /><br /><br /><br />\n",
    "- If $A = [a_{ij}]$ is upper (lower) triangular, then <br /><br /><br /><br />"
   ]
  },
  {
   "cell_type": "markdown",
   "metadata": {},
   "source": [
    "### Example 1"
   ]
  },
  {
   "cell_type": "markdown",
   "metadata": {},
   "source": [
    "Find $\\det(A)$ if\n",
    "\\begin{equation*}\n",
    "  A =\n",
    "  \\left[\n",
    "    \\begin{array}{ccc}\n",
    "      4 & 3 & 2 \\\\\n",
    "      4 & -2 & 5 \\\\\n",
    "      2 & 4 & 6 \\\\\n",
    "    \\end{array}\n",
    "  \\right]\n",
    "\\end{equation*}"
   ]
  },
  {
   "cell_type": "code",
   "execution_count": 1,
   "metadata": {
    "collapsed": false
   },
   "outputs": [
    {
     "data": {
      "text/plain": [
       "-130"
      ]
     },
     "execution_count": 1,
     "metadata": {},
     "output_type": "execute_result"
    }
   ],
   "source": [
    "from sympy import *\n",
    "\n",
    "A = Matrix([[4, 3, 2], [4, -2, 5], [2, 4, 6]]);\n",
    "\n",
    "A.det()"
   ]
  },
  {
   "cell_type": "markdown",
   "metadata": {},
   "source": [
    "## Properties of determinants (contd)"
   ]
  },
  {
   "cell_type": "markdown",
   "metadata": {},
   "source": [
    "8.$\\,$ If $E$ is an elementary matrix, then <br /><br /><br /><br />\n",
    "9.$\\,$ If $A$ is an $n\\times n$ matrix, then $A$ is nonsingular if and only if <br /><br /><br /><br />\n",
    "10.$\\,$ If $A$ and $B$ are $n\\times n$ matrices, then <br /><br /><br /><br />"
   ]
  },
  {
   "cell_type": "markdown",
   "metadata": {},
   "source": [
    "### Example 2"
   ]
  },
  {
   "cell_type": "markdown",
   "metadata": {},
   "source": [
    "Verify the property 10 using the matrices\n",
    "\\begin{equation*}\n",
    "  A =\\left[\n",
    "    \\begin{array}{cc}\n",
    "      1 & 2 \\\\\n",
    "      3 & 4 \\\\\n",
    "    \\end{array}\n",
    "  \\right]~~~\n",
    "  B=\n",
    "  \\left[\n",
    "    \\begin{array}{cc}\n",
    "      2 & -1 \\\\\n",
    "      1 & 2 \\\\\n",
    "    \\end{array}\n",
    "  \\right]\n",
    "\\end{equation*}\n",
    "<br /><br /><br /><br /><br /><br /><br />"
   ]
  },
  {
   "cell_type": "markdown",
   "metadata": {},
   "source": [
    "### Example 3"
   ]
  },
  {
   "cell_type": "markdown",
   "metadata": {},
   "source": [
    "- If $A$ is nonsingular. $\\det(A^{-1}) = $ <br /><br /><br /><br />\n",
    "- If $A$ and $B$ are $n\\times n$ matrices, is $\\det(AB) = \\det(BA)$? <br /><br /><br /><br />"
   ]
  }
 ],
 "metadata": {
  "kernelspec": {
   "display_name": "Python 3",
   "language": "python",
   "name": "python3"
  },
  "language_info": {
   "codemirror_mode": {
    "name": "ipython",
    "version": 3
   },
   "file_extension": ".py",
   "mimetype": "text/x-python",
   "name": "python",
   "nbconvert_exporter": "python",
   "pygments_lexer": "ipython3",
   "version": "3.4.4"
  }
 },
 "nbformat": 4,
 "nbformat_minor": 0
}
