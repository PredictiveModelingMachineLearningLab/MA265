{
 "cells": [
  {
   "cell_type": "markdown",
   "metadata": {},
   "source": [
    "# Section 3.3 $\\quad$ Cofactor Expansion"
   ]
  },
  {
   "cell_type": "markdown",
   "metadata": {},
   "source": [
    "## Definition of Minor"
   ]
  },
  {
   "cell_type": "markdown",
   "metadata": {},
   "source": [
    "Let $A = [a_{ij}]$ be an $n\\times n$ matrix. <br /><br /><br /><br />"
   ]
  },
  {
   "cell_type": "markdown",
   "metadata": {},
   "source": [
    "## Definition of Cofactor"
   ]
  },
  {
   "cell_type": "markdown",
   "metadata": {},
   "source": [
    "Let $A = [a_{ij}]$ be an $n\\times n$ matrix. <br /><br /><br /><br />"
   ]
  },
  {
   "cell_type": "markdown",
   "metadata": {},
   "source": [
    "### Example 1"
   ]
  },
  {
   "cell_type": "markdown",
   "metadata": {},
   "source": [
    "Find the cofactors $A_{12}$ and $A_{23}$ if\n",
    "\\begin{equation*}\n",
    "  A =\n",
    "  \\left[\n",
    "    \\begin{array}{ccc}\n",
    "      4 & 3 & 2 \\\\\n",
    "      4 & -2 & 5 \\\\\n",
    "      2 & 4 & 6 \\\\\n",
    "    \\end{array}\n",
    "  \\right]\n",
    "\\end{equation*}"
   ]
  },
  {
   "cell_type": "code",
   "execution_count": 1,
   "metadata": {
    "collapsed": false
   },
   "outputs": [
    {
     "data": {
      "text/plain": [
       "(-14, -10)"
      ]
     },
     "execution_count": 1,
     "metadata": {},
     "output_type": "execute_result"
    }
   ],
   "source": [
    "from sympy import *\n",
    "\n",
    "A = Matrix([[4, 3, 2], [4, -2, 5], [2, 4, 6]]);\n",
    "\n",
    "A.cofactor(0, 1), A.cofactor(1, 2)"
   ]
  },
  {
   "cell_type": "markdown",
   "metadata": {},
   "source": [
    ">**Theorem (cofactor expansion)** Let $A = [a_{ij}]$ be an $n\\times n$ matrix. Then<br /><br />\n",
    "\\begin{equation*}\n",
    "det(A) = \\qquad\\qquad\\qquad\\qquad\\qquad\\qquad\\qquad\\qquad\\qquad\\qquad\\qquad\\qquad\\qquad\\qquad\\qquad\\qquad\n",
    "\\end{equation*}\n",
    "<br /><br />\n",
    "and<br /><br />\n",
    "\\begin{equation*}\n",
    "det(A) = \\qquad\\qquad\\qquad\\qquad\\qquad\\qquad\\qquad\\qquad\\qquad\\qquad\\qquad\\qquad\\qquad\\qquad\\qquad\\qquad\n",
    "\\end{equation*}\n",
    "<br /><br /><br /><br />"
   ]
  },
  {
   "cell_type": "markdown",
   "metadata": {},
   "source": [
    "### Example 2"
   ]
  },
  {
   "cell_type": "markdown",
   "metadata": {},
   "source": [
    "Find the determinant of\n",
    "\\begin{equation*}\n",
    "  A = \\left[\n",
    "    \\begin{array}{cccc}\n",
    "      1 & 2 & -3 & 4 \\\\\n",
    "      -4 & 2 & 1 & 3 \\\\\n",
    "      3 & 0 & 0 & -3 \\\\\n",
    "      2 & 0 & -2 & 3 \\\\\n",
    "    \\end{array}\n",
    "  \\right]\n",
    "\\end{equation*}"
   ]
  },
  {
   "cell_type": "code",
   "execution_count": 2,
   "metadata": {
    "collapsed": false
   },
   "outputs": [
    {
     "data": {
      "text/plain": [
       "48"
      ]
     },
     "execution_count": 2,
     "metadata": {},
     "output_type": "execute_result"
    }
   ],
   "source": [
    "from sympy import *\n",
    "\n",
    "A = Matrix([[1, 2, -3, 4], [-4, 2, 1, 3], [3, 0, 0, -3], [2, 0, -2, 3]]);\n",
    "\n",
    "A.det()"
   ]
  },
  {
   "cell_type": "markdown",
   "metadata": {},
   "source": [
    "### Example 3"
   ]
  },
  {
   "cell_type": "markdown",
   "metadata": {},
   "source": [
    "Find all values of $t$ for which\n",
    "\\begin{equation*}\n",
    "  det\\left[\n",
    "    \\begin{array}{ccc}\n",
    "      t-1 & 0 & 1 \\\\\n",
    "      2 & t+2 & -1 \\\\\n",
    "      0 & 0 & t+1 \\\\\n",
    "    \\end{array}\n",
    "  \\right] = 0\n",
    "\\end{equation*}"
   ]
  },
  {
   "cell_type": "code",
   "execution_count": 3,
   "metadata": {
    "collapsed": false
   },
   "outputs": [
    {
     "data": {
      "text/plain": [
       "[-2, -1, 1]"
      ]
     },
     "execution_count": 3,
     "metadata": {},
     "output_type": "execute_result"
    }
   ],
   "source": [
    "from sympy import *\n",
    "\n",
    "t = symbols('t');\n",
    "A = Matrix([[t-1, 0, 1], [2, t+2, -1], [0, 0, t+1]]);\n",
    "\n",
    "solve(A.det())"
   ]
  }
 ],
 "metadata": {
  "kernelspec": {
   "display_name": "Python 3",
   "language": "python",
   "name": "python3"
  },
  "language_info": {
   "codemirror_mode": {
    "name": "ipython",
    "version": 3
   },
   "file_extension": ".py",
   "mimetype": "text/x-python",
   "name": "python",
   "nbconvert_exporter": "python",
   "pygments_lexer": "ipython3",
   "version": "3.4.4"
  }
 },
 "nbformat": 4,
 "nbformat_minor": 0
}
