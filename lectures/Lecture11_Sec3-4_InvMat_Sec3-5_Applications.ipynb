{
 "cells": [
  {
   "cell_type": "markdown",
   "metadata": {},
   "source": [
    "# Section 3.4 $\\quad$ Inverse of a Matrix"
   ]
  },
  {
   "cell_type": "markdown",
   "metadata": {},
   "source": [
    "$\\underline{\\text{Review: Cofactor Expansion}}$"
   ]
  },
  {
   "cell_type": "markdown",
   "metadata": {},
   "source": [
    "\\begin{equation*}\n",
    "   \\det(A) = \\hspace{4.5in}\n",
    "\\end{equation*}"
   ]
  },
  {
   "cell_type": "markdown",
   "metadata": {},
   "source": [
    ">**Theorem** If $A = [a_{ij}]$ is an $n\\times n$ matrix, then\n",
    "- <br /><br /><br /><br />\n",
    "- <br /><br /><br /><br />"
   ]
  },
  {
   "cell_type": "markdown",
   "metadata": {},
   "source": [
    "$\\qquad$ **Proof** <br /><br /><br /><br /><br /><br /><br />"
   ]
  },
  {
   "cell_type": "markdown",
   "metadata": {},
   "source": [
    "## Definition of Adjoint Matrix"
   ]
  },
  {
   "cell_type": "markdown",
   "metadata": {},
   "source": [
    "Let $A=[a_{ij}]$ be an $n\\times n$ matrix. <br /><br /><br /><br />"
   ]
  },
  {
   "cell_type": "markdown",
   "metadata": {},
   "source": [
    "### Example 1"
   ]
  },
  {
   "cell_type": "markdown",
   "metadata": {},
   "source": [
    "Compute adj $ A$ where\n",
    "\\begin{equation*}\n",
    "  A =\n",
    "  \\left[\n",
    "    \\begin{array}{ccc}\n",
    "      3 & -2 & 1 \\\\\n",
    "      5 & 6 & 2 \\\\\n",
    "      1 & 0 & -3 \\\\\n",
    "    \\end{array}\n",
    "  \\right]\n",
    "\\end{equation*}"
   ]
  },
  {
   "cell_type": "code",
   "execution_count": 1,
   "metadata": {
    "collapsed": false
   },
   "outputs": [
    {
     "data": {
      "text/plain": [
       "Matrix([\n",
       "[ 3, 5,  1],\n",
       "[-2, 6,  0],\n",
       "[ 1, 2, -3]])"
      ]
     },
     "execution_count": 1,
     "metadata": {},
     "output_type": "execute_result"
    }
   ],
   "source": [
    "from sympy import *\n",
    "\n",
    "A = Matrix([[3, -2, 1], [5, 6, 2], [1, 0, -3]]);\n",
    "\n",
    "A.adjoint()"
   ]
  },
  {
   "cell_type": "markdown",
   "metadata": {},
   "source": [
    ">**Theorem** If $A = [a_{ij}]$ is an $n\\times n$ matrix, then <br /><br /><br /><br />"
   ]
  },
  {
   "cell_type": "markdown",
   "metadata": {},
   "source": [
    "**Remark:** If $A = [a_{ij}]$ is an $n\\times n$ matrix and $\\det(A)\\neq 0$, then <br /><br /><br /><br />"
   ]
  },
  {
   "cell_type": "markdown",
   "metadata": {},
   "source": [
    "# Section 3.5 $\\quad$ Other Applications of Determinants"
   ]
  },
  {
   "cell_type": "markdown",
   "metadata": {},
   "source": [
    "**Cramer's Rule:** a method for solving a linear system of $n$ equations and $n$ unknowns"
   ]
  },
  {
   "cell_type": "markdown",
   "metadata": {},
   "source": [
    "Let\n",
    "\\begin{eqnarray*}\n",
    "% \\nonumber to remove numbering (before each equation)\n",
    "  a_{11}x_1 + a_{12}x_2 + \\cdots + a_{1n}x_n &=& b_1 \\\\\n",
    "  a_{21}x_1 + a_{22}x_2 + \\cdots + a_{2n}x_n &=& b_2 \\\\\n",
    "  \\vdots\\hspace{1in} && \\vdots  \\\\\n",
    "  a_{n1}x_1 + a_{n2}x_2 + \\cdots + a_{nn}x_n &=& b_n\n",
    "\\end{eqnarray*}\n",
    "be a linear system of $n$ equations and $n$ unknowns. <br /><br /><br /><br /><br /><br /><br />"
   ]
  },
  {
   "cell_type": "markdown",
   "metadata": {},
   "source": [
    "### Example 2"
   ]
  },
  {
   "cell_type": "markdown",
   "metadata": {},
   "source": [
    "Use Cramer's rule to solve the following linear system:\n",
    "\\begin{eqnarray*}\n",
    "% \\nonumber to remove numbering (before each equation)\n",
    "  -2x_1+3x_2-x_3 &=& 1 \\\\\n",
    "  x_1+2x_2-x_3 &=& 4 \\\\\n",
    "  -2x_1-x_2+x_3 &=& -3\n",
    "\\end{eqnarray*}"
   ]
  },
  {
   "cell_type": "code",
   "execution_count": 2,
   "metadata": {
    "collapsed": false
   },
   "outputs": [
    {
     "data": {
      "text/plain": [
       "array([ 2.,  3.,  4.])"
      ]
     },
     "execution_count": 2,
     "metadata": {},
     "output_type": "execute_result"
    }
   ],
   "source": [
    "from numpy import *\n",
    "from numpy.linalg import solve\n",
    "\n",
    "A = array([[-2, 3, -1], [1, 2, -1], [-2, -1, 1]]);\n",
    "b = array([1, 4, -3]);\n",
    "\n",
    "solve(A, b)"
   ]
  }
 ],
 "metadata": {
  "kernelspec": {
   "display_name": "Python 3",
   "language": "python",
   "name": "python3"
  },
  "language_info": {
   "codemirror_mode": {
    "name": "ipython",
    "version": 3
   },
   "file_extension": ".py",
   "mimetype": "text/x-python",
   "name": "python",
   "nbconvert_exporter": "python",
   "pygments_lexer": "ipython3",
   "version": "3.4.4"
  }
 },
 "nbformat": 4,
 "nbformat_minor": 0
}
