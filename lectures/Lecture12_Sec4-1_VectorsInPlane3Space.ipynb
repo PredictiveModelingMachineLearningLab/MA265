{
 "cells": [
  {
   "cell_type": "markdown",
   "metadata": {},
   "source": [
    "# Section 4.1 $\\quad$ Vectors in the Plane and in 3-Space"
   ]
  },
  {
   "cell_type": "markdown",
   "metadata": {},
   "source": [
    "## Definitions of scalar and vector"
   ]
  },
  {
   "cell_type": "markdown",
   "metadata": {},
   "source": [
    "- Measurable quantities that can be completely described by giving their magnitude are called $\\underline{\\hspace{1in}}$ For example, $\\underline{\\hspace{2in}}$.\n",
    "- Measurable quantities that require for description not only magnitude, but also a sense of direction, are called $\\underline{\\hspace{1in}}$ For example, $\\underline{\\hspace{2in}}$."
   ]
  },
  {
   "cell_type": "markdown",
   "metadata": {},
   "source": [
    "## Vector in Plane"
   ]
  },
  {
   "cell_type": "markdown",
   "metadata": {},
   "source": [
    "- A pair of perpendicular lines intersect at a point $O$, which is called the $\\underline{\\hspace{1in}}$.\n",
    "- The horizontal line is called $\\underline{\\hspace{1in}}$, and the vertical line is called $\\underline{\\hspace{1in}}$.\n",
    "- The $x$- and $y$- axes together are called  $\\underline{\\hspace{1in}}$, and they form a $\\underline{\\hspace{2in}}$ or a $\\underline{\\hspace{2in}}$.\n",
    "- With each point $P$ in the plane, we associate an order pair $(x,y)$ of real numbers, its $\\underline{\\hspace{1in}}$, and denoted by $\\underline{\\hspace{1in}}$.\n",
    "- Draw a direct line segment from $O$ to $P$, denoted by $\\underline{\\hspace{1in}}$. Here $O$ is called its $\\underline{\\hspace{1in}}$ and $P$ is called its $\\underline{\\hspace{1in}}$.\n",
    "- The line segment has a $\\underline{\\hspace{1in}}$, indicated by the arrow at its head. The length of the line segment is called the $\\underline{\\hspace{1in}}$."
   ]
  },
  {
   "cell_type": "markdown",
   "metadata": {},
   "source": [
    "## Definition"
   ]
  },
  {
   "cell_type": "markdown",
   "metadata": {},
   "source": [
    "A **vector in the plane** is <br /><br /><br /><br />"
   ]
  },
  {
   "cell_type": "markdown",
   "metadata": {},
   "source": [
    "**Remark:** Two vectors are equal if and only if"
   ]
  },
  {
   "cell_type": "markdown",
   "metadata": {},
   "source": [
    "### Example 1"
   ]
  },
  {
   "cell_type": "markdown",
   "metadata": {},
   "source": [
    "Find the values of $a$ and $b$ such that the following vectors are equal:\n",
    "\\begin{equation*}\n",
    "  \\left[\n",
    "     \\begin{array}{c}\n",
    "       a+b \\\\\n",
    "       2 \\\\\n",
    "     \\end{array}\n",
    "   \\right]~~~~\\text{and}~~~~\n",
    "   \\left[\n",
    "     \\begin{array}{c}\n",
    "       3 \\\\\n",
    "       a-b \\\\\n",
    "     \\end{array}\n",
    "   \\right]\n",
    "\\end{equation*}"
   ]
  },
  {
   "cell_type": "code",
   "execution_count": 1,
   "metadata": {
    "collapsed": false
   },
   "outputs": [
    {
     "data": {
      "text/plain": [
       "{a: 5/2, b: 1/2}"
      ]
     },
     "execution_count": 1,
     "metadata": {},
     "output_type": "execute_result"
    }
   ],
   "source": [
    "from sympy import *\n",
    "\n",
    "a, b = symbols('a b');\n",
    "\n",
    "Eq1 = a + b - 3;\n",
    "Eq2 = 2 - a + b;\n",
    "\n",
    "solve([Eq1, Eq2],(a, b))"
   ]
  },
  {
   "cell_type": "markdown",
   "metadata": {},
   "source": [
    "- A directed line segment $\\overrightarrow{PQ}$ from the point $P(x,y)$ to the point $Q(x',y')$ is also a $\\underline{\\hspace{1in}}$.\n",
    "- The **head** and **tail** of this vector is $\\underline{\\hspace{1in}}$ and $\\underline{\\hspace{1in}}$, respectively. The vector $\\overline{PQ}$ can be represented by\n",
    "<br /><br /><br /><br />"
   ]
  },
  {
   "cell_type": "markdown",
   "metadata": {},
   "source": [
    "**Remark:** Different direct lines <br /><br /><br /><br /><br /><br /><br />"
   ]
  },
  {
   "cell_type": "markdown",
   "metadata": {},
   "source": [
    "## Vector Operations"
   ]
  },
  {
   "cell_type": "markdown",
   "metadata": {},
   "source": [
    "Let $\n",
    "  \\mathbf{u} = \\left[\n",
    "     \\begin{array}{c}\n",
    "       u_1 \\\\\n",
    "       u_2 \\\\\n",
    "     \\end{array}\n",
    "   \\right]~\\text{and}~\n",
    "   \\mathbf{v} = \\left[\n",
    "     \\begin{array}{c}\n",
    "       v_1 \\\\\n",
    "       v_2 \\\\\n",
    "     \\end{array}\n",
    "   \\right]$\n",
    "be two vectors. Let $c$ be a scaler (a real number)."
   ]
  },
  {
   "cell_type": "markdown",
   "metadata": {},
   "source": [
    "- The **sum** of the vector $\\mathbf{u}$ and $\\mathbf{v}$ is\n",
    "<br /><br /><br /><br />\n",
    "- The **scalar multiple** $c\\mathbf{u}$ is <br /><br /><br /><br />"
   ]
  },
  {
   "cell_type": "markdown",
   "metadata": {},
   "source": [
    "The vector $\\left[\n",
    "     \\begin{array}{c}\n",
    "       0 \\\\\n",
    "       0 \\\\\n",
    "     \\end{array}\n",
    "   \\right]$\n",
    "is called $\\underline{\\hspace{1.4in}}$ and denoted by $\\underline{\\hspace{.4in}}$."
   ]
  },
  {
   "cell_type": "markdown",
   "metadata": {},
   "source": [
    "## Parallelogram Law"
   ]
  },
  {
   "cell_type": "markdown",
   "metadata": {},
   "source": [
    "### Example 2"
   ]
  },
  {
   "cell_type": "markdown",
   "metadata": {},
   "source": [
    "Let\n",
    "\\begin{equation*}\n",
    "  \\mathbf{u} = \\left[\n",
    "     \\begin{array}{c}\n",
    "       2 \\\\\n",
    "       3 \\\\\n",
    "     \\end{array}\n",
    "   \\right]~~~~\\text{and}~~~~\n",
    "    \\mathbf{v} = \\left[\n",
    "     \\begin{array}{c}\n",
    "       3 \\\\\n",
    "       0 \\\\\n",
    "     \\end{array}\n",
    "   \\right]\n",
    "\\end{equation*}\n",
    "Find $\\mathbf{u}+\\mathbf{v}$, $\\mathbf{u}-\\mathbf{v}$, $2\\mathbf{u}$, and $-\\mathbf{u}$"
   ]
  },
  {
   "cell_type": "code",
   "execution_count": 2,
   "metadata": {
    "collapsed": false
   },
   "outputs": [
    {
     "data": {
      "text/plain": [
       "(array([5, 3]), array([-1,  3]), array([4, 6]), array([-2, -3]))"
      ]
     },
     "execution_count": 2,
     "metadata": {},
     "output_type": "execute_result"
    }
   ],
   "source": [
    "from numpy import *\n",
    "\n",
    "u = array([2, 3]);\n",
    "v = array([3, 0]);\n",
    "\n",
    "u+v, u-v, 2*u, -u"
   ]
  },
  {
   "cell_type": "markdown",
   "metadata": {},
   "source": [
    "## Vector in Space"
   ]
  },
  {
   "cell_type": "markdown",
   "metadata": {},
   "source": [
    "In space, there are three coordinate axes which are called $x$-, $y$-, and $z$- axes. There are two types of coordinate systems.\n",
    "\\begin{equation*}\n",
    "  \\textbf{Right-Handed Coordinate System}~~~~\\textbf{Left-Handed Coordinate System}\n",
    "\\end{equation*}\n",
    "<br /><br /><br /><br /><br /><br /><br />"
   ]
  },
  {
   "cell_type": "markdown",
   "metadata": {},
   "source": [
    "## Properties of vector in $\\mathbb{R}^2$ and $\\mathbb{R}^3$"
   ]
  },
  {
   "cell_type": "markdown",
   "metadata": {},
   "source": [
    "Let $\\mathbf{u}$, $\\mathbf{v}$, and $\\mathbf{w}$ be vectors in $\\mathbb{R}^2$ or $\\mathbb{R}^3$, and $c$, $d$ be real numbers.\n",
    "1. <br /><br /> \n",
    "- <br /><br />\n",
    "- <br /><br />\n",
    "- <br /><br />\n",
    "- <br /><br />\n",
    "- <br /><br />\n",
    "- <br /><br />\n",
    "- <br /><br />"
   ]
  }
 ],
 "metadata": {
  "kernelspec": {
   "display_name": "Python 3",
   "language": "python",
   "name": "python3"
  },
  "language_info": {
   "codemirror_mode": {
    "name": "ipython",
    "version": 3
   },
   "file_extension": ".py",
   "mimetype": "text/x-python",
   "name": "python",
   "nbconvert_exporter": "python",
   "pygments_lexer": "ipython3",
   "version": "3.4.4"
  }
 },
 "nbformat": 4,
 "nbformat_minor": 0
}
