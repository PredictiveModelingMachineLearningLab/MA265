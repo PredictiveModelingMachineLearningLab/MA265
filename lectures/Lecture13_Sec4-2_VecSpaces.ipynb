{
 "cells": [
  {
   "cell_type": "markdown",
   "metadata": {},
   "source": [
    "# Section 4.2 $\\quad$ Vector Spaces"
   ]
  },
  {
   "cell_type": "markdown",
   "metadata": {},
   "source": [
    "## Definition of Vector Space"
   ]
  },
  {
   "cell_type": "markdown",
   "metadata": {},
   "source": [
    "A $\\underline{\\hspace{2in}}$ is a set $V$ of elements on which we have two operations $\\underline{\\hspace{.5in}}$ and $\\underline{\\hspace{.5in}}$ defined with following properties:"
   ]
  },
  {
   "cell_type": "markdown",
   "metadata": {},
   "source": [
    "**(a)** If $\\mathbf{u}$ and $\\mathbf{v}$ are any elements in $V$, then $\\mathbf{u}\\oplus \\mathbf{v}$ is in $V$. <br />\n",
    "  ($V$ is closed under the operation $\\oplus$)\n",
    "<br />\n",
    "1.<br /><br />\n",
    "2.<br /><br />\n",
    "3.<br /><br />\n",
    "4.<br /><br />"
   ]
  },
  {
   "cell_type": "markdown",
   "metadata": {},
   "source": [
    "**(b)** If $\\mathbf{u}$ is any element in $V$, and $c$ is a real number, then $c\\odot \\mathbf{u}$ is in $V$. <br />\n",
    "  ($V$ is closed under the operation $\\odot$)\n",
    "<br />  \n",
    "5.<br /><br />\n",
    "6.<br /><br />\n",
    "7.<br /><br />\n",
    "8.<br /><br />"
   ]
  },
  {
   "cell_type": "markdown",
   "metadata": {},
   "source": [
    "- The elements of $V$ are called $\\underline{\\hspace{1in}}$, and elements of the set of real numbers $\\mathbb{R}$ are called $\\underline{\\hspace{1in}}$.\n",
    "- The operation $\\oplus$ is called $\\underline{\\hspace{1.5in}}$, and $\\odot$ is called $\\underline{\\hspace{1.5in}}$.\n",
    "- The vector $\\mathbf{0}$ (in item (3)) is called $\\underline{\\hspace{1.5in}}$.\n",
    "- The vector $-\\mathbf{u}$ (in item (4)) is called  $\\underline{\\hspace{1.5in}}$."
   ]
  },
  {
   "cell_type": "markdown",
   "metadata": {},
   "source": [
    "### Example 1"
   ]
  },
  {
   "cell_type": "markdown",
   "metadata": {},
   "source": [
    "The set $M_{mn}$ of all $m\\times n$ matrices with matrix addition as $\\oplus$ and scalar multiplications as $\\odot$ is a vector space."
   ]
  },
  {
   "cell_type": "markdown",
   "metadata": {},
   "source": [
    "### Example 2"
   ]
  },
  {
   "cell_type": "markdown",
   "metadata": {},
   "source": [
    "Let $V$ be the set of all $2\\times 2$ matrices with trace (sum of diagonal elements) equal to zero; that is\n",
    "\\begin{equation*}\n",
    "  A =\n",
    "  \\left[\n",
    "    \\begin{array}{cc}\n",
    "      a & b \\\\\n",
    "      c & d \\\\\n",
    "    \\end{array}\n",
    "  \\right]\\text{ is in } V ~~~~ \\text{provided }~ Tr(A) = a+d = 0.\n",
    "\\end{equation*}\n",
    "The operation $\\oplus$ is matrix addition and the operation $\\odot$ is scalar multiplications. Is $V$ a vector space?"
   ]
  },
  {
   "cell_type": "markdown",
   "metadata": {},
   "source": [
    "### Example 3"
   ]
  },
  {
   "cell_type": "markdown",
   "metadata": {},
   "source": [
    "Let $V$ be the set of all $2\\times 2$ with the $(1,1)$-th entry equal to 1; that is\n",
    "\\begin{equation*}\n",
    "  A =\n",
    "  \\left[\n",
    "    \\begin{array}{cc}\n",
    "      1 & b \\\\\n",
    "      c & d \\\\\n",
    "    \\end{array}\n",
    "  \\right]\\text{ is in } V.\n",
    "\\end{equation*}\n",
    "The operation $\\oplus$ is matrix addition and the operation $\\odot$ is scalar multiplications. Is $V$ a vector space?"
   ]
  },
  {
   "cell_type": "markdown",
   "metadata": {},
   "source": [
    "### Example 4"
   ]
  },
  {
   "cell_type": "markdown",
   "metadata": {},
   "source": [
    "Let $V$ be the set of all real numbers with the operations\n",
    "\\begin{equation*}\n",
    "  \\mathbf{u}\\oplus\\mathbf{v} = \\mathbf{u}-\\mathbf{v},~~~~~~\n",
    "  c\\odot\\mathbf{u} = c\\mathbf{u}\n",
    "\\end{equation*}\n",
    "Is $V$ a vector space?"
   ]
  },
  {
   "cell_type": "markdown",
   "metadata": {},
   "source": [
    "### Example 5"
   ]
  },
  {
   "cell_type": "markdown",
   "metadata": {},
   "source": [
    "Let $V$ be the set of all integers; define $\\oplus$ as ordinary addition and $\\odot$ as ordinary multiplication. Is $V$ a vector space?"
   ]
  }
 ],
 "metadata": {
  "kernelspec": {
   "display_name": "Python 3",
   "language": "python",
   "name": "python3"
  },
  "language_info": {
   "codemirror_mode": {
    "name": "ipython",
    "version": 3
   },
   "file_extension": ".py",
   "mimetype": "text/x-python",
   "name": "python",
   "nbconvert_exporter": "python",
   "pygments_lexer": "ipython3",
   "version": "3.4.4"
  }
 },
 "nbformat": 4,
 "nbformat_minor": 0
}
