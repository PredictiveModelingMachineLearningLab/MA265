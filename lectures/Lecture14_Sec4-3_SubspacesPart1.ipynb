{
 "cells": [
  {
   "cell_type": "markdown",
   "metadata": {},
   "source": [
    "# Section 4.3 $\\quad$ Subspaces"
   ]
  },
  {
   "cell_type": "markdown",
   "metadata": {},
   "source": [
    "## Definition of Subspaces"
   ]
  },
  {
   "cell_type": "markdown",
   "metadata": {},
   "source": [
    "Let $V$ be a vector space and $W$ a nonempty subset of $V$. If <br /><br /><br /><br />"
   ]
  },
  {
   "cell_type": "markdown",
   "metadata": {},
   "source": [
    "To check $W$ is a subspace of $V$, we only need to check $\\underline{\\textbf{closure}}$ property for $\\oplus$ and $\\odot$ on $W$:"
   ]
  },
  {
   "cell_type": "markdown",
   "metadata": {},
   "source": [
    ">**Theorem** Let $V$ be a vector space with operation $\\oplus$ and $\\odot$, and let $W$ be a nonempty subset of $V$. Then $W$ a nonempty subset of $V$ if and only if\n",
    "- <br /><br />\n",
    "- <br /><br />"
   ]
  },
  {
   "cell_type": "markdown",
   "metadata": {},
   "source": [
    "### Example 1"
   ]
  },
  {
   "cell_type": "markdown",
   "metadata": {},
   "source": [
    "Every vector space has at least two subspaces: <br /><br /><br /><br />"
   ]
  },
  {
   "cell_type": "markdown",
   "metadata": {},
   "source": [
    "### Example 2"
   ]
  },
  {
   "cell_type": "markdown",
   "metadata": {},
   "source": [
    "Let $P$ be the set of all polynomials.\n",
    "- Let $P_2$ be the set of all polynomials of degree $\\leq 2$. Is $P_2$ a subset of $P$?\n",
    "- Let $Q_2$ be the set all polynomials of degree $=2$. Is $Q_2$ a subset of $P$?"
   ]
  },
  {
   "cell_type": "markdown",
   "metadata": {},
   "source": [
    "### Example 3"
   ]
  },
  {
   "cell_type": "markdown",
   "metadata": {},
   "source": [
    "Which of the following subsets of $\\mathbb{R}^2$ with usual operations of vector addition and scalar multiplication are subspaces?\n",
    "- $W_1$ is the set of all vectors of the form $\\left[\\begin{array}{c}x \\\\ y \\end{array}\\right]$, where $x\\geq 0$.\n",
    "- $W_2$ is the set of all vectors of the form $\\left[\\begin{array}{c}x \\\\ y \\end{array}\\right]$, where $x\\geq 0$, and $y\\geq 0$.\n",
    "- $W_3$ is the set of all vectors of the form $\\left[\\begin{array}{c}x \\\\ y \\end{array}\\right]$, where $x=0$."
   ]
  },
  {
   "cell_type": "markdown",
   "metadata": {},
   "source": [
    "### Example 4"
   ]
  },
  {
   "cell_type": "markdown",
   "metadata": {},
   "source": [
    "Let $W$ be the set of vectors in $\\mathbb{R}^3$ of the form $\\left[\\begin{array}{c}a \\\\ b \\\\ a+b \\end{array}\\right]$, where $a$ and $b$ are any real numbers. Is $W$ a subspace of $\\mathbb{R}^3$?"
   ]
  },
  {
   "cell_type": "markdown",
   "metadata": {},
   "source": [
    "### Example 5"
   ]
  },
  {
   "cell_type": "markdown",
   "metadata": {},
   "source": [
    "Let $\\mathbf{v}_1$ and $\\mathbf{v}_2$ be fixed vectors in a space $V$. Let $W$ be the set of all vectors in the form\n",
    "$a\\mathbf{v}_1+b\\mathbf{v}_2$, where $a$ and $b$ are any real numbers. Is $W$ a subspace of $V$?"
   ]
  }
 ],
 "metadata": {
  "kernelspec": {
   "display_name": "Python 3",
   "language": "python",
   "name": "python3"
  },
  "language_info": {
   "codemirror_mode": {
    "name": "ipython",
    "version": 3
   },
   "file_extension": ".py",
   "mimetype": "text/x-python",
   "name": "python",
   "nbconvert_exporter": "python",
   "pygments_lexer": "ipython3",
   "version": "3.4.4"
  }
 },
 "nbformat": 4,
 "nbformat_minor": 0
}
