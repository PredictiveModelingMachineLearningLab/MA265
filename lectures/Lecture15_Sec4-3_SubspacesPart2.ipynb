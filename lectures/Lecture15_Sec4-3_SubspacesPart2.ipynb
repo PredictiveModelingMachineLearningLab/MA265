{
 "cells": [
  {
   "cell_type": "markdown",
   "metadata": {},
   "source": [
    "# Section 4.3 $\\quad$ Subspaces (cont)"
   ]
  },
  {
   "cell_type": "markdown",
   "metadata": {},
   "source": [
    "## Definition of Linear Combination"
   ]
  },
  {
   "cell_type": "markdown",
   "metadata": {},
   "source": [
    "Let $\\mathbf{v}_1$, $\\mathbf{v}_2$, $\\cdots$, $\\mathbf{v}_k$ be vectors in a vector space $V$. <br /><br /><br /><br />"
   ]
  },
  {
   "cell_type": "markdown",
   "metadata": {},
   "source": [
    "### Example 1"
   ]
  },
  {
   "cell_type": "markdown",
   "metadata": {},
   "source": [
    "Every polynomial of degree $\\leq 2$ is a linear combination of $t^2$, $t$, $1$."
   ]
  },
  {
   "cell_type": "markdown",
   "metadata": {},
   "source": [
    "### Example 2"
   ]
  },
  {
   "cell_type": "markdown",
   "metadata": {},
   "source": [
    "Show that the set of all vectors in $\\mathbb{R}^3$ of the form $\\left[\\begin{array}{c}a \\\\ b \\\\ a+b \\end{array}\\right]$ is a linear combination of $\\mathbf{v}_1 = \\left[\\begin{array}{c}1 \\\\ 0 \\\\ 1 \\end{array}\\right]$ and $\\mathbf{v}_2 = \\left[\\begin{array}{c}0 \\\\ 1 \\\\ 1 \\end{array}\\right]$."
   ]
  },
  {
   "cell_type": "markdown",
   "metadata": {},
   "source": [
    "### Example 3"
   ]
  },
  {
   "cell_type": "markdown",
   "metadata": {},
   "source": [
    "In $\\mathbb{R}^3$, let\n",
    "\\begin{equation*}\n",
    "  \\mathbf{v}_1 = \\left[\\begin{array}{c}1 \\\\ 2 \\\\ 1 \\end{array}\\right],~~~\n",
    "  \\mathbf{v}_2 = \\left[\\begin{array}{c}1 \\\\ 0 \\\\ 2 \\end{array}\\right],~~~\n",
    "  \\mathbf{v}_3 = \\left[\\begin{array}{c}1 \\\\ 1 \\\\ 0 \\end{array}\\right]\n",
    "\\end{equation*}\n",
    "Verify that the vector\n",
    "\\begin{equation*}\n",
    "\\mathbf{v} = \\left[\\begin{array}{c}2 \\\\ 1 \\\\ 5 \\end{array}\\right]\n",
    "\\end{equation*}\n",
    "is a linear combination of $\\mathbf{v}_1$, $\\mathbf{v}_2$, and $\\mathbf{v}_3$."
   ]
  },
  {
   "cell_type": "code",
   "execution_count": 1,
   "metadata": {
    "collapsed": false
   },
   "outputs": [
    {
     "data": {
      "text/plain": [
       "{a: 1, b: 2, c: -1}"
      ]
     },
     "execution_count": 1,
     "metadata": {},
     "output_type": "execute_result"
    }
   ],
   "source": [
    "from sympy import *\n",
    "\n",
    "a, b, c = symbols('a b c');\n",
    "\n",
    "Eq1 = a + b + c - 2;\n",
    "Eq2 = 2*a + c - 1;\n",
    "Eq3 = a + 2*b - 5;\n",
    "\n",
    "solve([Eq1, Eq2, Eq3], (a, b, c))"
   ]
  },
  {
   "cell_type": "markdown",
   "metadata": {},
   "source": [
    "### Example 4"
   ]
  },
  {
   "cell_type": "markdown",
   "metadata": {},
   "source": [
    "Consider the homogeneous system\n",
    "$$A\\mathbf{x} = \\mathbf{0}$$\n",
    "where $A$ is an $m\\times n$ matrix. The set $W$ of solutions is a subset of $\\mathbb{R}^n$. Verify that $W$ is a subspace of $\\mathbb{R}^n$ (called **solution space**)."
   ]
  },
  {
   "cell_type": "markdown",
   "metadata": {},
   "source": [
    "**Remark** The set of all solutions of the linear system $A\\mathbf{x} = \\mathbf{b}$, with $\\mathbf{b} \\neq \\mathbf{0}$, is <br /><br /><br /><br />"
   ]
  }
 ],
 "metadata": {
  "kernelspec": {
   "display_name": "Python 3",
   "language": "python",
   "name": "python3"
  },
  "language_info": {
   "codemirror_mode": {
    "name": "ipython",
    "version": 3
   },
   "file_extension": ".py",
   "mimetype": "text/x-python",
   "name": "python",
   "nbconvert_exporter": "python",
   "pygments_lexer": "ipython3",
   "version": "3.4.4"
  }
 },
 "nbformat": 4,
 "nbformat_minor": 0
}
