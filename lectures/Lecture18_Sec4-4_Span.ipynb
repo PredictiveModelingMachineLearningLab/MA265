{
 "cells": [
  {
   "cell_type": "markdown",
   "metadata": {},
   "source": [
    "# Section 4.4 $\\quad$ Span"
   ]
  },
  {
   "cell_type": "markdown",
   "metadata": {},
   "source": [
    "## Review of Linear Combination"
   ]
  },
  {
   "cell_type": "markdown",
   "metadata": {},
   "source": [
    "If $\\mathbf{v}_1$ and $\\mathbf{v}_2$ are two vectors in a vector space $V$, <br /><br /><br /><br />"
   ]
  },
  {
   "cell_type": "markdown",
   "metadata": {},
   "source": [
    "## Definition of Span"
   ]
  },
  {
   "cell_type": "markdown",
   "metadata": {},
   "source": [
    ">If $S = \\{\\mathbf{v}_1, \\mathbf{v}_2, \\cdots, \\mathbf{v}_k\\}$ is a set of vectors in a vector space $V$, <br /><br /><br /><br />"
   ]
  },
  {
   "cell_type": "markdown",
   "metadata": {},
   "source": [
    "### Example 1"
   ]
  },
  {
   "cell_type": "markdown",
   "metadata": {},
   "source": [
    "Let $S$ be the set of $2\\times 2$ matrices given by\n",
    "\\begin{equation*}\n",
    "  S =\n",
    "  \\left\\{\n",
    "  \\left[\n",
    "    \\begin{array}{cc}\n",
    "      1 & 0 \\\\\n",
    "      0 & 0 \\\\\n",
    "    \\end{array}\n",
    "  \\right],~\n",
    "  \\left[\n",
    "    \\begin{array}{cc}\n",
    "      0 & 0 \\\\\n",
    "      0 & 1 \\\\\n",
    "    \\end{array}\n",
    "  \\right]\n",
    "  \\right\\}\n",
    "\\end{equation*}\n",
    "Find span $S$"
   ]
  },
  {
   "cell_type": "code",
   "execution_count": 1,
   "metadata": {
    "collapsed": false
   },
   "outputs": [
    {
     "data": {
      "text/plain": [
       "Matrix([\n",
       "[a, 0],\n",
       "[0, b]])"
      ]
     },
     "execution_count": 1,
     "metadata": {},
     "output_type": "execute_result"
    }
   ],
   "source": [
    "from sympy import *\n",
    "\n",
    "a, b = symbols('a b');\n",
    "\n",
    "A = Matrix([[1, 0], [0, 0]]);\n",
    "B = Matrix([[0, 0], [0, 1]]);\n",
    "\n",
    "a*A + b*B"
   ]
  },
  {
   "cell_type": "markdown",
   "metadata": {},
   "source": [
    ">**Theorem** Let $S = \\{\\mathbf{v}_1, \\mathbf{v}_2, \\cdots, \\mathbf{v}_k\\}$ be a set of vectors in a vector space $V$. Then <br /><br /><br /><br />"
   ]
  },
  {
   "cell_type": "markdown",
   "metadata": {},
   "source": [
    "### Example 2"
   ]
  },
  {
   "cell_type": "markdown",
   "metadata": {},
   "source": [
    "Let $S=\\{t^2,t\\}$ be a subset of the vector space $\\mathcal{P}_2$ (polynomials of degree no more than 2)."
   ]
  },
  {
   "cell_type": "markdown",
   "metadata": {},
   "source": [
    ">**Definition** Let $S$ be a set of vectors in a vector space $V$. If every vector in $V$ is a linear combination of the vectors in $S$, <br /><br /><br /><br />"
   ]
  },
  {
   "cell_type": "markdown",
   "metadata": {},
   "source": [
    "**Remark** If span $S = V$, $S$ is called <br /><br /><br /><br />"
   ]
  },
  {
   "cell_type": "markdown",
   "metadata": {},
   "source": [
    "### Example 3"
   ]
  },
  {
   "cell_type": "markdown",
   "metadata": {},
   "source": [
    "In $\\mathbb{R}^3$, let $\\mathbf{v}_1 = \\left[\\begin{array}{c}2 \\\\ 1 \\\\ 1 \\end{array}\\right]$, $\\mathbf{v}_2 = \\left[\\begin{array}{c}1 \\\\ -1 \\\\ 3 \\end{array}\\right]$\n",
    "Determine whether the $\\mathbf{v} = \\left[\\begin{array}{c}1 \\\\ 5 \\\\ -7 \\end{array}\\right]$vector belongs to span $\\{\\mathbf{v}_1,\\mathbf{v}_2\\}$."
   ]
  },
  {
   "cell_type": "code",
   "execution_count": 2,
   "metadata": {
    "collapsed": false
   },
   "outputs": [
    {
     "data": {
      "text/plain": [
       "{x: 2, y: -3}"
      ]
     },
     "execution_count": 2,
     "metadata": {},
     "output_type": "execute_result"
    }
   ],
   "source": [
    "from sympy import *\n",
    "\n",
    "x, y = symbols('x y');\n",
    "\n",
    "Eq1 = 2*x + y - 1;\n",
    "Eq2 = x - y - 5;\n",
    "Eq3 = x + 3*y + 7;\n",
    "\n",
    "solve([Eq1, Eq2, Eq3], (x, y))"
   ]
  },
  {
   "cell_type": "markdown",
   "metadata": {},
   "source": [
    "### Example 4"
   ]
  },
  {
   "cell_type": "markdown",
   "metadata": {},
   "source": [
    "In $\\mathcal{P}_2$, let\n",
    "\\begin{equation*}\n",
    "  \\mathbf{v}_1 = 2t^2+t+2, \\quad\\mathbf{v}_2 = t^2-2t, \\quad\\mathbf{v}_3 = 5t^2-5t+2, \\quad\\mathbf{v}_4 = -t^2-3t-2\n",
    "\\end{equation*}\n",
    "Determine whether the vector $\\mathbf{v} = t^2+t+2$ belongs to span $\\{\\mathbf{v}_1, \\mathbf{v}_2, \\mathbf{v}_3, \\mathbf{v}_4\\}$"
   ]
  },
  {
   "cell_type": "code",
   "execution_count": 3,
   "metadata": {
    "collapsed": false
   },
   "outputs": [
    {
     "data": {
      "text/plain": [
       "[]"
      ]
     },
     "execution_count": 3,
     "metadata": {},
     "output_type": "execute_result"
    }
   ],
   "source": [
    "from sympy import *\n",
    "\n",
    "a, b, c, d = symbols('a b c d');\n",
    "\n",
    "Eq1 = 2*a + b + 5*c - d - 1;\n",
    "Eq2 = a - 2*b - 5*c - 3*d - 1;\n",
    "Eq3 = 2*a + 2*c - 2*d - 2;\n",
    "\n",
    "solve([Eq1, Eq2, Eq3], (a, b, c, d))"
   ]
  },
  {
   "cell_type": "markdown",
   "metadata": {},
   "source": [
    "### Example 5"
   ]
  },
  {
   "cell_type": "markdown",
   "metadata": {},
   "source": [
    "Let $V$ be the vector space $\\mathbb{R}^3$. Let\n",
    "\\begin{equation*}\n",
    "  \\mathbf{v}_1 = \\left[\\begin{array}{c}1 \\\\ 2 \\\\ 1 \\end{array}\\right],~~\n",
    "  \\mathbf{v}_2 = \\left[\\begin{array}{c}1 \\\\ 0 \\\\ 2 \\end{array}\\right],~~\n",
    "  \\mathbf{v}_3 = \\left[\\begin{array}{c}1 \\\\ 1 \\\\ 0 \\end{array}\\right].\n",
    "\\end{equation*}\n",
    "Determine whether the vectors $\\mathbf{v}_1$, $\\mathbf{v}_2$, $\\mathbf{v}_3$ spans $V$."
   ]
  },
  {
   "cell_type": "code",
   "execution_count": 4,
   "metadata": {
    "collapsed": false
   },
   "outputs": [
    {
     "data": {
      "text/plain": [
       "3"
      ]
     },
     "execution_count": 4,
     "metadata": {},
     "output_type": "execute_result"
    }
   ],
   "source": [
    "from sympy import *\n",
    "\n",
    "A = Matrix([[1, 1, 1], [2, 0, 1], [1, 2, 0]]);\n",
    "\n",
    "A.rank()"
   ]
  },
  {
   "cell_type": "markdown",
   "metadata": {},
   "source": [
    "### Example 6"
   ]
  },
  {
   "cell_type": "markdown",
   "metadata": {},
   "source": [
    "Consider the homogeneous linear system $A\\mathbf{x}=\\mathbf{0}$ where\n",
    "\\begin{equation*}\n",
    "   A =\n",
    "   \\left[\n",
    "     \\begin{array}{cccc}\n",
    "       1 & 1 & 0 & 2 \\\\\n",
    "       -2 & -2 & 1 & -5 \\\\\n",
    "       1 & 1 & -1 & 3 \\\\\n",
    "       4 & 4 & -1 & 9 \\\\\n",
    "     \\end{array}\n",
    "   \\right]\n",
    "\\end{equation*}"
   ]
  }
 ],
 "metadata": {
  "kernelspec": {
   "display_name": "Python 3",
   "language": "python",
   "name": "python3"
  },
  "language_info": {
   "codemirror_mode": {
    "name": "ipython",
    "version": 3
   },
   "file_extension": ".py",
   "mimetype": "text/x-python",
   "name": "python",
   "nbconvert_exporter": "python",
   "pygments_lexer": "ipython3",
   "version": "3.4.4"
  }
 },
 "nbformat": 4,
 "nbformat_minor": 0
}
