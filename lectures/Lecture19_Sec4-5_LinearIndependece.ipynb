{
 "cells": [
  {
   "cell_type": "markdown",
   "metadata": {},
   "source": [
    "# Section 4.5 $\\quad$ Linear Independence"
   ]
  },
  {
   "cell_type": "markdown",
   "metadata": {},
   "source": [
    "**$\\underline{Recall}$** The set $W$ of all vectors of the form\n",
    "$\n",
    "  \\left[\\begin{array}{c} a \\\\ b \\\\ a+b \\\\ \\end{array} \\right]\n",
    "$\n",
    "is a subspace of $\\mathbb{R}^3$."
   ]
  },
  {
   "cell_type": "markdown",
   "metadata": {},
   "source": [
    "### Example 1"
   ]
  },
  {
   "cell_type": "markdown",
   "metadata": {},
   "source": [
    "Show that each of the following sets is a spanning set for $W$\n",
    "\\begin{equation*}\n",
    "  S_1 = \\left\\{\n",
    "  \\left[\\begin{array}{c} 1 \\\\ 0 \\\\ 1 \\\\ \\end{array} \\right],\n",
    "  \\left[\\begin{array}{c} 0 \\\\ 1 \\\\ 1 \\\\ \\end{array} \\right]\n",
    "  \\right\\}, ~~~~~\n",
    "  S_2 = \\left\\{\n",
    "  \\left[\\begin{array}{c} 1 \\\\ 0 \\\\ 1 \\\\ \\end{array} \\right],\n",
    "  \\left[\\begin{array}{c} 0 \\\\ 1 \\\\ 1 \\\\ \\end{array} \\right],\n",
    "  \\left[\\begin{array}{c} 3 \\\\ 2 \\\\ 5 \\\\ \\end{array} \\right]\n",
    "  \\right\\}\n",
    "\\end{equation*}"
   ]
  },
  {
   "cell_type": "markdown",
   "metadata": {},
   "source": [
    "## Definition of Linear Dependency"
   ]
  },
  {
   "cell_type": "markdown",
   "metadata": {},
   "source": [
    ">The vectors  $\\mathbf{v}_1, \\mathbf{v}_2, \\cdots, \\mathbf{v}_k$ in a vector space $V$ are said to be **linearly dependent** if <br/><br/><br/><br/>"
   ]
  },
  {
   "cell_type": "markdown",
   "metadata": {},
   "source": [
    "**Remark**\n",
    "- $\\mathbf{v}_1, \\mathbf{v}_2, \\cdots, \\mathbf{v}_k$ are linearly independent if,<br/><br/><br/><br/>\n",
    "- $\\mathbf{v}_1, \\mathbf{v}_2, \\cdots, \\mathbf{v}_k$ are linearly dependent if,<br/><br/><br/><br/>\n",
    "- If $S = \\{\\mathbf{v}_1, \\mathbf{v}_2, \\cdots, \\mathbf{v}_k\\}$,<br/><br/><br/><br/>"
   ]
  },
  {
   "cell_type": "markdown",
   "metadata": {},
   "source": [
    "### Example 2"
   ]
  },
  {
   "cell_type": "markdown",
   "metadata": {},
   "source": [
    "Determine whether the vectors\n",
    "\\begin{equation*}\n",
    "  \\mathbf{v}_1 = \\left[\\begin{array}{c} 3 \\\\ 2 \\\\ 1 \\\\ \\end{array} \\right],~~~~\n",
    "  \\mathbf{v}_2 = \\left[\\begin{array}{c} 1 \\\\ 2 \\\\ 0 \\\\ \\end{array} \\right],~~~~\n",
    "  \\mathbf{v}_3 = \\left[\\begin{array}{c} -1 \\\\ 2 \\\\ -1 \\\\ \\end{array} \\right],~~~~\n",
    "\\end{equation*}\n",
    "are linearly independent."
   ]
  },
  {
   "cell_type": "code",
   "execution_count": 1,
   "metadata": {
    "collapsed": false
   },
   "outputs": [
    {
     "data": {
      "text/plain": [
       "2"
      ]
     },
     "execution_count": 1,
     "metadata": {},
     "output_type": "execute_result"
    }
   ],
   "source": [
    "from sympy import *\n",
    "\n",
    "A = Matrix([[3, 1, -1], [2, 2, 2], [1, 0, -1]]);\n",
    "\n",
    "A.rank()"
   ]
  },
  {
   "cell_type": "markdown",
   "metadata": {},
   "source": [
    "### Example 3"
   ]
  },
  {
   "cell_type": "markdown",
   "metadata": {},
   "source": [
    "Are the vectors\n",
    "\\begin{equation*}\n",
    "  \\mathbf{v}_1 = \\left[\\begin{array}{cc} 2 & 1 \\\\ 0 & 1 \\\\ \\end{array} \\right],~~~~\n",
    "  \\mathbf{v}_2 = \\left[\\begin{array}{cc} 1 & 2 \\\\ 1 & 0 \\\\ \\end{array} \\right],~~~~\n",
    "  \\mathbf{v}_3 = \\left[\\begin{array}{cc} 0 & -3 \\\\ -2 & 1 \\\\ \\end{array} \\right],~~~~\n",
    "\\end{equation*}\n",
    "in $M_{22}$ are linearly independent?"
   ]
  },
  {
   "cell_type": "code",
   "execution_count": 2,
   "metadata": {
    "collapsed": false
   },
   "outputs": [
    {
     "data": {
      "text/plain": [
       "2"
      ]
     },
     "execution_count": 2,
     "metadata": {},
     "output_type": "execute_result"
    }
   ],
   "source": [
    "from sympy import *\n",
    "\n",
    "A = Matrix([[2, 1, 0, 1], [1, 2, 1, 0], [0, -3, -2, 1]]);\n",
    "\n",
    "A.rank()"
   ]
  },
  {
   "cell_type": "markdown",
   "metadata": {},
   "source": [
    "### Example 4"
   ]
  },
  {
   "cell_type": "markdown",
   "metadata": {},
   "source": [
    "Determine whether the vectors\n",
    "\\begin{equation*}\n",
    "  \\mathbf{v}_1 = \\left[\\begin{array}{c} -1 \\\\ 1 \\\\ 0 \\\\ 0 \\\\\\end{array} \\right],~~~~\n",
    "  \\mathbf{v}_2 = \\left[\\begin{array}{c} -2 \\\\ 0 \\\\ 1 \\\\ 1 \\\\\\end{array} \\right],\n",
    "\\end{equation*}\n",
    "are linearly independent."
   ]
  },
  {
   "cell_type": "code",
   "execution_count": 3,
   "metadata": {
    "collapsed": false
   },
   "outputs": [
    {
     "data": {
      "text/plain": [
       "2"
      ]
     },
     "execution_count": 3,
     "metadata": {},
     "output_type": "execute_result"
    }
   ],
   "source": [
    "from sympy import *\n",
    "\n",
    "A = Matrix([[-1, 1, 0, 0], [-2, 0, 1, 1]]);\n",
    "\n",
    "A.rank()"
   ]
  },
  {
   "cell_type": "markdown",
   "metadata": {},
   "source": [
    ">**Theorem** Let $S = \\{\\mathbf{v}_1, \\mathbf{v}_2, \\cdots, \\mathbf{v}_n\\}$ be a set of $n$ vectors in $\\mathbb{R}^n$.<br/><br/><br/><br/>"
   ]
  },
  {
   "cell_type": "markdown",
   "metadata": {},
   "source": [
    "### Example 5"
   ]
  },
  {
   "cell_type": "markdown",
   "metadata": {},
   "source": [
    "Is $S = \\{[1~~ 2~~ 3],~~ [0 ~~1~~2],~~ [3~~0~ -1]\\}$ a linearly independent set of vectors in $\\mathbb{R}^3$?"
   ]
  },
  {
   "cell_type": "code",
   "execution_count": 4,
   "metadata": {
    "collapsed": false
   },
   "outputs": [
    {
     "data": {
      "text/plain": [
       "3"
      ]
     },
     "execution_count": 4,
     "metadata": {},
     "output_type": "execute_result"
    }
   ],
   "source": [
    "from sympy import *\n",
    "\n",
    "A = Matrix([[1, 2, 3], [0, 1, 2], [3, 0, -1]]);\n",
    "\n",
    "A.rank()"
   ]
  },
  {
   "cell_type": "markdown",
   "metadata": {},
   "source": [
    ">**Theorem** Let $S_1$, $S_2$ be finite subsets of a vector space. Let $S_1$ be a subset of $S_2$. Then\n",
    "- \n",
    "- "
   ]
  }
 ],
 "metadata": {
  "kernelspec": {
   "display_name": "Python 3",
   "language": "python",
   "name": "python3"
  },
  "language_info": {
   "codemirror_mode": {
    "name": "ipython",
    "version": 3
   },
   "file_extension": ".py",
   "mimetype": "text/x-python",
   "name": "python",
   "nbconvert_exporter": "python",
   "pygments_lexer": "ipython3",
   "version": "3.4.4"
  }
 },
 "nbformat": 4,
 "nbformat_minor": 0
}
