{
 "cells": [
  {
   "cell_type": "markdown",
   "metadata": {},
   "source": [
    "# Section 4.6 $\\quad$ Basis and Dimension"
   ]
  },
  {
   "cell_type": "markdown",
   "metadata": {},
   "source": [
    "## Definition of Basis"
   ]
  },
  {
   "cell_type": "markdown",
   "metadata": {},
   "source": [
    ">The vectors $\\mathbf{v}_1, \\mathbf{v}_2, \\cdots, \\mathbf{v}_k$ in a vector space $V$ are said to form a $\\underline{basis}$ for $V$ if \n",
    "- <br /><br />\n",
    "- <br /><br />"
   ]
  },
  {
   "cell_type": "markdown",
   "metadata": {},
   "source": [
    "**Remark**<br /><br /><br /><br />"
   ]
  },
  {
   "cell_type": "markdown",
   "metadata": {},
   "source": [
    "### Example 1"
   ]
  },
  {
   "cell_type": "markdown",
   "metadata": {},
   "source": [
    "In $\\mathbb{R}^3$, the vectors\n",
    "$\\left[\\begin{array}{c} 1 \\\\ 0 \\\\ 0 \\\\ \\end{array} \\right]$,\n",
    "$\\left[\\begin{array}{c} 0 \\\\ 1 \\\\ 0 \\\\ \\end{array} \\right]$,\n",
    "$\\left[\\begin{array}{c} 0 \\\\ 0 \\\\ 1 \\\\ \\end{array} \\right]$,\n",
    "form a basis."
   ]
  },
  {
   "cell_type": "markdown",
   "metadata": {},
   "source": [
    "**Remark**<br /><br /><br /><br />"
   ]
  },
  {
   "cell_type": "markdown",
   "metadata": {},
   "source": [
    "### Example 2"
   ]
  },
  {
   "cell_type": "markdown",
   "metadata": {},
   "source": [
    "Show that the set $S = \\{t^2+1,t-1,2t+2\\}$ is a basis for the vector space $\\mathcal{P}_2$."
   ]
  },
  {
   "cell_type": "code",
   "execution_count": 1,
   "metadata": {
    "collapsed": false
   },
   "outputs": [
    {
     "data": {
      "text/plain": [
       "3"
      ]
     },
     "execution_count": 1,
     "metadata": {},
     "output_type": "execute_result"
    }
   ],
   "source": [
    "from sympy import *\n",
    "\n",
    "A = Matrix([[1, 0, 1], [0, 1, -1], [0, 2, 2]]);\n",
    "\n",
    "A.rank()"
   ]
  },
  {
   "cell_type": "markdown",
   "metadata": {},
   "source": [
    "### Example 3"
   ]
  },
  {
   "cell_type": "markdown",
   "metadata": {},
   "source": [
    "Find a basis for the subspace $V$ of $\\mathcal{P}_2$, consisting of all vectors of the form $at^2+bt+c$, where $c=a-b$.<br /><br /><br /><br /><br /><br /><br />"
   ]
  },
  {
   "cell_type": "markdown",
   "metadata": {},
   "source": [
    ">**Theorem** If $S = \\{\\mathbf{v}_1, \\mathbf{v}_2, \\cdots, \\mathbf{v}_k\\}$ is a basis for $V$,<br /><br /><br /><br />"
   ]
  },
  {
   "cell_type": "markdown",
   "metadata": {},
   "source": [
    "**Proof**<br /><br /><br /><br /><br /><br /><br />"
   ]
  },
  {
   "cell_type": "markdown",
   "metadata": {},
   "source": [
    ">**Theorem** If $S = \\{\\mathbf{v}_1, \\mathbf{v}_2, \\cdots, \\mathbf{v}_k\\}$, and $T = \\{\\mathbf{w}_1, \\mathbf{w}_2, \\cdots, \\mathbf{w}_l\\}$ are bases for $V$, then<br /><br /><br /><br />"
   ]
  },
  {
   "cell_type": "markdown",
   "metadata": {},
   "source": [
    "### Example 4"
   ]
  },
  {
   "cell_type": "markdown",
   "metadata": {},
   "source": [
    "Let\n",
    "\\begin{equation*}\n",
    "  S = \\left\\{\n",
    "  \\left[\\begin{array}{cc} 1 & 1\\\\ 0 & 0 \\\\ \\end{array} \\right],\n",
    "  \\left[\\begin{array}{cc} 0 & 0\\\\ 1 & 1 \\\\ \\end{array} \\right],\n",
    "  \\left[\\begin{array}{cc} 1 & 0\\\\ 0 & 1 \\\\ \\end{array} \\right],\n",
    "  \\left[\\begin{array}{cc} 0 & 1\\\\ 1 & 1 \\\\ \\end{array} \\right]\n",
    "  \\right\\},~~~~\n",
    "  T = \\left\\{\n",
    "  \\left[\\begin{array}{cc} 1 & 1\\\\ 0 & 0 \\\\ \\end{array} \\right],\n",
    "  \\left[\\begin{array}{cc} 0 & 0\\\\ 1 & 1 \\\\ \\end{array} \\right],\n",
    "  \\left[\\begin{array}{cc} 1 & 0\\\\ 0 & 1 \\\\ \\end{array} \\right]\n",
    "  \\right\\}.\n",
    "\\end{equation*}\n",
    "Is $S$ a basis of $M_{22}$? Is $T$ a basis of $M_{22}$?"
   ]
  },
  {
   "cell_type": "code",
   "execution_count": 2,
   "metadata": {
    "collapsed": false
   },
   "outputs": [
    {
     "data": {
      "text/plain": [
       "4"
      ]
     },
     "execution_count": 2,
     "metadata": {},
     "output_type": "execute_result"
    }
   ],
   "source": [
    "from sympy import *\n",
    "\n",
    "S = Matrix([[1, 1, 0, 0], [0, 0, 1, 1], [1, 0, 0, 1], [0, 1, 1, 1]]);\n",
    "\n",
    "S.rank()"
   ]
  },
  {
   "cell_type": "markdown",
   "metadata": {},
   "source": [
    "### Example 5"
   ]
  },
  {
   "cell_type": "markdown",
   "metadata": {},
   "source": [
    "Let $V=\\mathbb{R}^3$, $s=\\{\\mathbf{v}_1, \\mathbf{v}_2, \\mathbf{v}_3, \\mathbf{v}_4, \\mathbf{v}_5\\}$, where $\\mathbf{v}_1 = \\left[\\begin{array}{c} 1 \\\\ 0 \\\\ 1 \\\\ \\end{array} \\right]$,\n",
    "$\\mathbf{v}_2 = \\left[\\begin{array}{c} 0 \\\\ 1 \\\\ 1 \\\\ \\end{array} \\right]$,\n",
    "$\\mathbf{v}_3 = \\left[\\begin{array}{c} 1 \\\\ 1 \\\\ 2 \\\\ \\end{array} \\right]$,\n",
    "$\\mathbf{v}_4 = \\left[\\begin{array}{c} 1 \\\\ 2 \\\\ 1 \\\\ \\end{array} \\right]$,\n",
    "$\\mathbf{v}_5 = \\left[\\begin{array}{c} -1 \\\\ 1 \\\\ -2 \\\\ \\end{array} \\right]$.\n",
    "Find a subset of $S$ that is a basis for $\\mathbb{R}^3$."
   ]
  },
  {
   "cell_type": "code",
   "execution_count": 3,
   "metadata": {
    "collapsed": false
   },
   "outputs": [
    {
     "data": {
      "text/plain": [
       "3"
      ]
     },
     "execution_count": 3,
     "metadata": {},
     "output_type": "execute_result"
    }
   ],
   "source": [
    "from sympy import *\n",
    "\n",
    "A = Matrix([[1, 0, 1], [0, 1, 1], [1, 2, 1]]);\n",
    "\n",
    "A.rank()"
   ]
  }
 ],
 "metadata": {
  "kernelspec": {
   "display_name": "Python 3",
   "language": "python",
   "name": "python3"
  },
  "language_info": {
   "codemirror_mode": {
    "name": "ipython",
    "version": 3
   },
   "file_extension": ".py",
   "mimetype": "text/x-python",
   "name": "python",
   "nbconvert_exporter": "python",
   "pygments_lexer": "ipython3",
   "version": "3.4.4"
  }
 },
 "nbformat": 4,
 "nbformat_minor": 0
}
