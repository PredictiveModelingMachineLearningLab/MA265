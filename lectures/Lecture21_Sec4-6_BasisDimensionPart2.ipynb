{
 "cells": [
  {
   "cell_type": "markdown",
   "metadata": {},
   "source": [
    "# Section 4.6 $\\quad$ Basis and Dimension (continued)"
   ]
  },
  {
   "cell_type": "markdown",
   "metadata": {},
   "source": [
    "## Definition of Dimension"
   ]
  },
  {
   "cell_type": "markdown",
   "metadata": {},
   "source": [
    ">The **dimension** of a nonzero vector space $V$ is <br /><br /><br /><br />"
   ]
  },
  {
   "cell_type": "markdown",
   "metadata": {},
   "source": [
    "### Example 1"
   ]
  },
  {
   "cell_type": "markdown",
   "metadata": {},
   "source": [
    "What is the dimension of the following vector spaces\n",
    "- $P_2$<br /><br /><br /><br />\n",
    "- $M_{23}$<br /><br /><br /><br />\n",
    "- $M_{mn}$<br /><br /><br /><br />\n",
    "- V = span $\\left\\{\\left[\\begin{array}{c} 1 \\\\ 0 \\\\ 1 \\\\ \\end{array} \\right], \\left[\\begin{array}{c} 0 \\\\ 1 \\\\ 1 \\\\ \\end{array} \\right], \\left[\\begin{array}{c} 2 \\\\ 1 \\\\ 3 \\\\ \\end{array} \\right]\\right\\}$ <br /><br /><br /><br />\n",
    "- the subspace of $M_{33}$ consisting of all diagonal matrices<br /><br /><br /><br />"
   ]
  },
  {
   "cell_type": "markdown",
   "metadata": {},
   "source": [
    "## Maximal Independent Subset and Minimal Spanning Set"
   ]
  },
  {
   "cell_type": "markdown",
   "metadata": {},
   "source": [
    "Let $S$ be a set of vectors in $V$. A subset $T$ of $S$ is called a **maximal independent subset** of $S$ if<br /><br /><br /><br />"
   ]
  },
  {
   "cell_type": "markdown",
   "metadata": {},
   "source": [
    "If $W$ is a set of vectors spanning $V$, then $W$ is called a **minimal spanning set** for $V$ if<br /><br /><br /><br />"
   ]
  },
  {
   "cell_type": "markdown",
   "metadata": {},
   "source": [
    "### Example 2"
   ]
  },
  {
   "cell_type": "markdown",
   "metadata": {},
   "source": [
    "Let $S = \\{\\mathbf{v}_1, \\mathbf{v}_2, \\mathbf{v}_3, \\mathbf{v}_4\\}$, where\n",
    "\\begin{equation*}\n",
    "  \\mathbf{v}_1 = \\left[\\begin{array}{c} 1 \\\\ 0 \\\\ 0 \\\\ \\end{array} \\right],~~~\n",
    "  \\mathbf{v}_2 = \\left[\\begin{array}{c} 0 \\\\ 1 \\\\ 0 \\\\ \\end{array} \\right],~~~\n",
    "  \\mathbf{v}_3 = \\left[\\begin{array}{c} 0 \\\\ 0 \\\\ 1 \\\\ \\end{array} \\right],~~~\n",
    "  \\mathbf{v}_4 = \\left[\\begin{array}{c} 1 \\\\ 1 \\\\ 1 \\\\ \\end{array} \\right],~~~\n",
    "\\end{equation*}\n",
    "Find the maximal independent subsets of $S$"
   ]
  },
  {
   "cell_type": "code",
   "execution_count": 1,
   "metadata": {
    "collapsed": false
   },
   "outputs": [
    {
     "data": {
      "text/plain": [
       "(3, 3)"
      ]
     },
     "execution_count": 1,
     "metadata": {},
     "output_type": "execute_result"
    }
   ],
   "source": [
    "from sympy import *\n",
    "\n",
    "A = Matrix([[1, 0, 0], [0, 1, 0], [0, 0, 1]]);\n",
    "B = Matrix([[1, 0, 0], [0, 1, 0], [0, 0, 1], [1, 1, 1]]);\n",
    "\n",
    "A.rank(), B.rank()"
   ]
  },
  {
   "cell_type": "markdown",
   "metadata": {},
   "source": [
    "### Example 3"
   ]
  },
  {
   "cell_type": "markdown",
   "metadata": {},
   "source": [
    "Let $V$ be a vector space has dimension $n$.\n",
    "- a maximal independent subset of $V$ contains $\\underline{\\hspace{1in}}$ vectors.\n",
    "- a minimal spanning set for $V$ contains $\\underline{\\hspace{1in}}$ vectors.\n",
    "- any subset of $m>n$ vectors must be $\\underline{\\hspace{2in}}$.\n",
    "- any subset of $m<n$ vectors cannot $\\underline{\\hspace{2in}}$."
   ]
  },
  {
   "cell_type": "markdown",
   "metadata": {},
   "source": [
    ">**Theorem** If $S$ is linearly independent set of vectors in $V$, then<br /><br /><br /><br />"
   ]
  },
  {
   "cell_type": "markdown",
   "metadata": {},
   "source": [
    "### Example 4"
   ]
  },
  {
   "cell_type": "markdown",
   "metadata": {},
   "source": [
    "Find a basis for $\\mathbb{R}^4$ that contains the vectors\n",
    "\\begin{equation*}\n",
    "  \\mathbf{v}_1 = [1~~ 0~~1~~0],~~~~~~  \\mathbf{v}_2 = [-1~~ 1~~-1~~0]\n",
    "\\end{equation*}"
   ]
  },
  {
   "cell_type": "code",
   "execution_count": 2,
   "metadata": {
    "collapsed": false
   },
   "outputs": [
    {
     "data": {
      "text/plain": [
       "4"
      ]
     },
     "execution_count": 2,
     "metadata": {},
     "output_type": "execute_result"
    }
   ],
   "source": [
    "from sympy import *\n",
    "\n",
    "A = Matrix([[1, 0, 1, 0], [-1, 1, -1, 0], [1, 0, 0, 0], [0, 0, 0, 1]]);\n",
    "\n",
    "A.rank()"
   ]
  },
  {
   "cell_type": "markdown",
   "metadata": {},
   "source": [
    ">**Theorem** Let $V$ be an n-dimensional vector space.\n",
    "- <br /><br />\n",
    "- <br /><br />"
   ]
  }
 ],
 "metadata": {
  "kernelspec": {
   "display_name": "Python 3",
   "language": "python",
   "name": "python3"
  },
  "language_info": {
   "codemirror_mode": {
    "name": "ipython",
    "version": 3
   },
   "file_extension": ".py",
   "mimetype": "text/x-python",
   "name": "python",
   "nbconvert_exporter": "python",
   "pygments_lexer": "ipython3",
   "version": "3.4.4"
  }
 },
 "nbformat": 4,
 "nbformat_minor": 0
}
