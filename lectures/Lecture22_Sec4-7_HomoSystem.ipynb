{
 "cells": [
  {
   "cell_type": "markdown",
   "metadata": {},
   "source": [
    "# Section 4.7 $\\quad$ Homogeneous Systems"
   ]
  },
  {
   "cell_type": "markdown",
   "metadata": {},
   "source": [
    "Consider the homogeneous system\n",
    "\\begin{equation*}\n",
    "  A\\mathbf{x} = \\mathbf{0},\n",
    "\\end{equation*}\n",
    "where $A$ is $m\\times n$, The set of all solutions <br /><br /><br /><br />"
   ]
  },
  {
   "cell_type": "markdown",
   "metadata": {},
   "source": [
    "### Example 1"
   ]
  },
  {
   "cell_type": "markdown",
   "metadata": {},
   "source": [
    "Find a basis of the solution space of the linear system\n",
    "\\begin{equation*}\n",
    "   \\left[\n",
    "    \\begin{array}{ccccc}\n",
    "      1 & 1 & 4 & 1 & 2  \\\\\n",
    "      0 & 1 & 2 & 1 & 1  \\\\\n",
    "      0 & 0 & 0 & 1 & 2  \\\\\n",
    "      1 & -1 &0 & 0 & 2  \\\\\n",
    "      2 & 1 & 6 & 0 & 1  \\\\\n",
    "    \\end{array}\n",
    "  \\right]\n",
    "  \\left[\n",
    "    \\begin{array}{c}\n",
    "      x_1 \\\\x_2 \\\\x_3 \\\\x_4 \\\\x_5 \\\\\n",
    "    \\end{array}\n",
    "  \\right] =\n",
    "  \\left[\n",
    "    \\begin{array}{c}\n",
    "      0 \\\\0\\\\0 \\\\0 \\\\0 \\\\\n",
    "    \\end{array}\n",
    "  \\right]\n",
    "\\end{equation*}"
   ]
  },
  {
   "cell_type": "code",
   "execution_count": 1,
   "metadata": {
    "collapsed": false
   },
   "outputs": [
    {
     "data": {
      "text/plain": [
       "{x2: -2*x3 + x5, x4: -2*x5, x1: -2*x3 - x5}"
      ]
     },
     "execution_count": 1,
     "metadata": {},
     "output_type": "execute_result"
    }
   ],
   "source": [
    "from sympy import *\n",
    "\n",
    "x1, x2, x3, x4, x5 = symbols('x1 x2 x3 x4 x5');\n",
    "x = Matrix([x1, x2, x3, x4, x5]);\n",
    "A = Matrix([[1, 1, 4, 1, 2], [0, 1, 2, 1, 1], [0, 0, 0, 1, 2], [1, -1, 0, 0, 2], [2, 1, 6, 0, 1]]);\n",
    "Ax = A.dot(x);\n",
    "\n",
    "solve(Ax)"
   ]
  },
  {
   "cell_type": "markdown",
   "metadata": {},
   "source": [
    "**Remark** For the homogeneous system $A\\mathbf{x} = \\mathbf{0}$, if the reduced row echelon form of $[A~|~\\mathbf{0}]$ has $r$ nonzero rows, then\n",
    "- \n",
    "- "
   ]
  },
  {
   "cell_type": "markdown",
   "metadata": {},
   "source": [
    "## Relationship between Homogeneous and Nonhomogeneous Systems"
   ]
  },
  {
   "cell_type": "markdown",
   "metadata": {},
   "source": [
    "For nonhomogeneous system $A\\mathbf{x} = \\mathbf{b}$, the set of solutions<br /><br /><br /><br />"
   ]
  },
  {
   "cell_type": "markdown",
   "metadata": {},
   "source": [
    "### Example 2"
   ]
  },
  {
   "cell_type": "markdown",
   "metadata": {},
   "source": [
    "Consider the linear system\n",
    "\\begin{equation*}\n",
    "   \\left[\n",
    "    \\begin{array}{ccc}\n",
    "      1 & 2 & -3 \\\\\n",
    "      2 & 4 & -6 \\\\\n",
    "      3 & 6 & -9 \\\\\n",
    "    \\end{array}\n",
    "  \\right]\n",
    "  \\left[\n",
    "    \\begin{array}{c}\n",
    "      x_1 \\\\x_2 \\\\x_3\n",
    "    \\end{array}\n",
    "  \\right] =\n",
    "  \\left[\n",
    "    \\begin{array}{c}\n",
    "      2 \\\\4\\\\6  \\\\\n",
    "    \\end{array}\n",
    "  \\right]\n",
    "\\end{equation*}<br /><br /><br /><br /><br /><br /><br />"
   ]
  }
 ],
 "metadata": {
  "kernelspec": {
   "display_name": "Python 3",
   "language": "python",
   "name": "python3"
  },
  "language_info": {
   "codemirror_mode": {
    "name": "ipython",
    "version": 3
   },
   "file_extension": ".py",
   "mimetype": "text/x-python",
   "name": "python",
   "nbconvert_exporter": "python",
   "pygments_lexer": "ipython3",
   "version": "3.4.4"
  }
 },
 "nbformat": 4,
 "nbformat_minor": 0
}
