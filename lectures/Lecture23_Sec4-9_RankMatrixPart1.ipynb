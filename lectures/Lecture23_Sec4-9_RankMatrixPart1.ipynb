{
 "cells": [
  {
   "cell_type": "markdown",
   "metadata": {},
   "source": [
    "# Section 4.9 $\\quad$ Rank of a Matrix"
   ]
  },
  {
   "cell_type": "markdown",
   "metadata": {},
   "source": [
    ">**Definition** Let\n",
    "\\begin{equation*}\n",
    "  A =\n",
    "  \\left[\n",
    "    \\begin{array}{cccc}\n",
    "      a_{11} & a_{12} & \\cdots & a_{1n} \\\\\n",
    "      a_{21} & a_{22} & \\cdots & a_{2n} \\\\\n",
    "      \\vdots & \\vdots & \\ddots & \\vdots \\\\\n",
    "      a_{m1} & a_{m2} & \\cdots & a_{mn} \\\\\n",
    "    \\end{array}\n",
    "  \\right]\n",
    "\\end{equation*}\n",
    "be an $m\\times n$ matrix.\n",
    "- The rows of $A$, <br /><br />\n",
    "- The columns of $A$, <br /><br />"
   ]
  },
  {
   "cell_type": "markdown",
   "metadata": {},
   "source": [
    "**Remark** If $A$ and $B$ are row equivalent matrices, then<br /><br /><br /><br /><br /><br /><br />"
   ]
  },
  {
   "cell_type": "markdown",
   "metadata": {},
   "source": [
    "We can use this remark to find a basis for a subspace spanned by a given set of vectors."
   ]
  },
  {
   "cell_type": "markdown",
   "metadata": {},
   "source": [
    "### Example 1"
   ]
  },
  {
   "cell_type": "markdown",
   "metadata": {},
   "source": [
    "Find a basis for the subspace $V$ of $\\mathbb{R}_5$ that is spanned by $S = \\{\\mathbf{v}_1,\\mathbf{v}_2,\\mathbf{v}_3,\\mathbf{v}_4\\}$ where\n",
    "\\begin{equation*}\n",
    "   \\mathbf{v}_1 = [1~ -2~ 0 ~ 3~ -4],~~~\n",
    "   \\mathbf{v}_2 = [3~ 2~ 8 ~ 1~ 4],~~~\n",
    "   \\mathbf{v}_3 = [2~ 3~ 7 ~ 2~ 3],~~~\n",
    "   \\mathbf{v}_4 = [-1~ 2~ 0 ~ 4~ 3],~~~\n",
    "\\end{equation*}"
   ]
  },
  {
   "cell_type": "code",
   "execution_count": 1,
   "metadata": {
    "collapsed": false
   },
   "outputs": [
    {
     "data": {
      "text/plain": [
       "(Matrix([\n",
       " [1, 0, 2, 0, 0],\n",
       " [0, 1, 1, 0, 0],\n",
       " [0, 0, 0, 1, 0],\n",
       " [0, 0, 0, 0, 1]]), [0, 1, 3, 4])"
      ]
     },
     "execution_count": 1,
     "metadata": {},
     "output_type": "execute_result"
    }
   ],
   "source": [
    "from sympy import *\n",
    "\n",
    "A = Matrix([[1, -2, 0, 3, -4], [3, 2, 8, 1, 4], [2, 3, 7, 2, 3], [-1, 2, 0, 4, 3]]);\n",
    "\n",
    "A.rref()"
   ]
  },
  {
   "cell_type": "markdown",
   "metadata": {},
   "source": [
    "**Remark**\n",
    "- <br /><br />\n",
    "- <br /><br />"
   ]
  },
  {
   "cell_type": "markdown",
   "metadata": {},
   "source": [
    "### Example 2"
   ]
  },
  {
   "cell_type": "markdown",
   "metadata": {},
   "source": [
    "Let $V$ be the subspace of Example $1$. Given that the vector $\\mathbf{v} = [5~~4~~14~~6~~3]$ is in $V$, write $\\mathbf{v}$ as a linear combinations of the base determined by Example $1$."
   ]
  },
  {
   "cell_type": "code",
   "execution_count": 2,
   "metadata": {
    "collapsed": false
   },
   "outputs": [
    {
     "data": {
      "text/plain": [
       "[{x3: 6, x2: 4, x4: 3, x1: 5}]"
      ]
     },
     "execution_count": 2,
     "metadata": {},
     "output_type": "execute_result"
    }
   ],
   "source": [
    "from sympy import *\n",
    "\n",
    "A = Matrix([[1, -2, 0, 3, -4], [3, 2, 8, 1, 4], [2, 3, 7, 2, 3], [-1, 2, 0, 4, 3]]);\n",
    "B = A.rref()[0].T;\n",
    "x1, x2, x3, x4 = symbols('x1 x2 x3 x4');\n",
    "x = Matrix([x1, x2, x3, x4]);\n",
    "Bx = B.dot(x);\n",
    "\n",
    "solve(Matrix(Bx) - Matrix([5, 4, 14, 6, 3]))"
   ]
  },
  {
   "cell_type": "markdown",
   "metadata": {},
   "source": [
    ">**Definition** The dimension of the row (column) space of $A$ is called <br /><br /><br /><br />"
   ]
  },
  {
   "cell_type": "markdown",
   "metadata": {},
   "source": [
    "**Remark** If $A$ and $B$ are row equivalent,<br /><br /><br /><br />"
   ]
  },
  {
   "cell_type": "markdown",
   "metadata": {},
   "source": [
    "### Example 3"
   ]
  },
  {
   "cell_type": "markdown",
   "metadata": {},
   "source": [
    "Compute the row rank of $A$ given by\n",
    "\\begin{equation*}\n",
    "  A =\n",
    "  \\left[\n",
    "    \\begin{array}{ccccc}\n",
    "      1 & -2 & 0 & 3 & -4 \\\\\n",
    "      3 & 2 & 8 & 1 & 4 \\\\\n",
    "      2 & 3 & 7 & 2 & 3 \\\\\n",
    "      -1& 2 & 0 & 4 & -3 \\\\\n",
    "    \\end{array}\n",
    "  \\right]\n",
    "\\end{equation*}"
   ]
  },
  {
   "cell_type": "code",
   "execution_count": 3,
   "metadata": {
    "collapsed": false
   },
   "outputs": [
    {
     "data": {
      "text/plain": [
       "3"
      ]
     },
     "execution_count": 3,
     "metadata": {},
     "output_type": "execute_result"
    }
   ],
   "source": [
    "from sympy import *\n",
    "\n",
    "A = Matrix([[1, -2, 0, 3, -4], [3, 2, 8, 1, 4], [2, 3, 7, 2, 3], [-1, 2, 0, 4, -3]]);\n",
    "\n",
    "A.rank()"
   ]
  },
  {
   "cell_type": "markdown",
   "metadata": {},
   "source": [
    "### Example 4"
   ]
  },
  {
   "cell_type": "markdown",
   "metadata": {},
   "source": [
    "Compute the column rank of $A$ in Example 3."
   ]
  },
  {
   "cell_type": "code",
   "execution_count": 4,
   "metadata": {
    "collapsed": false
   },
   "outputs": [
    {
     "data": {
      "text/plain": [
       "3"
      ]
     },
     "execution_count": 4,
     "metadata": {},
     "output_type": "execute_result"
    }
   ],
   "source": [
    "from sympy import *\n",
    "\n",
    "A = Matrix([[1, -2, 0, 3, -4], [3, 2, 8, 1, 4], [2, 3, 7, 2, 3], [-1, 2, 0, 4, -3]]);\n",
    "\n",
    "A.rank()"
   ]
  },
  {
   "cell_type": "markdown",
   "metadata": {},
   "source": [
    ">**Theorem** Let $A$ be an $m\\times n$ matrix. Then<br /><br /><br /><br />"
   ]
  }
 ],
 "metadata": {
  "kernelspec": {
   "display_name": "Python 3",
   "language": "python",
   "name": "python3"
  },
  "language_info": {
   "codemirror_mode": {
    "name": "ipython",
    "version": 3
   },
   "file_extension": ".py",
   "mimetype": "text/x-python",
   "name": "python",
   "nbconvert_exporter": "python",
   "pygments_lexer": "ipython3",
   "version": "3.4.4"
  }
 },
 "nbformat": 4,
 "nbformat_minor": 0
}
