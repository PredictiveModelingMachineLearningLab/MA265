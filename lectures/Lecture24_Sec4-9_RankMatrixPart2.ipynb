{
 "cells": [
  {
   "cell_type": "markdown",
   "metadata": {},
   "source": [
    "# Section 4.9 $\\quad$ Rank of a Matrix (continued)"
   ]
  },
  {
   "cell_type": "markdown",
   "metadata": {},
   "source": [
    "### Example 1"
   ]
  },
  {
   "cell_type": "markdown",
   "metadata": {},
   "source": [
    "Let $A$ be a $6\\times 4$ matrix.\n",
    "- What is the largest possible value of rank (A)?\n",
    "- Are rows of $A$ linearly independent?\n",
    "- Are columns of $A$ linearly independent?<br /><br /><br /><br /><br /><br /><br />"
   ]
  },
  {
   "cell_type": "markdown",
   "metadata": {},
   "source": [
    "### Example 2"
   ]
  },
  {
   "cell_type": "markdown",
   "metadata": {},
   "source": [
    "Let $A$ be a $4\\times 5$ matrix.\n",
    "- List all possible values of the rank of $A$.\n",
    "- If the rank of $A$ is 4, what is the dimension of its column space?\n",
    "- If the rank of $A$ is 3, what is the dimension of the solution space of $A\\mathbf{x}=\\mathbf{0}$?<br /><br /><br /><br /><br /><br /><br />"
   ]
  },
  {
   "cell_type": "markdown",
   "metadata": {},
   "source": [
    "### Example 3"
   ]
  },
  {
   "cell_type": "markdown",
   "metadata": {},
   "source": [
    "Let\n",
    "\\begin{equation*}\n",
    "  A =\n",
    "  \\left[\n",
    "    \\begin{array}{cccc}\n",
    "      1 & 1 & 4 & 1  \\\\\n",
    "      0 & 1 & 2 & 1  \\\\\n",
    "      0 & 0 & 0 & 1  \\\\\n",
    "      1& -1 & 0 & 0  \\\\\n",
    "      2 & 1 & 6 & 0  \\\\\n",
    "    \\end{array}\n",
    "  \\right]\n",
    "\\end{equation*}\n",
    "Find the rank of $A$ and the dimension of the solution space of $A\\mathbf{x}=\\mathbf{0}$."
   ]
  },
  {
   "cell_type": "code",
   "execution_count": 1,
   "metadata": {
    "collapsed": false
   },
   "outputs": [
    {
     "data": {
      "text/plain": [
       "3"
      ]
     },
     "execution_count": 1,
     "metadata": {},
     "output_type": "execute_result"
    }
   ],
   "source": [
    "from sympy import *\n",
    "\n",
    "A = Matrix([[1, 1, 4, 1], [0, 1, 2, 1], [0, 0, 0, 1], [1, -1, 0, 0], [2, 1, 6, 0]]);\n",
    "\n",
    "A.rank()"
   ]
  },
  {
   "cell_type": "code",
   "execution_count": 2,
   "metadata": {
    "collapsed": false
   },
   "outputs": [
    {
     "data": {
      "text/plain": [
       "[{x2: -2*x3, x1: -2*x3, x4: 0}]"
      ]
     },
     "execution_count": 2,
     "metadata": {},
     "output_type": "execute_result"
    }
   ],
   "source": [
    "from sympy import *\n",
    "\n",
    "A = Matrix([[1, 1, 4, 1], [0, 1, 2, 1], [0, 0, 0, 1], [1, -1, 0, 0], [2, 1, 6, 0]]);\n",
    "x1, x2, x3, x4 = symbols('x1 x2 x3 x4');\n",
    "x = Matrix([x1, x2, x3, x4]);\n",
    "\n",
    "solve(A.dot(x))"
   ]
  },
  {
   "cell_type": "markdown",
   "metadata": {},
   "source": [
    ">**Theorem** If $A$ is an $m\\times n$ matrix, then<br /><br /><br /><br />"
   ]
  },
  {
   "cell_type": "markdown",
   "metadata": {},
   "source": [
    "## Properties of Rank"
   ]
  },
  {
   "cell_type": "markdown",
   "metadata": {},
   "source": [
    "Let $A$ be an $n\\times n$ matrix.\n",
    "- rank(A) = n if and only if $A$ is row equivalent to $\\underline{\\hspace{.3in}}$.<br /><br />\n",
    "- $A$ is nonsingular if and only if rank($A$) =  $\\underline{\\hspace{.3in}}$.<br /><br />\n",
    "- rank(A) = n if and only if $\\det(A)$ $\\underline{\\hspace{.3in}}$.<br /><br />\n",
    "- The homogeneous system $A\\mathbf{x} = \\mathbf{0}$ has a nontrivial solution if and only if rank($A$) $\\underline{\\hspace{.3in}}$.<br /><br />\n",
    "- The nonhomogeneous system $A\\mathbf{x} = \\mathbf{b}$ has a unique solution if and only if rank($A$) $\\underline{\\hspace{.3in}}$.<br /><br />"
   ]
  },
  {
   "cell_type": "markdown",
   "metadata": {},
   "source": [
    "### Example 4"
   ]
  },
  {
   "cell_type": "markdown",
   "metadata": {},
   "source": [
    "Determine whether the homogeneous system has a nontrivial solution.\n",
    "\\begin{equation*}\n",
    "    \\left[\n",
    "    \\begin{array}{cccc}\n",
    "      1 & 1 & 2 & -1  \\\\\n",
    "      1 & 3 & -1& 2  \\\\\n",
    "      1 & 1 & 1 & 3  \\\\\n",
    "      1 & 2 & 3 & 1  \\\\\n",
    "    \\end{array}\n",
    "  \\right]\n",
    "  \\left[\n",
    "    \\begin{array}{c}\n",
    "      x_1 \\\\ x_2 \\\\ x_3 \\\\ x_4  \\\\\n",
    "    \\end{array}\n",
    "  \\right] =\n",
    "  \\left[\n",
    "    \\begin{array}{c}\n",
    "      0 \\\\ 0 \\\\ 0 \\\\ 0  \\\\\n",
    "    \\end{array}\n",
    "  \\right]\n",
    "\\end{equation*}"
   ]
  },
  {
   "cell_type": "code",
   "execution_count": 3,
   "metadata": {
    "collapsed": false
   },
   "outputs": [
    {
     "data": {
      "text/plain": [
       "4"
      ]
     },
     "execution_count": 3,
     "metadata": {},
     "output_type": "execute_result"
    }
   ],
   "source": [
    "from sympy import *\n",
    "\n",
    "A = Matrix([[1, 1, 2, -1], [1, 3, -1, 2], [1, 1, 1, 3], [1, 2, 3, 1]]);\n",
    "\n",
    "A.rank()"
   ]
  },
  {
   "cell_type": "markdown",
   "metadata": {},
   "source": [
    "## Application to Nonhomogeneous System $A\\mathbf{x}=\\mathbf{b}$"
   ]
  },
  {
   "cell_type": "markdown",
   "metadata": {},
   "source": [
    ">**Theorem** The linear system $A\\mathbf{x} = \\mathbf{b}$ has a solution if and only if<br /><br /><br /><br />"
   ]
  },
  {
   "cell_type": "markdown",
   "metadata": {},
   "source": [
    "### Example 5"
   ]
  },
  {
   "cell_type": "markdown",
   "metadata": {},
   "source": [
    "Determine whether the nonhomogeneous system has a solution.\n",
    "\\begin{equation*}\n",
    "    \\left[\n",
    "    \\begin{array}{ccc}\n",
    "      1 & 2 & 3   \\\\\n",
    "      1 & -3 &4  \\\\\n",
    "      2 & -1 &7  \\\\\n",
    "    \\end{array}\n",
    "  \\right]\n",
    "  \\left[\n",
    "    \\begin{array}{c}\n",
    "      x_1 \\\\ x_2 \\\\ x_3  \\\\\n",
    "    \\end{array}\n",
    "  \\right] =\n",
    "  \\left[\n",
    "    \\begin{array}{c}\n",
    "      4 \\\\ 5 \\\\ 6 \\\\\n",
    "    \\end{array}\n",
    "  \\right]\n",
    "\\end{equation*}"
   ]
  },
  {
   "cell_type": "code",
   "execution_count": 4,
   "metadata": {
    "collapsed": false
   },
   "outputs": [
    {
     "data": {
      "text/plain": [
       "[]"
      ]
     },
     "execution_count": 4,
     "metadata": {},
     "output_type": "execute_result"
    }
   ],
   "source": [
    "from sympy import *\n",
    "\n",
    "A = Matrix([[1, 2, 3], [1, -3, 4], [2, -1, 7]]);\n",
    "x1, x2, x3 = symbols('x1 x2 x3');\n",
    "x = Matrix([x1, x2, x3]);\n",
    "\n",
    "solve(Matrix(A.dot(x)) - Matrix([4, 5, 6]))"
   ]
  },
  {
   "cell_type": "markdown",
   "metadata": {},
   "source": [
    "**Remark** For the nonhomogeneous system $A\\mathbf{x}= \\mathbf{b}$, where $A$ is an $n\\times n$ matrix,\n",
    "- If $rank(A) = n$,<br /><br />\n",
    "- If $rank(A) < n$, and $rank(A) = rank([A~|~\\mathbf{b}])$,<br /><br />\n",
    "- If $rank(A) < n$, and $rank(A) \\neq rank([A~|~\\mathbf{b}])$,<br /><br />"
   ]
  }
 ],
 "metadata": {
  "kernelspec": {
   "display_name": "Python 3",
   "language": "python",
   "name": "python3"
  },
  "language_info": {
   "codemirror_mode": {
    "name": "ipython",
    "version": 3
   },
   "file_extension": ".py",
   "mimetype": "text/x-python",
   "name": "python",
   "nbconvert_exporter": "python",
   "pygments_lexer": "ipython3",
   "version": "3.4.4"
  }
 },
 "nbformat": 4,
 "nbformat_minor": 0
}
