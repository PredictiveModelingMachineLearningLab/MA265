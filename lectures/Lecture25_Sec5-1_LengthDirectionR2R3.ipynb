{
 "cells": [
  {
   "cell_type": "markdown",
   "metadata": {},
   "source": [
    "# Section 5.1 $\\quad$ Length and Direction in $\\mathbb{R}^2$ and $\\mathbb{R}^3$"
   ]
  },
  {
   "cell_type": "markdown",
   "metadata": {},
   "source": [
    "## Length of Vectors in $\\mathbb{R}^2$"
   ]
  },
  {
   "cell_type": "markdown",
   "metadata": {},
   "source": [
    "Let $\\mathbf{v} = \\left[\\begin{array}{c}v_1\\\\v_2\\end{array}\\right]$ be a vector in $\\mathbb{R}^2$.\n",
    "The $\\underline{\\hspace{1in}}$  or $\\underline{\\hspace{1in}}$ of  $\\mathbf{v}$, denoted by $\\|\\mathbf{v}\\|$, is <br /><br /><br /><br />"
   ]
  },
  {
   "cell_type": "markdown",
   "metadata": {},
   "source": [
    "The distance between vectors $\\mathbf{u}$ and $\\mathbf{v}$ is defined as<br /><br /><br /><br />"
   ]
  },
  {
   "cell_type": "markdown",
   "metadata": {},
   "source": [
    "## Length of Vectors in $\\mathbb{R}^3$"
   ]
  },
  {
   "cell_type": "markdown",
   "metadata": {},
   "source": [
    "Let $\\mathbf{v} = \\left[\\begin{array}{c}v_1\\\\v_2\\\\v_3\\end{array}\\right]$ be a vector in $\\mathbb{R}^3$.\n",
    "The **length** of  $\\mathbf{v}$ is defined as<br /><br /><br /><br />"
   ]
  },
  {
   "cell_type": "markdown",
   "metadata": {},
   "source": [
    "The distance between vectors $\\mathbf{u}$ and $\\mathbf{v}$ is defined as<br /><br /><br /><br />"
   ]
  },
  {
   "cell_type": "markdown",
   "metadata": {},
   "source": [
    "## Direction"
   ]
  },
  {
   "cell_type": "markdown",
   "metadata": {},
   "source": [
    "We consider the **angle** $\\theta$, $0\\leq\\theta\\leq\\pi$ between two vectors."
   ]
  },
  {
   "cell_type": "markdown",
   "metadata": {},
   "source": [
    "In $\\mathbb{R}^2$, we plot the angle of two vectors $\\mathbf{u}$ and $\\mathbf{v}$:<br /><br /><br /><br />"
   ]
  },
  {
   "cell_type": "markdown",
   "metadata": {},
   "source": [
    "By **law of cosines**:"
   ]
  },
  {
   "cell_type": "markdown",
   "metadata": {},
   "source": [
    "we have<br /><br /><br /><br />"
   ]
  },
  {
   "cell_type": "markdown",
   "metadata": {},
   "source": [
    "Similarly, if $\\mathbf{u}$ and $\\mathbf{v}$ are vectors in $\\mathbb{R}^3$, the angle between vectors $\\mathbf{u}$ and $\\mathbf{v}$ is<br /><br /><br /><br />"
   ]
  },
  {
   "cell_type": "markdown",
   "metadata": {},
   "source": [
    "### Example 1"
   ]
  },
  {
   "cell_type": "markdown",
   "metadata": {},
   "source": [
    "Let $\\mathbf{u} = \\left[\\begin{array}{c}1\\\\1\\\\0\\end{array}\\right]$ and $\\mathbf{v} = \\left[\\begin{array}{c}0\\\\1\\\\1\\end{array}\\right]$. Find the angle $\\theta$ between these vectors."
   ]
  },
  {
   "cell_type": "code",
   "execution_count": 1,
   "metadata": {
    "collapsed": false
   },
   "outputs": [
    {
     "data": {
      "text/plain": [
       "(1.0471975511965979, 1.0471975511965976)"
      ]
     },
     "execution_count": 1,
     "metadata": {},
     "output_type": "execute_result"
    }
   ],
   "source": [
    "from numpy import *\n",
    "\n",
    "u = array([1, 1, 0]);\n",
    "v = array([0, 1, 1]);\n",
    "\n",
    "arccos(abs(dot(u, v)) / (linalg.norm(u) * linalg.norm(v))), pi/3"
   ]
  },
  {
   "cell_type": "markdown",
   "metadata": {},
   "source": [
    "The **inner product**, or **dot product** of vectors $\\mathbf{u}$ and $\\mathbf{v}$ on $\\mathbb{R}^2$ (or $\\mathbb{R}^3$) are defined by<br /><br /><br /><br />"
   ]
  },
  {
   "cell_type": "markdown",
   "metadata": {},
   "source": [
    "**Remark**\n",
    "- <br /><br /><br /><br />\n",
    "- <br /><br /><br /><br />\n",
    "- <br /><br /><br /><br />"
   ]
  },
  {
   "cell_type": "markdown",
   "metadata": {},
   "source": [
    ">**Definition** Two vectors $\\mathbf{u}$ and $\\mathbf{v}$ in $\\mathbb{R}^2$ or $\\mathbb{R}^3$ are called<br /><br /><br /><br />"
   ]
  },
  {
   "cell_type": "markdown",
   "metadata": {},
   "source": [
    "### Example 2"
   ]
  },
  {
   "cell_type": "markdown",
   "metadata": {},
   "source": [
    "The vectors $\\mathbf{u} = \\left[\\begin{array}{c}2\\\\-4\\\\\\end{array}\\right]$ and $\\mathbf{v} = \\left[\\begin{array}{c}4\\\\2\\\\\\end{array}\\right]$ are orthogonal."
   ]
  },
  {
   "cell_type": "markdown",
   "metadata": {},
   "source": [
    "Let $\\mathbf{u}$, $\\mathbf{v}$ and $\\mathbf{w}$ be vectors in $\\mathbb{R}^2$ or $\\mathbb{R}^3$, and $c$ be a scalar. The inner product satisfies:\n",
    "1. <br /><br /><br /><br />\n",
    "- <br /><br /><br /><br />\n",
    "- <br /><br /><br /><br />\n",
    "- <br /><br /><br /><br />"
   ]
  },
  {
   "cell_type": "markdown",
   "metadata": {},
   "source": [
    "## Unit Vector"
   ]
  },
  {
   "cell_type": "markdown",
   "metadata": {},
   "source": [
    "A vector in $\\mathbb{R}^2$ or $\\mathbb{R}^3$ whose length is 1 is called<br /><br /><br /><br />"
   ]
  },
  {
   "cell_type": "markdown",
   "metadata": {},
   "source": [
    "If $\\mathbf{v}$ is any nonzero vector, then a unit vector in the direction of $\\mathbf{v}$ is<br /><br /><br /><br />"
   ]
  },
  {
   "cell_type": "markdown",
   "metadata": {},
   "source": [
    "### Example 3"
   ]
  },
  {
   "cell_type": "markdown",
   "metadata": {},
   "source": [
    "Let\n",
    "$\\mathbf{v} = \\left[\\begin{array}{c}1\\\\2\\\\-2\\\\\\end{array}\\right]$. Find a unit vector in $\\mathbb{R}^3$ which\n",
    "1. is in the same direction as $\\mathbf{v}$\n",
    "- is in the opposite direction as $\\mathbf{v}$\n",
    "- is orthogonal to $\\mathbf{v}$\n",
    "- has an angle of $60^o$ between $\\mathbf{v}$."
   ]
  },
  {
   "cell_type": "code",
   "execution_count": 2,
   "metadata": {
    "collapsed": false
   },
   "outputs": [
    {
     "data": {
      "text/plain": [
       "array([ 0.33333333,  0.66666667, -0.66666667])"
      ]
     },
     "execution_count": 2,
     "metadata": {},
     "output_type": "execute_result"
    }
   ],
   "source": [
    "from numpy import *\n",
    "\n",
    "v = array([1, 2, -2]);\n",
    "\n",
    "v / linalg.norm(v)"
   ]
  }
 ],
 "metadata": {
  "kernelspec": {
   "display_name": "Python 3",
   "language": "python",
   "name": "python3"
  },
  "language_info": {
   "codemirror_mode": {
    "name": "ipython",
    "version": 3
   },
   "file_extension": ".py",
   "mimetype": "text/x-python",
   "name": "python",
   "nbconvert_exporter": "python",
   "pygments_lexer": "ipython3",
   "version": "3.4.4"
  }
 },
 "nbformat": 4,
 "nbformat_minor": 0
}
