{
 "cells": [
  {
   "cell_type": "markdown",
   "metadata": {},
   "source": [
    "# Section 5.3 $\\quad$ Inner Product Spaces"
   ]
  },
  {
   "cell_type": "markdown",
   "metadata": {},
   "source": [
    "## Definition of Inner Product"
   ]
  },
  {
   "cell_type": "markdown",
   "metadata": {},
   "source": [
    ">Let $V$ be a real vector space. An **inner product** on $V$ is a function that assigns to each ordered pair of vectors $\\mathbf{u}$ and $\\mathbf{v}$ in $V$ a real number $(\\mathbf{u},\\mathbf{v})$ satisfying<br />\n",
    "(a)$\\quad$<br /><br /><br />\n",
    "(b)$\\quad$<br /><br /><br />\n",
    "(c)$\\quad$<br /><br /><br />\n",
    "(d)$\\quad$<br /><br /><br />"
   ]
  },
  {
   "cell_type": "markdown",
   "metadata": {},
   "source": [
    "### Example 1"
   ]
  },
  {
   "cell_type": "markdown",
   "metadata": {},
   "source": [
    "In $\\mathbb{R}^n$, the dot product of vectors\n",
    "\\begin{equation*}\n",
    "  \\mathbf{u} = \\left[ \\begin{array}{c}u_1 \\\\ u_2 \\\\ \\vdots \\\\ u_n \\end{array} \\right] ~~~~\\text{and}~~~~\n",
    "  \\mathbf{v} = \\left[ \\begin{array}{c}v_1 \\\\ v_2 \\\\ \\vdots \\\\ v_n \\end{array} \\right]\n",
    "\\end{equation*}\n",
    "is defined by\n",
    "\\begin{equation*}\n",
    "  (\\mathbf{u}, \\mathbf{v}) = u_1v_1 + u_2 v_2 + \\cdots + u_n v_n.\n",
    "\\end{equation*}\n",
    "Show that the dot product is an inner product.<br /><br /><br /><br /><br /><br /><br />"
   ]
  },
  {
   "cell_type": "markdown",
   "metadata": {},
   "source": [
    "### Example 2"
   ]
  },
  {
   "cell_type": "markdown",
   "metadata": {},
   "source": [
    "Compute the (standard) inner product $(\\mathbf{u}, \\mathbf{v})$ in $\\mathbb{R}_4$.<br />\n",
    "(a)$\\quad$$\\mathbf{u} = [1 ~ 2 ~ 3 ~ 4]$, $\\mathbf{v} = [0 ~ 3 ~ 2 ~ 1]$<br /><br />\n",
    "(b)$\\quad$$\\mathbf{u} = [1 ~ 2 ~ 3 ~ 4]$, $\\mathbf{v} = [-4 ~ -3 ~ 2 ~ 1]$<br /><br />\n",
    "(c)$\\quad$$\\mathbf{u} = [\\frac{1}{2} ~ \\frac{1}{2}  ~ \\frac{1}{2}  ~ \\frac{1}{2} ]$, $\\mathbf{v} = [\\frac{1}{2} ~ \\frac{1}{2}  ~ \\frac{1}{2}  ~ \\frac{1}{2} ]$<br /><br />"
   ]
  },
  {
   "cell_type": "code",
   "execution_count": 1,
   "metadata": {
    "collapsed": false
   },
   "outputs": [
    {
     "data": {
      "text/plain": [
       "16"
      ]
     },
     "execution_count": 1,
     "metadata": {},
     "output_type": "execute_result"
    }
   ],
   "source": [
    "from numpy import *\n",
    "\n",
    "u = array([1, 2, 3, 4]);\n",
    "v = array([0, 3, 2, 1]);\n",
    "\n",
    "dot(u, v)"
   ]
  },
  {
   "cell_type": "markdown",
   "metadata": {},
   "source": [
    ">**Definition**\n",
    "- A real vector space that has an inner product defined on it is called an<br /><br /><br />\n",
    "- In an inner product space, we define the length of a vector $\\mathbf{u}$ by<br /><br /><br />"
   ]
  },
  {
   "cell_type": "markdown",
   "metadata": {},
   "source": [
    "In an inner product space, we have the following important inequalities:\n",
    "- **Cauchy-Schwarz Inequality**:<br /><br /><br />\n",
    "- **Triangle Inequality**:<br /><br /><br />"
   ]
  },
  {
   "cell_type": "markdown",
   "metadata": {},
   "source": [
    "**Proof**<br /><br /><br /><br /><br /><br /><br />"
   ]
  },
  {
   "cell_type": "markdown",
   "metadata": {},
   "source": [
    "### Example 3"
   ]
  },
  {
   "cell_type": "markdown",
   "metadata": {},
   "source": [
    "Verify Cauchy-Schwarz Inequality and triangle inequality with\n",
    "\\begin{equation*}\n",
    "  \\mathbf{u} = \\left[ \\begin{array}{c}1 \\\\ 2 \\\\ -3 \\end{array} \\right] ~~~~\\text{and}~~~~\n",
    "  \\mathbf{v} = \\left[ \\begin{array}{c}-3\\\\ 2 \\\\ 2  \\end{array} \\right]\n",
    "\\end{equation*}"
   ]
  },
  {
   "cell_type": "code",
   "execution_count": 2,
   "metadata": {
    "collapsed": false
   },
   "outputs": [
    {
     "data": {
      "text/plain": [
       "(5, 15.427248620541512)"
      ]
     },
     "execution_count": 2,
     "metadata": {},
     "output_type": "execute_result"
    }
   ],
   "source": [
    "from numpy import *\n",
    "\n",
    "u = array([1, 2, -3]);\n",
    "v = array([-3, 2, 2]);\n",
    "\n",
    "abs(dot(u, v)), linalg.norm(u) * linalg.norm(v)"
   ]
  },
  {
   "cell_type": "code",
   "execution_count": 3,
   "metadata": {
    "collapsed": false
   },
   "outputs": [
    {
     "data": {
      "text/plain": [
       "(4.5825756949558398, 7.8647630123916024)"
      ]
     },
     "execution_count": 3,
     "metadata": {},
     "output_type": "execute_result"
    }
   ],
   "source": [
    "from numpy import *\n",
    "\n",
    "u = array([1, 2, -3]);\n",
    "v = array([-3, 2, 2]);\n",
    "\n",
    "linalg.norm(u + v), linalg.norm(u) + linalg.norm(v)"
   ]
  },
  {
   "cell_type": "markdown",
   "metadata": {},
   "source": [
    ">**Definition** If $V$ is an inner product space,\n",
    "- we say the **distance** between two vectors $\\mathbf{u}$ and $\\mathbf{v}$ is<br /><br /><br />\n",
    "- we say two vectors $\\mathbf{u}$ and $\\mathbf{v}$ are **orthogonal** if<br /><br /><br />"
   ]
  },
  {
   "cell_type": "markdown",
   "metadata": {},
   "source": [
    ">**Definition** Let $V$ be an inner product space.\n",
    "- A set $S$ of vectors in $V$ is called **orthogonal** if<br /><br /><br />\n",
    "- If, in addition,<br /><br /><br />"
   ]
  },
  {
   "cell_type": "markdown",
   "metadata": {},
   "source": [
    "### Example 4"
   ]
  },
  {
   "cell_type": "markdown",
   "metadata": {},
   "source": [
    "Are vectors\n",
    "$\\mathbf{u_1} = \\left[\\begin{array}{c}0\\\\1\\\\-1\\\\\\end{array}\\right]$,\n",
    "$\\mathbf{u_2} = \\left[\\begin{array}{c}0\\\\1\\\\1\\\\\\end{array}\\right]$,\n",
    "$\\mathbf{u_3} = \\left[\\begin{array}{c}2\\\\0\\\\0\\\\\\end{array}\\right]$ orthogonal? Are they orthonomal?"
   ]
  },
  {
   "cell_type": "code",
   "execution_count": 4,
   "metadata": {
    "collapsed": false
   },
   "outputs": [
    {
     "data": {
      "text/plain": [
       "(0, 0, 0)"
      ]
     },
     "execution_count": 4,
     "metadata": {},
     "output_type": "execute_result"
    }
   ],
   "source": [
    "from numpy import *\n",
    "\n",
    "u1 = array([0, 1, -1]);\n",
    "u2 = array([0, 1, 1]);\n",
    "u3 = array([2, 0, 0]);\n",
    "\n",
    "dot(u1, u2), dot(u2, u3), dot(u3, u1)"
   ]
  },
  {
   "cell_type": "markdown",
   "metadata": {},
   "source": [
    "### Example 5"
   ]
  },
  {
   "cell_type": "markdown",
   "metadata": {},
   "source": [
    "Are vectors\n",
    "$\\mathbf{u_1} = \\left[\\begin{array}{c}2/3\\\\ 2/3\\\\ 1/3\\\\\\end{array}\\right]$,\n",
    "$\\mathbf{u_2} = \\left[\\begin{array}{c}-2/3\\\\1/3\\\\ 2/3\\\\\\end{array}\\right]$,\n",
    "$\\mathbf{u_3} = \\left[\\begin{array}{c}1/3\\\\-2/3\\\\ 2/3\\\\\\end{array}\\right]$, orthogonal? Are they orthonomal?"
   ]
  },
  {
   "cell_type": "code",
   "execution_count": 5,
   "metadata": {
    "collapsed": false
   },
   "outputs": [
    {
     "data": {
      "text/plain": [
       "(0.0, 0.0, 0.0)"
      ]
     },
     "execution_count": 5,
     "metadata": {},
     "output_type": "execute_result"
    }
   ],
   "source": [
    "from numpy import *\n",
    "\n",
    "u1 = array([2/3, 2/3, 1/3]);\n",
    "u2 = array([-2/3, 1/3, 2/3]);\n",
    "u3 = array([1/3, -2/3, 2/3]);\n",
    "\n",
    "dot(u1, u2), dot(u2, u3), dot(u3, u1)"
   ]
  },
  {
   "cell_type": "markdown",
   "metadata": {},
   "source": [
    "**Remark** Let $S = \\{\\mathbf{u}_1,\\mathbf{u}_2, \\cdots,\\mathbf{u}_n\\}$ be an orthogonal set of nonzero vectors in an inner product space $V$. Then $S$ is linearly $\\underline{\\hspace{1in}}$"
   ]
  }
 ],
 "metadata": {
  "kernelspec": {
   "display_name": "Python 3",
   "language": "python",
   "name": "python3"
  },
  "language_info": {
   "codemirror_mode": {
    "name": "ipython",
    "version": 3
   },
   "file_extension": ".py",
   "mimetype": "text/x-python",
   "name": "python",
   "nbconvert_exporter": "python",
   "pygments_lexer": "ipython3",
   "version": "3.4.4"
  }
 },
 "nbformat": 4,
 "nbformat_minor": 0
}
