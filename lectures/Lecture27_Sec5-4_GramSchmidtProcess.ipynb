{
 "cells": [
  {
   "cell_type": "markdown",
   "metadata": {},
   "source": [
    "# Section 5.4 $\\quad$ Gram-Schmidt Process"
   ]
  },
  {
   "cell_type": "markdown",
   "metadata": {},
   "source": [
    "In this section, we introduce a method to obtain an orthonormal basis for a finite dimensional inner product space, which is called **Gram-Schmidt Process**."
   ]
  },
  {
   "cell_type": "markdown",
   "metadata": {},
   "source": [
    "**Question:** Why do we want an orthonormal basis?"
   ]
  },
  {
   "cell_type": "markdown",
   "metadata": {},
   "source": [
    "### Example 1"
   ]
  },
  {
   "cell_type": "markdown",
   "metadata": {},
   "source": [
    "Let $S = \\{\\mathbf{u}_1,\\mathbf{u}_2, \\mathbf{u}_3\\}$ be a basis for $\\mathbb{R}^3$, where\n",
    "\\begin{equation*}\n",
    "  \\mathbf{u_1} = \\left[\\begin{array}{c}2/3\\\\ 2/3\\\\ 1/3\\\\\\end{array}\\right],\n",
    "\\mathbf{u_2} = \\left[\\begin{array}{c}-2/3\\\\1/3\\\\ 2/3\\\\\\end{array}\\right],\n",
    "\\mathbf{u_3} = \\left[\\begin{array}{c}1/3\\\\-2/3\\\\ 2/3\\\\\\end{array}\\right].\n",
    "\\end{equation*}\n",
    "Note that $S$ is orthonormal. Write the vector $\\mathbf{v} = \\left[\\begin{array}{c}3\\\\ 4\\\\ 5\\\\\\end{array}\\right]$\n",
    "as a linear combination of vectors in $S$."
   ]
  },
  {
   "cell_type": "code",
   "execution_count": 1,
   "metadata": {
    "collapsed": false
   },
   "outputs": [
    {
     "data": {
      "text/plain": [
       "array([ 6.33333333,  2.66666667,  1.66666667])"
      ]
     },
     "execution_count": 1,
     "metadata": {},
     "output_type": "execute_result"
    }
   ],
   "source": [
    "from numpy import *\n",
    "linalg.solve(array([[2/3, -2/3, 1/3], [2/3, 1/3, -2/3], [1/3, 2/3, 2/3]]), array([3, 4, 5]))"
   ]
  },
  {
   "cell_type": "markdown",
   "metadata": {},
   "source": [
    "## Gram-Schmidt Process"
   ]
  },
  {
   "cell_type": "markdown",
   "metadata": {},
   "source": [
    "Let $V$ be an inner product space, and $W\\neq\\{\\mathbf{0}\\}$ an $m$-dimensional subspace of $V$. We can construct an orthonomal basis $T = \\{\\mathbf{w}_1,\\mathbf{w}_2, \\cdots,\\mathbf{w}_m\\}$ for $W$."
   ]
  },
  {
   "cell_type": "markdown",
   "metadata": {},
   "source": [
    "**Note:** We first find an orthogonal basis $T^* = \\{\\mathbf{v}_1,\\mathbf{v}_2, \\cdots,\\mathbf{v}_m\\}$ for $W$.<br /><br /><br /><br /><br /><br /><br />"
   ]
  },
  {
   "cell_type": "markdown",
   "metadata": {},
   "source": [
    "### Example 2"
   ]
  },
  {
   "cell_type": "markdown",
   "metadata": {},
   "source": [
    "Let $W$ be the subspace of $\\mathbb{R}^4$ with basis $S = \\{\\mathbf{u}_1,\\mathbf{u}_2, \\mathbf{u}_3\\}$ where\n",
    "\\begin{equation*}\n",
    "  \\mathbf{u_1} = \\left[\\begin{array}{c}1\\\\ 1\\\\ 1\\\\ 0 \\\\\\end{array}\\right],\n",
    "\\mathbf{u_2} = \\left[\\begin{array}{c}-1\\\\0\\\\ -1\\\\ 1 \\\\\\end{array}\\right],\n",
    "\\mathbf{u_3} = \\left[\\begin{array}{c}-1\\\\0\\\\ 0\\\\ -1 \\\\\\end{array}\\right].\n",
    "\\end{equation*}\n",
    "Transform $S$ to an orthonormal basis $T = \\{\\mathbf{w}_1,\\mathbf{w}_2, \\mathbf{w}_3\\}$"
   ]
  },
  {
   "cell_type": "code",
   "execution_count": 2,
   "metadata": {
    "collapsed": false
   },
   "outputs": [
    {
     "data": {
      "text/plain": [
       "Matrix([\n",
       "[sqrt(3)/3,  -sqrt(15)/15, -4*sqrt(35)/35],\n",
       "[sqrt(3)/3, 2*sqrt(15)/15,  3*sqrt(35)/35],\n",
       "[sqrt(3)/3,  -sqrt(15)/15,    sqrt(35)/35],\n",
       "[        0,    sqrt(15)/5, -3*sqrt(35)/35]])"
      ]
     },
     "execution_count": 2,
     "metadata": {},
     "output_type": "execute_result"
    }
   ],
   "source": [
    "from sympy import *\n",
    "\n",
    "A = Matrix([[1, -1, -1], [1, 0, 0], [1, -1, 0], [0, 1, -1]]);\n",
    "\n",
    "A.QRdecomposition()[0]"
   ]
  },
  {
   "cell_type": "markdown",
   "metadata": {},
   "source": [
    "### Example 3"
   ]
  },
  {
   "cell_type": "markdown",
   "metadata": {},
   "source": [
    "Find an orthonormal basis for the subspace of $R_4$ consisting of all vectors $[a~~b~~c~~d]$ such that\n",
    "\\begin{equation*}\n",
    "  a-b-2c+d=0\n",
    "\\end{equation*}"
   ]
  },
  {
   "cell_type": "code",
   "execution_count": 3,
   "metadata": {
    "collapsed": false
   },
   "outputs": [
    {
     "data": {
      "text/plain": [
       "Matrix([\n",
       "[  sqrt(42)/7,            0,           0],\n",
       "[ sqrt(42)/42,   sqrt(30)/6,           0],\n",
       "[ sqrt(42)/21, -sqrt(30)/15,   sqrt(5)/5],\n",
       "[-sqrt(42)/42,  sqrt(30)/30, 2*sqrt(5)/5]])"
      ]
     },
     "execution_count": 3,
     "metadata": {},
     "output_type": "execute_result"
    }
   ],
   "source": [
    "from sympy import *\n",
    "\n",
    "A = Matrix([[1, -1, -2, 1], [1, 0, 0, 0], [0, 1, 0, 0], [0, 0, 1, 0]]).T;\n",
    "B = A.QRdecomposition()[0];\n",
    "B.col_del(0);\n",
    "\n",
    "B"
   ]
  }
 ],
 "metadata": {
  "kernelspec": {
   "display_name": "Python 3",
   "language": "python",
   "name": "python3"
  },
  "language_info": {
   "codemirror_mode": {
    "name": "ipython",
    "version": 3
   },
   "file_extension": ".py",
   "mimetype": "text/x-python",
   "name": "python",
   "nbconvert_exporter": "python",
   "pygments_lexer": "ipython3",
   "version": "3.4.4"
  }
 },
 "nbformat": 4,
 "nbformat_minor": 0
}
