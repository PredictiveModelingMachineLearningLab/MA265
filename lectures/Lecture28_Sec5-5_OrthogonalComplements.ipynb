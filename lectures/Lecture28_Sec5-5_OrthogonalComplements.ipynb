{
 "cells": [
  {
   "cell_type": "markdown",
   "metadata": {},
   "source": [
    "# Section 5.5 $\\quad$ Orthogonal Complements"
   ]
  },
  {
   "cell_type": "markdown",
   "metadata": {},
   "source": [
    ">**Definition** Let $W$ be a subspace of an inner product space $V$.\n",
    "- A vector $\\mathbf{u}$ in $V$ is said to be **orthogonal to** W if <br /><br /><br /><br />\n",
    "- The set of all vectors in $V$ that are orthogonal to all vectors in $W$ is called $\\underline{\\hspace{2in}}$ of $W$ in $V$, and is denoted by $\\underline{\\hspace{1in}}$."
   ]
  },
  {
   "cell_type": "markdown",
   "metadata": {},
   "source": [
    "### Example 1"
   ]
  },
  {
   "cell_type": "markdown",
   "metadata": {},
   "source": [
    "Let $W$ be the subspace spanned by the vector\n",
    "\\begin{equation*}\n",
    "  \\mathbf{w} = \\left[\\begin{array}{c}2\\\\ -3\\\\ 4\\\\\\end{array}\\right].\n",
    "\\end{equation*}\n",
    "- Find the orthogonal complement $W^\\perp$ of $W$.\n",
    "- Find a basis for $W^\\perp$."
   ]
  },
  {
   "cell_type": "code",
   "execution_count": 1,
   "metadata": {
    "collapsed": false
   },
   "outputs": [
    {
     "data": {
      "text/plain": [
       "Matrix([\n",
       "[  5*sqrt(29)/29,   0],\n",
       "[ 6*sqrt(29)/145, 4/5],\n",
       "[-8*sqrt(29)/145, 3/5]])"
      ]
     },
     "execution_count": 1,
     "metadata": {},
     "output_type": "execute_result"
    }
   ],
   "source": [
    "from sympy import *\n",
    "\n",
    "A = Matrix([[2, -3, 4], [1, 0, 0], [0, 1, 0]]).T;\n",
    "B = A.QRdecomposition()[0];\n",
    "B.col_del(0);\n",
    "\n",
    "B"
   ]
  },
  {
   "cell_type": "markdown",
   "metadata": {},
   "source": [
    ">Let $W$ be a subspace of an inner product space $V$.\n",
    "- $W^{\\perp}$<br /><br /><br /><br />\n",
    "- $W\\cap W^{\\perp} = $<br /><br /><br /><br />\n",
    "- $V = $<br /><br /><br /><br />"
   ]
  },
  {
   "cell_type": "markdown",
   "metadata": {},
   "source": [
    "### Example 2"
   ]
  },
  {
   "cell_type": "markdown",
   "metadata": {},
   "source": [
    "Let $W$ be the subspace of $\\mathbb{R}_5$ spanned by $\\mathbf{w}_1,\\mathbf{w}_2,\\cdots, \\mathbf{w}_5$ where\n",
    "\\begin{equation*}\n",
    "  \\mathbf{w_1} = [2~~-1~~0~~1~~2],\\quad\\mathbf{w_2} = [1~~3~~1~~-2~~-4],\\quad\\mathbf{w_3} = [3~~2~~1~~-1~~-2],\n",
    "\\end{equation*}\n",
    "\\begin{equation*}\n",
    "  \\mathbf{w_4} = [7~~7~~3~~-4~~-8],\\quad\\mathbf{w_5} = [1~~-4~~-1~~-1~~-2].\n",
    "\\end{equation*}\n",
    "Find a basis for $W^\\perp$."
   ]
  },
  {
   "cell_type": "code",
   "execution_count": 2,
   "metadata": {
    "collapsed": false
   },
   "outputs": [
    {
     "name": "stdout",
     "output_type": "stream",
     "text": [
      "Matrix([[1, 0, 1/7, 0, 0], [0, 1, 2/7, 0, 0], [0, 0, 0, 1, 2], [0, 0, 0, 0, 0], [0, 0, 0, 0, 0]])\n"
     ]
    },
    {
     "data": {
      "text/plain": [
       "Matrix([\n",
       "[   sqrt(6)/18,           0],\n",
       "[    sqrt(6)/9,           0],\n",
       "[-7*sqrt(6)/18,           0],\n",
       "[            0, 2*sqrt(5)/5],\n",
       "[            0,  -sqrt(5)/5]])"
      ]
     },
     "execution_count": 2,
     "metadata": {},
     "output_type": "execute_result"
    }
   ],
   "source": [
    "from sympy import *\n",
    "\n",
    "W = Matrix([[2, -1, 0, 1, 2], [1, 3, 1, -2, -4], [3, 2, 1, -1, -2], [7, 7, 3, -4, -8], [1, -4, -1, -1, -2]]);\n",
    "A = W.rref()[0];\n",
    "print(A);\n",
    "A = A.T;\n",
    "A[:,3] = [1, 0, 0, 0, 0];\n",
    "A[:,4] = [0, 0, 0, 1, 0];\n",
    "B = A.QRdecomposition()[0];\n",
    "B.col_del(0);\n",
    "B.col_del(0);\n",
    "B.col_del(0);\n",
    "\n",
    "B"
   ]
  },
  {
   "cell_type": "markdown",
   "metadata": {},
   "source": [
    "## Projections"
   ]
  },
  {
   "cell_type": "markdown",
   "metadata": {},
   "source": [
    ">Let $W$ be a subspace of an inner product space $V$ with orthonormal basis $\\{\\mathbf{w}_1,\\mathbf{w}_2,\\cdots, \\mathbf{w}_m\\}$. For any vector $\\mathbf{v}$ in $V$, there exist <br /><br /><br /><br />\n",
    "Moreover, the vector $\\mathbf{w}$ can be written as<br /><br /><br /><br />\n",
    "which is called the<br /><br /><br /><br />"
   ]
  },
  {
   "cell_type": "markdown",
   "metadata": {},
   "source": [
    "**Remark** If $\\{\\mathbf{w}_1,\\mathbf{w}_2,\\cdots, \\mathbf{w}_m\\}$ is an orthogonal basis for $W$, then<br /><br /><br /><br />"
   ]
  },
  {
   "cell_type": "markdown",
   "metadata": {},
   "source": [
    "## An illustration of orthogonal projection\n",
    "<br /><br /><br /><br />"
   ]
  },
  {
   "cell_type": "markdown",
   "metadata": {},
   "source": [
    "The **distance** from $\\mathbf{v}$ to the subspace $W$ is given by<br /><br /><br /><br />"
   ]
  },
  {
   "cell_type": "markdown",
   "metadata": {},
   "source": [
    "### Example 3"
   ]
  },
  {
   "cell_type": "markdown",
   "metadata": {},
   "source": [
    "Let $W$ be the subspace of $\\mathbb{R}^3$ with orthonormal basis $\\{\\mathbf{w}_1,\\mathbf{w}_2\\}$ where\n",
    "\\begin{equation*}\n",
    "  \\mathbf{w_1} = \\left[\\begin{array}{c}\\dfrac{2}{3}\\\\ -\\dfrac{1}{3}\\\\ -\\dfrac{2}{3}\\\\ \\end{array}\\right],~~~\n",
    "\\mathbf{w_2} = \\left[\\begin{array}{c}\\dfrac{1}{\\sqrt{2}}\\\\ 0\\\\ \\dfrac{1}{\\sqrt{2}}\\\\\\end{array}\\right].\n",
    "\\end{equation*}\n",
    "Find the orthogonal projection  of $\\mathbf{v} = \\left[\\begin{array}{c}2\\\\ 1\\\\ 3\\\\ \\end{array}\\right]$. Find the distance from $\\mathbf{v}$ to $W$."
   ]
  },
  {
   "cell_type": "code",
   "execution_count": 3,
   "metadata": {
    "collapsed": false
   },
   "outputs": [
    {
     "data": {
      "text/plain": [
       "(array([ 1.83333333,  0.33333333,  3.16666667]), 0.70710678118654757)"
      ]
     },
     "execution_count": 3,
     "metadata": {},
     "output_type": "execute_result"
    }
   ],
   "source": [
    "from numpy import *\n",
    "\n",
    "w1 = array([2/3, -1/3, -2/3]);\n",
    "w2 = array([1/sqrt(2), 0, 1/sqrt(2)]);\n",
    "v = array([2, 1, 3]);\n",
    "vp = dot(v, w1)*w1 + dot(v, w2)*w2\n",
    "\n",
    "vp, linalg.norm(v - vp)"
   ]
  }
 ],
 "metadata": {
  "kernelspec": {
   "display_name": "Python 3",
   "language": "python",
   "name": "python3"
  },
  "language_info": {
   "codemirror_mode": {
    "name": "ipython",
    "version": 3
   },
   "file_extension": ".py",
   "mimetype": "text/x-python",
   "name": "python",
   "nbconvert_exporter": "python",
   "pygments_lexer": "ipython3",
   "version": "3.4.4"
  }
 },
 "nbformat": 4,
 "nbformat_minor": 0
}
