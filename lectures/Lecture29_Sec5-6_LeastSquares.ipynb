{
 "cells": [
  {
   "cell_type": "markdown",
   "metadata": {},
   "source": [
    "# Section 5.6 $\\quad$ Least Squares"
   ]
  },
  {
   "cell_type": "markdown",
   "metadata": {},
   "source": [
    "**Recall** An $m\\times n$ linear system $A\\mathbf{x}=\\mathbf{b}$ is consistent if and only if <br /><br /><br /><br />"
   ]
  },
  {
   "cell_type": "markdown",
   "metadata": {},
   "source": [
    "**Question** What can we do if the system $A\\mathbf{x}=\\mathbf{b}$ is inconsistent?<br /><br /><br /><br />"
   ]
  },
  {
   "cell_type": "markdown",
   "metadata": {},
   "source": [
    ">The **least square solution** to the linear system $A\\mathbf{x}=\\mathbf{b}$ is the solution to the system<br /><br /><br /><br />"
   ]
  },
  {
   "cell_type": "markdown",
   "metadata": {},
   "source": [
    "**Remark** If $A$ is an $m\\times n$ matrix,<br /><br /><br /><br />"
   ]
  },
  {
   "cell_type": "markdown",
   "metadata": {},
   "source": [
    "### Example 1"
   ]
  },
  {
   "cell_type": "markdown",
   "metadata": {},
   "source": [
    "Determine the least square solution to $A\\mathbf{x}=\\mathbf{b}$, where\n",
    "\\begin{equation*}\n",
    "  A =\n",
    "  \\left[\n",
    "    \\begin{array}{cc}\n",
    "      2 & 1 \\\\\n",
    "      1 & 0 \\\\\n",
    "      0 & -1 \\\\\n",
    "      -1 & 1 \\\\\n",
    "    \\end{array}\n",
    "  \\right],~~~~~~\n",
    "  \\mathbf{b} =\n",
    "  \\left[\n",
    "    \\begin{array}{c}\n",
    "      3 \\\\\n",
    "      1 \\\\\n",
    "      2 \\\\\n",
    "      -1\\\\\n",
    "    \\end{array}\n",
    "  \\right].\n",
    "\\end{equation*}"
   ]
  },
  {
   "cell_type": "code",
   "execution_count": 1,
   "metadata": {
    "collapsed": false
   },
   "outputs": [
    {
     "data": {
      "text/plain": [
       "Matrix([\n",
       "[24/17],\n",
       "[-8/17]])"
      ]
     },
     "execution_count": 1,
     "metadata": {},
     "output_type": "execute_result"
    }
   ],
   "source": [
    "from sympy import *\n",
    "\n",
    "A = Matrix([[2, 1], [1, 0], [0, -1], [-1, 1]]);\n",
    "b = Matrix([3, 1, 2, -1]);\n",
    "\n",
    "A.LDLsolve(b)"
   ]
  },
  {
   "cell_type": "markdown",
   "metadata": {},
   "source": [
    "Least square problems often arise in constructing a mathematical model from discrete data."
   ]
  },
  {
   "cell_type": "markdown",
   "metadata": {},
   "source": [
    "### Example 2"
   ]
  },
  {
   "cell_type": "markdown",
   "metadata": {},
   "source": [
    "The following data shows U.S. per capita health care expenditures\n",
    "\n",
    "Year | Per Capita Expenditures (in \\$) \n",
    "-----|------\n",
    "1960    | $\\qquad\\qquad$ 143    \n",
    "1970    | $\\qquad\\qquad$ 348    \n",
    "1980    | $\\qquad\\qquad$ 1,067  \n",
    "1990    | $\\qquad\\qquad$ 2,738\n",
    "1995    | $\\qquad\\qquad$ 3,698 \n",
    "2000    | $\\qquad\\qquad$ 4,560\n",
    "\n",
    "- Determine the line of best fit to the given data.\n",
    "- Predict the per capita expenditure for the year 2005, 2010, and 2015."
   ]
  },
  {
   "cell_type": "code",
   "execution_count": 2,
   "metadata": {
    "collapsed": false
   },
   "outputs": [
    {
     "data": {
      "text/plain": [
       "(14026/3, 15748/3, 17470/3)"
      ]
     },
     "execution_count": 2,
     "metadata": {},
     "output_type": "execute_result"
    }
   ],
   "source": [
    "from sympy import *\n",
    "import numpy as np\n",
    "import matplotlib.pyplot as plt\n",
    "\n",
    "A = Matrix([[1960, 1], [1970, 1], [1980, 1], [1990, 1], [1995, 1], [2000, 1]]);\n",
    "b = Matrix([143, 348, 1067, 2738, 3698, 4560]);\n",
    "linePara = A.LDLsolve(b);\n",
    "\n",
    "plt.xlabel('Year');\n",
    "plt.ylabel('Per Capita Expenditures (in $)');\n",
    "plt.title('U.S. per capita health care expenditures');\n",
    "plt.plot(A[:,0], b, 'o', label = 'Data');\n",
    "x = np.linspace(1950, 2030, 1000);\n",
    "y = x * linePara[0] + linePara[1];\n",
    "plt.plot(x, y, label = 'Prediction');\n",
    "plt.legend();\n",
    "plt.show()\n",
    "\n",
    "2005*linePara[0] + linePara[1], 2010*linePara[0] + linePara[1], 2015*linePara[0] + linePara[1]"
   ]
  }
 ],
 "metadata": {
  "kernelspec": {
   "display_name": "Python 3",
   "language": "python",
   "name": "python3"
  },
  "language_info": {
   "codemirror_mode": {
    "name": "ipython",
    "version": 3
   },
   "file_extension": ".py",
   "mimetype": "text/x-python",
   "name": "python",
   "nbconvert_exporter": "python",
   "pygments_lexer": "ipython3",
   "version": "3.4.4"
  }
 },
 "nbformat": 4,
 "nbformat_minor": 0
}
