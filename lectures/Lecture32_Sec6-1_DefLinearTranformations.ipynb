{
 "cells": [
  {
   "cell_type": "markdown",
   "metadata": {},
   "source": [
    "# Section 6.1 $\\quad$ Linear Transformation"
   ]
  },
  {
   "cell_type": "markdown",
   "metadata": {},
   "source": [
    ">**Definition** Let $V$ and $W$ be vector spaces. A function $L:V\\to W$ is called a $\\underline{\\hspace{2in}}$ of $V$ to $W$ if\n",
    "- \n",
    "- "
   ]
  },
  {
   "cell_type": "markdown",
   "metadata": {},
   "source": [
    "### Example 1"
   ]
  },
  {
   "cell_type": "markdown",
   "metadata": {},
   "source": [
    "Let $A$ be an $m\\times n$ matrix. Define a function $L:\\mathbb{R}^n \\to \\mathbb{R}^m$ by $L(\\mathbf{u}) = A\\mathbf{u}$. Show that $L$ is a linear transformation.\n",
    "<br /><br /><br /><br /><br /><br /><br />"
   ]
  },
  {
   "cell_type": "markdown",
   "metadata": {},
   "source": [
    "**Remark:** Every matrix transformation is a linear transformation. In particular,\n",
    "- **Reflection (w.r.t. $x$-axis):**\n",
    "- **Projection (into $xy$-plane):**\n",
    "- **Dilation:**\n",
    "- **Contraction:**\n",
    "- **Rotation (counterclockwise through an angle $\\phi$):**"
   ]
  },
  {
   "cell_type": "markdown",
   "metadata": {},
   "source": [
    "### Example 2"
   ]
  },
  {
   "cell_type": "markdown",
   "metadata": {},
   "source": [
    "Determine whether $L:\\mathbb{R}^3 \\to \\mathbb{R}^3$ defined by\n",
    "\\begin{equation*}\n",
    "  L\n",
    "  \\left(\\left[\n",
    "    \\begin{array}{c}\n",
    "      u_1 \\\\\n",
    "      u_2 \\\\\n",
    "      u_3 \\\\\n",
    "    \\end{array}\n",
    "  \\right]\\right) =\n",
    "  \\left[\n",
    "    \\begin{array}{c}\n",
    "      u_1+1 \\\\\n",
    "      2u_2 \\\\\n",
    "      u_3 \\\\\n",
    "    \\end{array}\n",
    "  \\right]\n",
    "\\end{equation*}\n",
    "is a linear transformation.<br /><br /><br /><br /><br /><br /><br />"
   ]
  },
  {
   "cell_type": "markdown",
   "metadata": {},
   "source": [
    "### Example 3"
   ]
  },
  {
   "cell_type": "markdown",
   "metadata": {},
   "source": [
    "Let $L:\\mathbb{R}_2 \\to \\mathbb{R}_2$ be defined by\n",
    "\\begin{equation*}\n",
    "  L([u_1~~u_2]) = [u_1^2~~2u_2]\n",
    "\\end{equation*}\n",
    "Is $L$ a linear transformation?<br /><br /><br /><br /><br /><br /><br />"
   ]
  },
  {
   "cell_type": "markdown",
   "metadata": {},
   "source": [
    "### Example 4"
   ]
  },
  {
   "cell_type": "markdown",
   "metadata": {},
   "source": [
    "Let $L:\\mathbb{R}_4 \\to \\mathbb{R}_2$ be a linear transformation and let $S = \\{\\mathbf{v}_1, \\mathbf{v}_2, \\mathbf{v}_3, \\mathbf{v}_4\\}$ be a basis for $\\mathbb{R}_4$, where\n",
    "\\begin{equation*}\n",
    "  \\mathbf{v}_1 = [1~~0~~1~~0],\\quad\n",
    "  \\mathbf{v}_2 = [0~~1~~-1~~2],\\quad\n",
    "  \\mathbf{v}_3 = [0~~2~~2~~1],\\quad\n",
    "  \\mathbf{v}_4 = [1~~0~~0~~1].\n",
    "\\end{equation*}\n",
    "Suppose that\n",
    "\\begin{equation*}\n",
    "  L(\\mathbf{v}_1) = [1~~2],\\quad\n",
    "  L(\\mathbf{v}_2) = [0~~3],\\quad\n",
    "  L(\\mathbf{v}_3) = [0~~0],\\quad\n",
    "  L(\\mathbf{v}_4) = [2~~0].\n",
    "\\end{equation*}\n",
    "Let $\\mathbf{v} = [3~~-5~~-5~~0]$. Find $L(\\mathbf{v})$."
   ]
  },
  {
   "cell_type": "code",
   "execution_count": 1,
   "metadata": {
    "collapsed": false
   },
   "outputs": [
    {
     "data": {
      "text/plain": [
       "array([ 4.,  7.])"
      ]
     },
     "execution_count": 1,
     "metadata": {},
     "output_type": "execute_result"
    }
   ],
   "source": [
    "from numpy import *\n",
    "\n",
    "V = array([[1, 0, 1, 0], [0, 1, -1, 2], [0, 2, 2, 1], [1, 0, 0, 1]]).T;\n",
    "B = array([[1, 2], [0, 3], [0, 0], [2, 0]]).T;\n",
    "L = dot(B, linalg.inv(V));\n",
    "v = array([3, -5, -5, 0]);\n",
    "\n",
    "dot(L, v)"
   ]
  },
  {
   "cell_type": "markdown",
   "metadata": {},
   "source": [
    "Every linear transformation $L:\\mathbb{R}^n\\to \\mathbb{R}^m$ is associated with an $m\\times n$ matrix $A$."
   ]
  },
  {
   "cell_type": "markdown",
   "metadata": {},
   "source": [
    "**Question:** How to find the matrix $A$?"
   ]
  },
  {
   "cell_type": "markdown",
   "metadata": {},
   "source": [
    "Let $\\{\\mathbf{e}_1,\\mathbf{e}_2,\\cdots,\\mathbf{e}_n\\}$ be natural basis for $\\mathbb{R}^n$.<br /><br /><br /><br />"
   ]
  },
  {
   "cell_type": "markdown",
   "metadata": {},
   "source": [
    "### Example 5"
   ]
  },
  {
   "cell_type": "markdown",
   "metadata": {},
   "source": [
    "Let $L:\\mathbb{R}^3 \\to \\mathbb{R}^2$ be the linear transformation defined by\n",
    "\\begin{equation*}\n",
    "  L\n",
    "  \\left(\\left[\n",
    "    \\begin{array}{c}\n",
    "      x_1 \\\\\n",
    "      x_2 \\\\\n",
    "      x_3 \\\\\n",
    "    \\end{array}\n",
    "  \\right]\\right) =\n",
    "  \\left[\n",
    "    \\begin{array}{c}\n",
    "      x_1+2x_2 \\\\\n",
    "      3x_2-2x_3 \\\\\n",
    "    \\end{array}\n",
    "  \\right]\n",
    "\\end{equation*}\n",
    "Find the standard matrix representing $L$.<br /><br /><br /><br /><br /><br /><br />"
   ]
  }
 ],
 "metadata": {
  "kernelspec": {
   "display_name": "Python 3",
   "language": "python",
   "name": "python3"
  },
  "language_info": {
   "codemirror_mode": {
    "name": "ipython",
    "version": 3
   },
   "file_extension": ".py",
   "mimetype": "text/x-python",
   "name": "python",
   "nbconvert_exporter": "python",
   "pygments_lexer": "ipython3",
   "version": "3.4.4"
  }
 },
 "nbformat": 4,
 "nbformat_minor": 0
}
