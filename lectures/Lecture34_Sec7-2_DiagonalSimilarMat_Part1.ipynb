{
 "cells": [
  {
   "cell_type": "markdown",
   "metadata": {},
   "source": [
    "# Section 7.2 $\\quad$ Diagonalization and Similar Matrices"
   ]
  },
  {
   "cell_type": "markdown",
   "metadata": {},
   "source": [
    ">**Definition** If $A$ and $B$ are $n\\times n$ matrices, we say that $B$ is **similar** to $A$ if<br /><br /><br /><br />"
   ]
  },
  {
   "cell_type": "markdown",
   "metadata": {},
   "source": [
    "In many situations, we need to compute powers of a matrix $A$.<br /><br /><br /><br />"
   ]
  },
  {
   "cell_type": "markdown",
   "metadata": {},
   "source": [
    ">**Theorem** Similar matrices<br /><br /><br /><br />"
   ]
  },
  {
   "cell_type": "markdown",
   "metadata": {},
   "source": [
    "**Proof** <br /><br /><br /><br /><br /><br /><br />"
   ]
  },
  {
   "cell_type": "markdown",
   "metadata": {},
   "source": [
    ">**Definition** If a matrix $A$ is similar to a diagonal matrix, we say<br /><br /><br /><br />"
   ]
  },
  {
   "cell_type": "markdown",
   "metadata": {},
   "source": [
    "**Remark:** An $n\\times n$ matrix $A$ is diagonalizable if and only if<br /><br /><br /><br />"
   ]
  },
  {
   "cell_type": "markdown",
   "metadata": {},
   "source": [
    "### Example 1"
   ]
  },
  {
   "cell_type": "markdown",
   "metadata": {},
   "source": [
    "Are the following matrices diagonalizable?\n",
    "\\begin{equation*}\n",
    "  A = \\left[\n",
    "        \\begin{array}{cc}\n",
    "          1 & 1 \\\\\n",
    "          -2 & 4 \\\\\n",
    "        \\end{array}\n",
    "      \\right],~~~~~\n",
    "  B = \\left[\n",
    "        \\begin{array}{cc}\n",
    "          1 & 1 \\\\\n",
    "          0 & 1 \\\\\n",
    "        \\end{array}\n",
    "      \\right]\n",
    "\\end{equation*}"
   ]
  },
  {
   "cell_type": "code",
   "execution_count": 1,
   "metadata": {
    "collapsed": false
   },
   "outputs": [
    {
     "data": {
      "text/plain": [
       "(True, False)"
      ]
     },
     "execution_count": 1,
     "metadata": {},
     "output_type": "execute_result"
    }
   ],
   "source": [
    "from sympy import *\n",
    "\n",
    "A = Matrix([[1, 1], [-2, 4]]);\n",
    "B = Matrix([[1, 1], [0, 1]]);\n",
    "\n",
    "A.is_diagonalizable(), B.is_diagonalizable()"
   ]
  },
  {
   "cell_type": "markdown",
   "metadata": {},
   "source": [
    "If $A$ is similar to a diagonal matrix $D$, then $P^{-1}AP=D$ for some nonsingular matrix $P$."
   ]
  },
  {
   "cell_type": "markdown",
   "metadata": {},
   "source": [
    "**Question:** How to construct $P$?<br /><br /><br /><br /><br /><br /><br />"
   ]
  },
  {
   "cell_type": "markdown",
   "metadata": {},
   "source": [
    "### Example 2"
   ]
  },
  {
   "cell_type": "markdown",
   "metadata": {},
   "source": [
    "Let $A= \\left[\n",
    "        \\begin{array}{cc}\n",
    "          1 & 1 \\\\\n",
    "          -2 & 4 \\\\\n",
    "        \\end{array}\n",
    "      \\right]$ (the same matrix in Example 1). Find a matrix $P$ such that $P^{-1}AP=D$."
   ]
  },
  {
   "cell_type": "code",
   "execution_count": 2,
   "metadata": {
    "collapsed": false
   },
   "outputs": [
    {
     "data": {
      "text/plain": [
       "(Matrix([\n",
       " [1, 1],\n",
       " [1, 2]]), Matrix([\n",
       " [2, 0],\n",
       " [0, 3]]))"
      ]
     },
     "execution_count": 2,
     "metadata": {},
     "output_type": "execute_result"
    }
   ],
   "source": [
    "from sympy import *\n",
    "\n",
    "A = Matrix([[1, 1], [-2, 4]]);\n",
    "\n",
    "A.diagonalize()"
   ]
  }
 ],
 "metadata": {
  "kernelspec": {
   "display_name": "Python 3",
   "language": "python",
   "name": "python3"
  },
  "language_info": {
   "codemirror_mode": {
    "name": "ipython",
    "version": 3
   },
   "file_extension": ".py",
   "mimetype": "text/x-python",
   "name": "python",
   "nbconvert_exporter": "python",
   "pygments_lexer": "ipython3",
   "version": "3.4.4"
  }
 },
 "nbformat": 4,
 "nbformat_minor": 0
}
