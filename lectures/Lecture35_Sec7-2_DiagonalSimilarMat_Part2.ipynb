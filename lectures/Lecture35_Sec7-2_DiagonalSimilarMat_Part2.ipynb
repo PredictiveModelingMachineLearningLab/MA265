{
 "cells": [
  {
   "cell_type": "markdown",
   "metadata": {},
   "source": [
    "# Section 7.2 $\\quad$ Diagonalization and Similar Matrices (contd)"
   ]
  },
  {
   "cell_type": "markdown",
   "metadata": {},
   "source": [
    "**Recall**\n",
    "- We say $A$ and $B$ are similar if <br /><br />\n",
    "- We say $A$ is diagonalizable if <br /><br />\n",
    "- An $n\\times n$ matrix $A$ is diagonalizable if and only if <br /><br />\n",
    "- If $D = P^{-1}AP$, how to find $D$ and $P$? <br /><br />"
   ]
  },
  {
   "cell_type": "markdown",
   "metadata": {},
   "source": [
    "### Example 1"
   ]
  },
  {
   "cell_type": "markdown",
   "metadata": {},
   "source": [
    "Find a nonsingular matrix $P$ such that $P^{-1}AP$ is a diagonal matrix.\n",
    "\\begin{equation*}\n",
    "  A = \\left[\n",
    "        \\begin{array}{ccc}\n",
    "          1 & 2 & 3\\\\\n",
    "          0 & 1 & 0\\\\\n",
    "          2 & 1 & 2\\\\\n",
    "        \\end{array}\n",
    "      \\right]\n",
    "\\end{equation*}"
   ]
  },
  {
   "cell_type": "code",
   "execution_count": 1,
   "metadata": {
    "collapsed": false
   },
   "outputs": [
    {
     "data": {
      "text/plain": [
       "(Matrix([\n",
       " [-3,  1, 1],\n",
       " [ 0, -6, 0],\n",
       " [ 2,  4, 1]]), Matrix([\n",
       " [-1, 0, 0],\n",
       " [ 0, 1, 0],\n",
       " [ 0, 0, 4]]))"
      ]
     },
     "execution_count": 1,
     "metadata": {},
     "output_type": "execute_result"
    }
   ],
   "source": [
    "from sympy import *\n",
    "\n",
    "A = Matrix([[1, 2, 3], [0, 1, 0], [2, 1, 2]]);\n",
    "\n",
    "A.diagonalize()"
   ]
  },
  {
   "cell_type": "markdown",
   "metadata": {},
   "source": [
    "If an $n\\times n$ matrix $A$ has $n$ distinct eigenvalues,<br /><br /><br /><br />"
   ]
  },
  {
   "cell_type": "markdown",
   "metadata": {},
   "source": [
    "If all roots of the characteristic polynomial of $A$ are not all distinct,<br /><br /><br /><br />"
   ]
  },
  {
   "cell_type": "markdown",
   "metadata": {},
   "source": [
    "### Example 2"
   ]
  },
  {
   "cell_type": "markdown",
   "metadata": {},
   "source": [
    "Determine if the matrix $A$ is diagonalizable, where\n",
    "\\begin{equation*}\n",
    "  A = \\left[\n",
    "        \\begin{array}{ccc}\n",
    "          0 & 0 & 1\\\\\n",
    "          0 & 1 & 2\\\\\n",
    "          0 & 0 & 1\\\\\n",
    "        \\end{array}\n",
    "      \\right]\n",
    "\\end{equation*}"
   ]
  },
  {
   "cell_type": "code",
   "execution_count": 2,
   "metadata": {
    "collapsed": false
   },
   "outputs": [
    {
     "data": {
      "text/plain": [
       "False"
      ]
     },
     "execution_count": 2,
     "metadata": {},
     "output_type": "execute_result"
    }
   ],
   "source": [
    "from sympy import *\n",
    "\n",
    "A = Matrix([[0, 0, 1], [0, 1, 2], [0, 0, 1]]);\n",
    "\n",
    "A.is_diagonalizable()"
   ]
  },
  {
   "cell_type": "markdown",
   "metadata": {},
   "source": [
    "### Example 3"
   ]
  },
  {
   "cell_type": "markdown",
   "metadata": {},
   "source": [
    "Determine if the matrix $A$ is diagonalizable, where\n",
    "\\begin{equation*}\n",
    "  A = \\left[\n",
    "        \\begin{array}{ccc}\n",
    "          0 & 0 & 0\\\\\n",
    "          0 & 1 & 0\\\\\n",
    "          1 & 0 & 1\\\\\n",
    "        \\end{array}\n",
    "      \\right]\n",
    "\\end{equation*}"
   ]
  },
  {
   "cell_type": "code",
   "execution_count": 3,
   "metadata": {
    "collapsed": false
   },
   "outputs": [
    {
     "data": {
      "text/plain": [
       "True"
      ]
     },
     "execution_count": 3,
     "metadata": {},
     "output_type": "execute_result"
    }
   ],
   "source": [
    "from sympy import *\n",
    "\n",
    "A = Matrix([[0, 0, 0], [0, 1, 0], [1, 0, 1]]);\n",
    "\n",
    "A.is_diagonalizable()"
   ]
  }
 ],
 "metadata": {
  "kernelspec": {
   "display_name": "Python 3",
   "language": "python",
   "name": "python3"
  },
  "language_info": {
   "codemirror_mode": {
    "name": "ipython",
    "version": 3
   },
   "file_extension": ".py",
   "mimetype": "text/x-python",
   "name": "python",
   "nbconvert_exporter": "python",
   "pygments_lexer": "ipython3",
   "version": "3.4.4"
  }
 },
 "nbformat": 4,
 "nbformat_minor": 0
}
