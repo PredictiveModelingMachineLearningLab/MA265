{
 "cells": [
  {
   "cell_type": "markdown",
   "metadata": {},
   "source": [
    "# Appendix B.1 $\\quad$ Complex Numbers"
   ]
  },
  {
   "cell_type": "markdown",
   "metadata": {},
   "source": [
    "A **complex number** $c$ is of the form $\\underline{\\hspace{1in}}$, where\n",
    "- <br /><br />\n",
    "- <br /><br />\n",
    "- <br /><br />"
   ]
  },
  {
   "cell_type": "markdown",
   "metadata": {},
   "source": [
    "### Example 1"
   ]
  },
  {
   "cell_type": "markdown",
   "metadata": {},
   "source": [
    "For symbol $i = \\sqrt{-1}$, we have the following:\n",
    "\\begin{equation*}\n",
    "  i^2 = ~~~~~~~~~i^3 = ~~~~~~~~~i^4 = ~~~~~~~~~i^5 = ~~~~~~~~~i^6 = ~~~~~~~~~i^7 = ~~~~~~~~~\n",
    "\\end{equation*}"
   ]
  },
  {
   "cell_type": "code",
   "execution_count": 1,
   "metadata": {
    "collapsed": false
   },
   "outputs": [
    {
     "data": {
      "text/plain": [
       "((-1+0j), (-0-1j), (1+0j), 1j, (-1+0j), (-0-1j))"
      ]
     },
     "execution_count": 1,
     "metadata": {},
     "output_type": "execute_result"
    }
   ],
   "source": [
    "1j**2, 1j**3, 1j**4, 1j**5, 1j**6, 1j**7"
   ]
  },
  {
   "cell_type": "markdown",
   "metadata": {},
   "source": [
    "## Operations"
   ]
  },
  {
   "cell_type": "markdown",
   "metadata": {},
   "source": [
    "Let $c_1 = a_1+b_1i$ and $c_2 = a_2+b_2i$ be complex numbers.\n",
    "- $c_1+c_2 = $<br /><br />\n",
    "- $c_1-c_2 = $<br /><br />\n",
    "- $c_1c_2 = $<br /><br />"
   ]
  },
  {
   "cell_type": "markdown",
   "metadata": {},
   "source": [
    "If $c = a+bi$ is a complex number, then the **conjugate** of $c$ is\n",
    "- $\\bar{\\bar{c}} = $ <br /><br />\n",
    "- $\\overline{c_1+c_2} = $ <br /><br />\n",
    "- $\\overline{c_1c_2} = $ <br /><br />\n",
    "- if $\\overline{c} = c$, then <br /><br />\n",
    "- $c\\bar{c} = $ <br /><br />"
   ]
  },
  {
   "cell_type": "markdown",
   "metadata": {},
   "source": [
    "If $c_1 = a_1+b_1i$ and $c_2 = a_2+b_2i$ , then <br /><br />\n",
    "$\\dfrac{c_1}{c_2} = $"
   ]
  },
  {
   "cell_type": "markdown",
   "metadata": {},
   "source": [
    "### Example 2"
   ]
  },
  {
   "cell_type": "markdown",
   "metadata": {},
   "source": [
    "Let $c_1 = 2-5i$, $c_2 = -3+4i$.\n",
    "\\begin{equation*}\n",
    "  c_1 + c_2 = \\hspace{4in}\n",
    "\\end{equation*}\n",
    "\\begin{equation*}\n",
    "  c_1 - c_2 = \\hspace{4in}\n",
    "\\end{equation*}\n",
    "\n",
    "\\begin{equation*}\n",
    "  c_1 c_2 = \\hspace{4in}\n",
    "\\end{equation*}\n",
    "\n",
    "\\begin{equation*}\n",
    "  \\frac{c_1}{c_2}= \\hspace{4in}\n",
    "\\end{equation*}"
   ]
  },
  {
   "cell_type": "code",
   "execution_count": 2,
   "metadata": {
    "collapsed": false
   },
   "outputs": [
    {
     "data": {
      "text/plain": [
       "((-1-1j), (5-9j), (14+23j), (-1.04+0.28j))"
      ]
     },
     "execution_count": 2,
     "metadata": {},
     "output_type": "execute_result"
    }
   ],
   "source": [
    "c1 = 2 - 5j; c2 = -3 + 4j;\n",
    "\n",
    "c1 + c2, c1 - c2, c1 * c2, c1 / c2"
   ]
  },
  {
   "cell_type": "markdown",
   "metadata": {},
   "source": [
    "### Example 3"
   ]
  },
  {
   "cell_type": "markdown",
   "metadata": {},
   "source": [
    "Find the value of following quantities\n",
    "\\begin{equation*}\n",
    "  \\frac{1}{2+3i} = \\hspace{4in}\n",
    "\\end{equation*}\n",
    "<br /><br /><br /><br />\n",
    "\\begin{equation*}\n",
    "  \\frac{1}{i} =\\hspace{4in}\n",
    "\\end{equation*}\n",
    "<br /><br /><br /><br />"
   ]
  },
  {
   "cell_type": "code",
   "execution_count": 3,
   "metadata": {
    "collapsed": false
   },
   "outputs": [
    {
     "data": {
      "text/plain": [
       "((0.15384615384615385-0.23076923076923078j), -1j)"
      ]
     },
     "execution_count": 3,
     "metadata": {},
     "output_type": "execute_result"
    }
   ],
   "source": [
    "1 / (2 + 3j), 1 / 1j"
   ]
  },
  {
   "cell_type": "markdown",
   "metadata": {},
   "source": [
    "The **absolute value** or **modulus** of a complex number $c = a+bi$ is <br /><br /><br /><br />"
   ]
  },
  {
   "cell_type": "markdown",
   "metadata": {},
   "source": [
    "**Remark:** $c\\bar{c} = $ <br /><br /><br /><br />"
   ]
  },
  {
   "cell_type": "markdown",
   "metadata": {},
   "source": [
    "## Matrices with Complex Entries"
   ]
  },
  {
   "cell_type": "markdown",
   "metadata": {},
   "source": [
    "### Example 4"
   ]
  },
  {
   "cell_type": "markdown",
   "metadata": {},
   "source": [
    "Let\n",
    "\\begin{equation*}\n",
    "  A = \\left[\n",
    "        \\begin{array}{cc}\n",
    "          4+i & -2+3i\\\\\n",
    "          6+4i & -3i \\\\\n",
    "        \\end{array}\n",
    "      \\right]\\quad\n",
    "  B = \\left[\n",
    "        \\begin{array}{cc}\n",
    "          2-i & 3-4i\\\\\n",
    "          5+2i & -7+5i \\\\\n",
    "        \\end{array}\n",
    "      \\right]\\quad\n",
    "  C = \\left[\n",
    "        \\begin{array}{cc}\n",
    "          1+2i & i\\\\\n",
    "          3-4i & 8 \\\\\n",
    "          4+2i & 1-i\\\\\n",
    "        \\end{array}\n",
    "      \\right]\n",
    "\\end{equation*}\n",
    "Find $A+B$, $CA$, and $(2+i)B$."
   ]
  },
  {
   "cell_type": "code",
   "execution_count": 4,
   "metadata": {
    "collapsed": false
   },
   "outputs": [
    {
     "data": {
      "text/plain": [
       "(Matrix([\n",
       " [         6.0,  1.0 - 1.0*I],\n",
       " [11.0 + 6.0*I, -7.0 + 2.0*I]]), Matrix([\n",
       " [        1.0*I*(6.0 + 4.0*I) + (1.0 + 2.0*I)*(4.0 + 1.0*I),                  3.0 + (-2.0 + 3.0*I)*(1.0 + 2.0*I)],\n",
       " [              48.0 + (3.0 - 4.0*I)*(4.0 + 1.0*I) + 32.0*I,              -24.0*I + (-2.0 + 3.0*I)*(3.0 - 4.0*I)],\n",
       " [(1.0 - 1.0*I)*(6.0 + 4.0*I) + (4.0 + 1.0*I)*(4.0 + 2.0*I), -3.0*I*(1.0 - 1.0*I) + (-2.0 + 3.0*I)*(4.0 + 2.0*I)]]), Matrix([\n",
       " [(2.0 - 1.0*I)*(2.0 + 1.0*I),  (2.0 + 1.0*I)*(3.0 - 4.0*I)],\n",
       " [(2.0 + 1.0*I)*(5.0 + 2.0*I), (-7.0 + 5.0*I)*(2.0 + 1.0*I)]]))"
      ]
     },
     "execution_count": 4,
     "metadata": {},
     "output_type": "execute_result"
    }
   ],
   "source": [
    "from sympy import *\n",
    "\n",
    "A = Matrix([[4+1j, -2+3j], [6+4j, -3j]]);\n",
    "B = Matrix([[2-1j, 3-4j], [5+2j, -7+5j]]);\n",
    "C = Matrix([[1+2j, 1j], [3-4j, 8], [4+2j, 1-1j]]);\n",
    "\n",
    "A + B, C.multiply(A), (2+1j) * B"
   ]
  },
  {
   "cell_type": "markdown",
   "metadata": {},
   "source": [
    "If $A = [a_{ij}]$, then the **conjugate** of $A$ is <br /><br />"
   ]
  },
  {
   "cell_type": "markdown",
   "metadata": {},
   "source": [
    "## Properties of Conjugate of a Matrix"
   ]
  },
  {
   "cell_type": "markdown",
   "metadata": {},
   "source": [
    "- $\\overline{\\overline{A}}=$<br /><br />\n",
    "- $\\overline{A+B}=$<br /><br />\n",
    "- $\\overline{AB}=$<br /><br />\n",
    "- For any complex number $c$, $\\overline{cA}=$<br /><br />\n",
    "- $(\\overline{A})^T=$<br /><br />"
   ]
  },
  {
   "cell_type": "markdown",
   "metadata": {},
   "source": [
    "An $n\\times n$ complex matrix $A$ is called **Hermitian** if<br /><br />"
   ]
  },
  {
   "cell_type": "markdown",
   "metadata": {},
   "source": [
    "For example,\n",
    "$A = \\left[\n",
    "        \\begin{array}{cc}\n",
    "          2 & 3+i\\\\\n",
    "          3-i & 5 \\\\\n",
    "        \\end{array}\n",
    "      \\right]$<br /><br />"
   ]
  }
 ],
 "metadata": {
  "kernelspec": {
   "display_name": "Python 3",
   "language": "python",
   "name": "python3"
  },
  "language_info": {
   "codemirror_mode": {
    "name": "ipython",
    "version": 3
   },
   "file_extension": ".py",
   "mimetype": "text/x-python",
   "name": "python",
   "nbconvert_exporter": "python",
   "pygments_lexer": "ipython3",
   "version": "3.4.4"
  }
 },
 "nbformat": 4,
 "nbformat_minor": 0
}
