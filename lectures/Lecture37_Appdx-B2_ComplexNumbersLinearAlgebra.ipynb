{
 "cells": [
  {
   "cell_type": "markdown",
   "metadata": {},
   "source": [
    "# Appendix B.2 $\\quad$ Complex Numbers in Linear Algebra"
   ]
  },
  {
   "cell_type": "markdown",
   "metadata": {},
   "source": [
    "### Example 1"
   ]
  },
  {
   "cell_type": "markdown",
   "metadata": {},
   "source": [
    "Solve the following linear system\n",
    "\\begin{eqnarray*}\n",
    "% \\nonumber to remove numbering (before each equation)\n",
    "  (1+i)x_1 + (2+i)x_2 &=& 5, \\\\\n",
    "  (2-2i)x_1 +ix_2 &=& 1+2i.\n",
    "\\end{eqnarray*}"
   ]
  },
  {
   "cell_type": "code",
   "execution_count": 1,
   "metadata": {
    "collapsed": false
   },
   "outputs": [
    {
     "data": {
      "text/plain": [
       "{x2: 2.0 - 1.0*I, x1: 0.0}"
      ]
     },
     "execution_count": 1,
     "metadata": {},
     "output_type": "execute_result"
    }
   ],
   "source": [
    "from sympy import *\n",
    "\n",
    "x1, x2 = symbols('x1 x2');\n",
    "Eq1 = (1+1j)*x1 + (2+1j)*x2 - 5;\n",
    "Eq2 = (2-2j)*x1 + 1j*x2 - (1+2j);\n",
    "\n",
    "solve([Eq1, Eq2], (x1, x2))"
   ]
  },
  {
   "cell_type": "markdown",
   "metadata": {},
   "source": [
    "### Example 2"
   ]
  },
  {
   "cell_type": "markdown",
   "metadata": {},
   "source": [
    "Find the determinant of the coefficient matrix in Example 1."
   ]
  },
  {
   "cell_type": "code",
   "execution_count": 2,
   "metadata": {
    "collapsed": false
   },
   "outputs": [
    {
     "data": {
      "text/plain": [
       "-7.0 + 3.0*I"
      ]
     },
     "execution_count": 2,
     "metadata": {},
     "output_type": "execute_result"
    }
   ],
   "source": [
    "from sympy import *\n",
    "\n",
    "A = Matrix([[1+1j, 2+1j], [2-2j, 1j]]);\n",
    "\n",
    "A.det()"
   ]
  },
  {
   "cell_type": "markdown",
   "metadata": {},
   "source": [
    "### Example 3"
   ]
  },
  {
   "cell_type": "markdown",
   "metadata": {},
   "source": [
    "Find the eigenvalues and eigenvector of\n",
    "\\begin{equation*}\n",
    "  A =\n",
    "  \\left[\n",
    "    \\begin{array}{cc}\n",
    "      1 & 1 \\\\\n",
    "      -1 & 1 \\\\\n",
    "    \\end{array}\n",
    "  \\right]\n",
    "\\end{equation*}"
   ]
  },
  {
   "cell_type": "code",
   "execution_count": 3,
   "metadata": {
    "collapsed": false
   },
   "outputs": [
    {
     "data": {
      "text/plain": [
       "[(1 - I, 1, [Matrix([\n",
       "   [I],\n",
       "   [1]])]), (1 + I, 1, [Matrix([\n",
       "   [-I],\n",
       "   [ 1]])])]"
      ]
     },
     "execution_count": 3,
     "metadata": {},
     "output_type": "execute_result"
    }
   ],
   "source": [
    "from sympy import *\n",
    "\n",
    "A = Matrix([[1, 1], [-1, 1]]);\n",
    "\n",
    "A.eigenvects()"
   ]
  },
  {
   "cell_type": "markdown",
   "metadata": {},
   "source": [
    "### Example 4"
   ]
  },
  {
   "cell_type": "markdown",
   "metadata": {},
   "source": [
    "Find the eigenvalues and eigenvector of\n",
    "\\begin{equation*}\n",
    "  A = \\left[\n",
    "        \\begin{array}{ccc}\n",
    "          2 & 0 & 0\\\\\n",
    "          0 & 2 & i \\\\\n",
    "          0 & -i & 2\\\\\n",
    "        \\end{array}\n",
    "      \\right]\n",
    "\\end{equation*}"
   ]
  },
  {
   "cell_type": "code",
   "execution_count": 4,
   "metadata": {
    "collapsed": false
   },
   "outputs": [
    {
     "data": {
      "text/plain": [
       "[(1.00000000000000, 1, [Matrix([\n",
       "   [     0],\n",
       "   [-1.0*I],\n",
       "   [   1.0]])]), (2.00000000000000, 1, [Matrix([\n",
       "   [1.0],\n",
       "   [  0],\n",
       "   [  0]])]), (3.00000000000000, 1, [Matrix([\n",
       "   [    0],\n",
       "   [1.0*I],\n",
       "   [  1.0]])])]"
      ]
     },
     "execution_count": 4,
     "metadata": {},
     "output_type": "execute_result"
    }
   ],
   "source": [
    "from sympy import *\n",
    "\n",
    "A = Matrix([[2, 0, 0], [0, 2, 1j], [0, -1j, 2]]);\n",
    "\n",
    "A.eigenvects()"
   ]
  },
  {
   "cell_type": "markdown",
   "metadata": {},
   "source": [
    "**Remark:** If $A$ is a Hermitian matrix (i.e., $\\overline{A^T} = A$), then <br /><br /><br /><br />"
   ]
  }
 ],
 "metadata": {
  "kernelspec": {
   "display_name": "Python 3",
   "language": "python",
   "name": "python3"
  },
  "language_info": {
   "codemirror_mode": {
    "name": "ipython",
    "version": 3
   },
   "file_extension": ".py",
   "mimetype": "text/x-python",
   "name": "python",
   "nbconvert_exporter": "python",
   "pygments_lexer": "ipython3",
   "version": "3.4.4"
  }
 },
 "nbformat": 4,
 "nbformat_minor": 0
}
