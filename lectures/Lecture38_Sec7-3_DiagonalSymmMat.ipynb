{
 "cells": [
  {
   "cell_type": "markdown",
   "metadata": {},
   "source": [
    "# Section 7.3 $\\quad$ Diagonalization of Symmetric Matrices"
   ]
  },
  {
   "cell_type": "markdown",
   "metadata": {},
   "source": [
    "In this section, we consider diagonalization of symmetric matrices since they are easier to handle and they arise in many applications."
   ]
  },
  {
   "cell_type": "markdown",
   "metadata": {},
   "source": [
    "## Two Properties of Symmetric Matrices"
   ]
  },
  {
   "cell_type": "markdown",
   "metadata": {},
   "source": [
    "- All eigenvalues of a symmetric matrix are <br /><br />\n",
    "- Eigenvectors belonging to distinct eigenvalues are <br /><br />"
   ]
  },
  {
   "cell_type": "markdown",
   "metadata": {},
   "source": [
    "### Example 1"
   ]
  },
  {
   "cell_type": "markdown",
   "metadata": {},
   "source": [
    "Find eigenvalues and eigenvectors of the matrix\n",
    "\\begin{equation*}\n",
    "  A = \\left[\n",
    "        \\begin{array}{rrr}\n",
    "          0 & 0 & -2\\\\\n",
    "          0 & -2 & 0\\\\\n",
    "          -2& 0 & -3 \\\\\n",
    "        \\end{array}\n",
    "      \\right]\n",
    "\\end{equation*}"
   ]
  },
  {
   "cell_type": "code",
   "execution_count": 1,
   "metadata": {
    "collapsed": false
   },
   "outputs": [
    {
     "data": {
      "text/plain": [
       "[(-4, 1, [Matrix([\n",
       "   [1/2],\n",
       "   [  0],\n",
       "   [  1]])]), (-2, 1, [Matrix([\n",
       "   [0],\n",
       "   [1],\n",
       "   [0]])]), (1, 1, [Matrix([\n",
       "   [-2],\n",
       "   [ 0],\n",
       "   [ 1]])])]"
      ]
     },
     "execution_count": 1,
     "metadata": {},
     "output_type": "execute_result"
    }
   ],
   "source": [
    "from sympy import *\n",
    "\n",
    "A = Matrix([[0, 0, -2], [0, -2, 0], [-2, 0, -3]]);\n",
    "\n",
    "A.eigenvects()"
   ]
  },
  {
   "cell_type": "markdown",
   "metadata": {},
   "source": [
    "## Orthogonal Matrix"
   ]
  },
  {
   "cell_type": "markdown",
   "metadata": {},
   "source": [
    "Eigenvectors of a symmetric matrix is orthogonal; hence,<br /><br /><br /><br />"
   ]
  },
  {
   "cell_type": "markdown",
   "metadata": {},
   "source": [
    ">**Definition** A real square matrix $A$ is called $\\underline{\\hspace{1.5in}}$, if <br /><br /><br /><br />"
   ]
  },
  {
   "cell_type": "markdown",
   "metadata": {},
   "source": [
    "### Example 2"
   ]
  },
  {
   "cell_type": "markdown",
   "metadata": {},
   "source": [
    "Let $A$ be the matrix defined in Example 1. Find an orthogonal matrix $P$ such that $D=P^{-1}AP$."
   ]
  },
  {
   "cell_type": "code",
   "execution_count": 2,
   "metadata": {
    "collapsed": false
   },
   "outputs": [
    {
     "data": {
      "text/plain": [
       "Matrix([\n",
       "[  sqrt(5)/5, 0, -2*sqrt(5)/5],\n",
       "[          0, 1,            0],\n",
       "[2*sqrt(5)/5, 0,    sqrt(5)/5]])"
      ]
     },
     "execution_count": 2,
     "metadata": {},
     "output_type": "execute_result"
    }
   ],
   "source": [
    "from sympy import *\n",
    "\n",
    "A = Matrix([[0, 0, -2], [0, -2, 0], [-2, 0, -3]]);\n",
    "B = A.diagonalize()[0];\n",
    "\n",
    "B.QRdecomposition()[0]"
   ]
  },
  {
   "cell_type": "markdown",
   "metadata": {},
   "source": [
    "## Several Results Involving Orthogonal Matrices"
   ]
  },
  {
   "cell_type": "markdown",
   "metadata": {},
   "source": [
    "1. $A$ is orthogonal if and only if <br /><br />\n",
    "- If $A$ is an orthogonal matrix, $det(A) = $<br /><br />\n",
    "- If $A$ is a symmetric matrix,<br /><br />"
   ]
  },
  {
   "cell_type": "markdown",
   "metadata": {},
   "source": [
    "### Example 3"
   ]
  },
  {
   "cell_type": "markdown",
   "metadata": {},
   "source": [
    "Find an orthogonal matrix $P$ such that such that $D=P^{-1}AP$ where\n",
    "\\begin{equation*}\n",
    "  A = \\left[\n",
    "        \\begin{array}{rrr}\n",
    "          0 & 2 & 2\\\\\n",
    "          2 & 0 & 2\\\\\n",
    "          2 & 2 & 0 \\\\\n",
    "        \\end{array}\n",
    "      \\right]\n",
    "\\end{equation*}"
   ]
  },
  {
   "cell_type": "code",
   "execution_count": 3,
   "metadata": {
    "collapsed": false
   },
   "outputs": [
    {
     "data": {
      "text/plain": [
       "Matrix([\n",
       "[-sqrt(2)/2, -sqrt(6)/6, sqrt(3)/3],\n",
       "[ sqrt(2)/2, -sqrt(6)/6, sqrt(3)/3],\n",
       "[         0,  sqrt(6)/3, sqrt(3)/3]])"
      ]
     },
     "execution_count": 3,
     "metadata": {},
     "output_type": "execute_result"
    }
   ],
   "source": [
    "from sympy import *\n",
    "\n",
    "A = Matrix([[0, 2, 2], [2, 0, 2], [2, 2, 0]]);\n",
    "B = A.diagonalize()[0];\n",
    "\n",
    "B.QRdecomposition()[0]"
   ]
  }
 ],
 "metadata": {
  "kernelspec": {
   "display_name": "Python 3",
   "language": "python",
   "name": "python3"
  },
  "language_info": {
   "codemirror_mode": {
    "name": "ipython",
    "version": 3
   },
   "file_extension": ".py",
   "mimetype": "text/x-python",
   "name": "python",
   "nbconvert_exporter": "python",
   "pygments_lexer": "ipython3",
   "version": "3.4.4"
  }
 },
 "nbformat": 4,
 "nbformat_minor": 0
}
