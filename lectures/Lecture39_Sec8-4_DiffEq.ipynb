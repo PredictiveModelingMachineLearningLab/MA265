{
 "cells": [
  {
   "cell_type": "markdown",
   "metadata": {},
   "source": [
    "# Section 8.4 $\\quad$ Differential Equations"
   ]
  },
  {
   "cell_type": "markdown",
   "metadata": {},
   "source": [
    "In this section, we consider the first order differential equations."
   ]
  },
  {
   "cell_type": "markdown",
   "metadata": {},
   "source": [
    "A simple example of a differential equation is\n",
    "\\begin{equation*}\n",
    "  \\frac{d}{dt}x(t) = 2x(t).\n",
    "\\end{equation*}"
   ]
  },
  {
   "cell_type": "markdown",
   "metadata": {},
   "source": [
    "The first order homogeneous system of differential equations is\n",
    "\\begin{eqnarray*}\n",
    "% \\nonumber to remove numbering (before each equation)\n",
    "  x_1'(t) &=& a_{11}x_1(t) + a_{12}x_2(t) + \\cdots a_{1n}x_n(t) \\\\\n",
    "  x_2'(t) &=& a_{21}x_1(t) + a_{22}x_2(t) + \\cdots a_{2n}x_n(t) \\\\\n",
    "          & & \\vdots \\\\\n",
    "  x_2'(t) &=& a_{n1}x_1(t) + a_{n2}x_2(t) + \\cdots a_{nn}x_n(t)\n",
    "\\end{eqnarray*}"
   ]
  },
  {
   "cell_type": "markdown",
   "metadata": {},
   "source": [
    "### Example 1"
   ]
  },
  {
   "cell_type": "markdown",
   "metadata": {},
   "source": [
    "Find the solution of the following system of differential equations\n",
    "\\begin{equation*}\n",
    "  \\left[\n",
    "    \\begin{array}{c}\n",
    "      x_1' \\\\\n",
    "      x_2' \\\\\n",
    "      x_3' \\\\\n",
    "    \\end{array}\n",
    "  \\right] =\n",
    "  \\left[\n",
    "        \\begin{array}{rrr}\n",
    "          3 & 0 & 0\\\\\n",
    "          0 & -2 & 0\\\\\n",
    "          0 & 0 & 4 \\\\\n",
    "        \\end{array}\n",
    "      \\right]\n",
    "  \\left[\n",
    "    \\begin{array}{c}\n",
    "      x_1 \\\\\n",
    "      x_2 \\\\\n",
    "      x_3 \\\\\n",
    "    \\end{array}\n",
    "  \\right]\n",
    "\\end{equation*}"
   ]
  },
  {
   "cell_type": "code",
   "execution_count": 1,
   "metadata": {
    "collapsed": false
   },
   "outputs": [
    {
     "data": {
      "text/plain": [
       "[x1(t) == C1*exp(3*t), x2(t) == C2*exp(-2*t), x3(t) == C3*exp(4*t)]"
      ]
     },
     "execution_count": 1,
     "metadata": {},
     "output_type": "execute_result"
    }
   ],
   "source": [
    "from sympy import *\n",
    "\n",
    "t = symbols('t');\n",
    "x1 = Function('x1');\n",
    "x2 = Function('x2');\n",
    "x3 = Function('x3');\n",
    "eq1 = x1(t).diff(t) - 3*x1(t);\n",
    "eq2 = x2(t).diff(t) + 2*x2(t);\n",
    "eq3 = x3(t).diff(t) - 4*x3(t);\n",
    "\n",
    "dsolve([eq1, eq2, eq3])"
   ]
  },
  {
   "cell_type": "markdown",
   "metadata": {},
   "source": [
    "In general $A$ is not a diagonal matrix. Suppose that $A$ is diagonalizable."
   ]
  },
  {
   "cell_type": "markdown",
   "metadata": {},
   "source": [
    "### Example 2"
   ]
  },
  {
   "cell_type": "markdown",
   "metadata": {},
   "source": [
    "Find the solution of the following system of differential equations\n",
    "\\begin{equation*}\n",
    "  \\left[\n",
    "    \\begin{array}{c}\n",
    "      x_1' \\\\\n",
    "      x_2' \\\\\n",
    "      x_3' \\\\\n",
    "    \\end{array}\n",
    "  \\right] =\n",
    "  \\left[\n",
    "        \\begin{array}{rrr}\n",
    "          0 & 1 & 0\\\\\n",
    "          0 & 0 & 1\\\\\n",
    "          8 & -14 & 7 \\\\\n",
    "        \\end{array}\n",
    "      \\right]\n",
    "  \\left[\n",
    "    \\begin{array}{c}\n",
    "      x_1 \\\\\n",
    "      x_2 \\\\\n",
    "      x_3 \\\\\n",
    "    \\end{array}\n",
    "  \\right]\n",
    "\\end{equation*}"
   ]
  },
  {
   "cell_type": "code",
   "execution_count": 2,
   "metadata": {
    "collapsed": false
   },
   "outputs": [
    {
     "data": {
      "text/plain": [
       "[x1(t) == C1*exp(t) + C2*exp(2*t) + C3*exp(4*t),\n",
       " x2(t) == C1*exp(t) + 2*C2*exp(2*t) + 4*C3*exp(4*t),\n",
       " x3(t) == C1*exp(t) + 4*C2*exp(2*t) + 16*C3*exp(4*t)]"
      ]
     },
     "execution_count": 2,
     "metadata": {},
     "output_type": "execute_result"
    }
   ],
   "source": [
    "from sympy import *\n",
    "\n",
    "t = symbols('t');\n",
    "x1 = Function('x1');\n",
    "x2 = Function('x2');\n",
    "x3 = Function('x3');\n",
    "eq1 = x1(t).diff(t) - x2(t);\n",
    "eq2 = x2(t).diff(t) - x3(t);\n",
    "eq3 = x3(t).diff(t) - 8*x1(t) + 14*x2(t) - 7*x3(t);\n",
    "\n",
    "dsolve([eq1, eq2, eq3])"
   ]
  },
  {
   "cell_type": "markdown",
   "metadata": {},
   "source": [
    "### Example 3"
   ]
  },
  {
   "cell_type": "markdown",
   "metadata": {},
   "source": [
    "Find the solution of the following system of differential equations\n",
    "\\begin{equation*}\n",
    "  \\left[\n",
    "    \\begin{array}{c}\n",
    "      x_1' \\\\\n",
    "      x_2' \\\\\n",
    "      x_3' \\\\\n",
    "    \\end{array}\n",
    "  \\right] =\n",
    "  \\left[\n",
    "        \\begin{array}{rrr}\n",
    "          1 & 0 & 0\\\\\n",
    "          0 & 3 & -2\\\\\n",
    "          0 & -2 & 3 \\\\\n",
    "        \\end{array}\n",
    "      \\right]\n",
    "  \\left[\n",
    "    \\begin{array}{c}\n",
    "      x_1 \\\\\n",
    "      x_2 \\\\\n",
    "      x_3 \\\\\n",
    "    \\end{array}\n",
    "  \\right]\n",
    "\\end{equation*}"
   ]
  },
  {
   "cell_type": "code",
   "execution_count": 3,
   "metadata": {
    "collapsed": false
   },
   "outputs": [
    {
     "data": {
      "text/plain": [
       "[x1(t) == C1*exp(t) + C2*t*exp(t),\n",
       " x2(t) == C2*exp(t) - C3*exp(5*t),\n",
       " x3(t) == C2*exp(t) + C3*exp(5*t)]"
      ]
     },
     "execution_count": 3,
     "metadata": {},
     "output_type": "execute_result"
    }
   ],
   "source": [
    "from sympy import *\n",
    "\n",
    "t = symbols('t');\n",
    "x1 = Function('x1');\n",
    "x2 = Function('x2');\n",
    "x3 = Function('x3');\n",
    "eq1 = x1(t).diff(t) - x1(t);\n",
    "eq2 = x2(t).diff(t) - 3*x2(t) + 2*x3(t);\n",
    "eq3 = x3(t).diff(t) + 2*x2(t) - 3*x3(t);\n",
    "\n",
    "dsolve([eq1, eq2, eq3])"
   ]
  }
 ],
 "metadata": {
  "kernelspec": {
   "display_name": "Python 3",
   "language": "python",
   "name": "python3"
  },
  "language_info": {
   "codemirror_mode": {
    "name": "ipython",
    "version": 3
   },
   "file_extension": ".py",
   "mimetype": "text/x-python",
   "name": "python",
   "nbconvert_exporter": "python",
   "pygments_lexer": "ipython3",
   "version": "3.4.4"
  }
 },
 "nbformat": 4,
 "nbformat_minor": 0
}
