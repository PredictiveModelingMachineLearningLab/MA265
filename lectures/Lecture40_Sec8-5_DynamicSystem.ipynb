{
 "cells": [
  {
   "cell_type": "markdown",
   "metadata": {},
   "source": [
    "# Section 8.5 $\\quad$ Dynamic System"
   ]
  },
  {
   "cell_type": "markdown",
   "metadata": {},
   "source": [
    "Consider a $2\\times 2$  homogeneous system of differential equations\n",
    "\\begin{eqnarray*}\n",
    "% \\nonumber to remove numbering (before each equation)\n",
    "  \\frac{dx}{dt} &=& ax+by \\\\\n",
    "  \\frac{dy}{dt} &=& cx+dy \\\\\n",
    "\\end{eqnarray*}\n",
    "If the independent variable $t$ denotes time, then the above system is a **dynamic system**.\n",
    "- The solution $x = x(t)$ and $y=y(t)$ represents <br /><br />\n",
    "- The $xy$-plane is called <br /><br />\n",
    "- A sketch of trajectory in the phase plane is called a <br /><br />\n",
    "- $\\frac{dx}{dt}$, $\\frac{dy}{dt}$ represent velocity in $x$ and $y$ direction. A point in the phase plane at which both $\\frac{dx}{dt}$ and $\\frac{dy}{dt}$ are zero is called<br /><br />"
   ]
  },
  {
   "cell_type": "markdown",
   "metadata": {},
   "source": [
    "**Different Types of Equilibrium Points:** <br /><br /><br /><br /><br /><br /><br />\n",
    "**Stable** $\\hspace{2in}$ **Unstable** $\\hspace{2in}$ **Saddle Point**"
   ]
  },
  {
   "cell_type": "markdown",
   "metadata": {},
   "source": [
    "The coefficient matrix $A$ will determine features of the phase portraits of the system.<br /><br /><br /><br /><br /><br /><br />"
   ]
  },
  {
   "cell_type": "markdown",
   "metadata": {},
   "source": [
    "**Case 1:** $\\lambda_1 < 0$, $\\lambda_2 < 0$ <br /><br /><br /><br /><br /><br /><br />"
   ]
  },
  {
   "cell_type": "markdown",
   "metadata": {},
   "source": [
    "**Case 2:** $\\lambda_1 > 0$, $\\lambda_2 > 0$<br /><br /><br /><br /><br /><br /><br />"
   ]
  },
  {
   "cell_type": "markdown",
   "metadata": {},
   "source": [
    "**Case 3:** $\\lambda_1 < 0$, $\\lambda_2 > 0$<br /><br /><br /><br /><br /><br /><br />"
   ]
  },
  {
   "cell_type": "markdown",
   "metadata": {},
   "source": [
    "**Case 4:** $\\lambda_1,\\lambda_2$ are Complex Numbers<br /><br /><br /><br /><br /><br /><br />"
   ]
  },
  {
   "cell_type": "markdown",
   "metadata": {},
   "source": [
    "### Example 1"
   ]
  },
  {
   "cell_type": "markdown",
   "metadata": {},
   "source": [
    "Determine the phase portrait of the dynamic system:\n",
    "\\begin{equation*}\n",
    "  \\mathbf{x}'(t) =\n",
    "  \\left[\n",
    "        \\begin{array}{rr}\n",
    "          -2 & -2 \\\\\n",
    "          1 & -5 \\\\\n",
    "        \\end{array}\n",
    "      \\right]\n",
    "  \\mathbf{x}(t)\n",
    "\\end{equation*}"
   ]
  },
  {
   "cell_type": "code",
   "execution_count": 1,
   "metadata": {
    "collapsed": false
   },
   "outputs": [
    {
     "data": {
      "text/plain": [
       "[x1(t) == -2*C1*exp(-4*t) - 2*C2*exp(-3*t),\n",
       " x2(t) == -2*C1*exp(-4*t) - C2*exp(-3*t)]"
      ]
     },
     "execution_count": 1,
     "metadata": {},
     "output_type": "execute_result"
    }
   ],
   "source": [
    "from sympy import *\n",
    "\n",
    "t = symbols('t');\n",
    "x1 = Function('x1');\n",
    "x2 = Function('x2');\n",
    "eq1 = x1(t).diff(t) + 2*x1(t) + 2*x2(t);\n",
    "eq2 = x2(t).diff(t) - x1(t) + 5*x2(t);\n",
    "\n",
    "dsolve([eq1, eq2])"
   ]
  },
  {
   "cell_type": "code",
   "execution_count": 2,
   "metadata": {
    "collapsed": false
   },
   "outputs": [],
   "source": [
    "from scipy.integrate import odeint\n",
    "import numpy as np\n",
    "import matplotlib.pyplot as plt\n",
    "\n",
    "def F(x, t):\n",
    "    x1, x2 = x;\n",
    "    return np.array([-2*x1-2*x2, x1-5*x2]);\n",
    "\n",
    "for i in np.arange(100):\n",
    "    t = np.arange(0, 30, 0.01);\n",
    "    init = (np.cos(i), np.sin(i));\n",
    "    track = odeint(F, init, t);\n",
    "    plt.plot(track[:,0], track[:,1]);\n",
    "\n",
    "plt.show()"
   ]
  },
  {
   "cell_type": "markdown",
   "metadata": {},
   "source": [
    "### Example 2"
   ]
  },
  {
   "cell_type": "markdown",
   "metadata": {},
   "source": [
    "Determine the phase portrait of the dynamic system:\n",
    "\\begin{equation*}\n",
    "  \\mathbf{x}'(t) =\n",
    "  \\left[\n",
    "        \\begin{array}{rr}\n",
    "          1 & -1 \\\\\n",
    "          -2 & 0 \\\\\n",
    "        \\end{array}\n",
    "      \\right]\n",
    "  \\mathbf{x}(t)\n",
    "\\end{equation*}"
   ]
  },
  {
   "cell_type": "code",
   "execution_count": 3,
   "metadata": {
    "collapsed": false
   },
   "outputs": [
    {
     "data": {
      "text/plain": [
       "[x1(t) == -C1*exp(-t) - C2*exp(2*t), x2(t) == -2*C1*exp(-t) + C2*exp(2*t)]"
      ]
     },
     "execution_count": 3,
     "metadata": {},
     "output_type": "execute_result"
    }
   ],
   "source": [
    "from sympy import *\n",
    "\n",
    "t = symbols('t');\n",
    "x1 = Function('x1');\n",
    "x2 = Function('x2');\n",
    "eq1 = x1(t).diff(t) - x1(t) + x2(t);\n",
    "eq2 = x2(t).diff(t) + 2*x1(t);\n",
    "\n",
    "dsolve([eq1, eq2])"
   ]
  },
  {
   "cell_type": "code",
   "execution_count": 4,
   "metadata": {
    "collapsed": true
   },
   "outputs": [],
   "source": [
    "from scipy.integrate import odeint\n",
    "import numpy as np\n",
    "import matplotlib.pyplot as plt\n",
    "\n",
    "def F(x, t):\n",
    "    x1, x2 = x;\n",
    "    return np.array([x1-x2, -2*x1]);\n",
    "\n",
    "for i in np.arange(100):\n",
    "    t = np.arange(0, 1, 0.01);\n",
    "    init = (np.cos(i), np.sin(i));\n",
    "    track = odeint(F, init, t);\n",
    "    plt.plot(track[:,0], track[:,1]);\n",
    "\n",
    "plt.show()"
   ]
  }
 ],
 "metadata": {
  "kernelspec": {
   "display_name": "Python 3",
   "language": "python",
   "name": "python3"
  },
  "language_info": {
   "codemirror_mode": {
    "name": "ipython",
    "version": 3
   },
   "file_extension": ".py",
   "mimetype": "text/x-python",
   "name": "python",
   "nbconvert_exporter": "python",
   "pygments_lexer": "ipython3",
   "version": "3.4.4"
  }
 },
 "nbformat": 4,
 "nbformat_minor": 0
}
